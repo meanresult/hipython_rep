{
 "cells": [
  {
   "cell_type": "markdown",
   "id": "fe930c03-b3ce-4849-859a-bcf4f06d2b4e",
   "metadata": {},
   "source": [
    "# 함수\n",
    "\n",
    "- 인자 = 매개변수, 입력, 파라미터 등 정의가 필요함\n",
    "- 반환값 = 리턴값, 결과값\n",
    "- 함수이름\n",
    "\n",
    "- 정의를 먼저 해야 함 def 땡콩aka()\""
   ]
  },
  {
   "cell_type": "code",
   "execution_count": 14,
   "id": "7b65dc76-f942-4637-a88e-5d7f0b7a0622",
   "metadata": {},
   "outputs": [
    {
     "name": "stdout",
     "output_type": "stream",
     "text": [
      "신땡콩\n",
      "고라파덕\n",
      "똥강아지\n",
      "팅코\n",
      "신쿼카\n",
      "신올라프\n"
     ]
    },
    {
     "data": {
      "text/plain": [
       "NoneType"
      ]
     },
     "execution_count": 14,
     "metadata": {},
     "output_type": "execute_result"
    }
   ],
   "source": [
    "def 해림_aka():\n",
    "    print(\"신땡콩\")\n",
    "    print(\"고라파덕\")\n",
    "    print(\"똥강아지\")\n",
    "    print(\"팅코\")\n",
    "    print(\"신쿼카\")\n",
    "    print(\"신올라프\")\n",
    "\n",
    "type(해림_aka())"
   ]
  },
  {
   "cell_type": "code",
   "execution_count": 5,
   "id": "362211f9-fa82-4f74-a698-9940fb8d80ad",
   "metadata": {},
   "outputs": [
    {
     "name": "stdout",
     "output_type": "stream",
     "text": [
      "신땡콩\n",
      "고라파덕\n",
      "똥강아지\n",
      "팅코\n"
     ]
    }
   ],
   "source": [
    "# call\n",
    "해림_aka()"
   ]
  },
  {
   "cell_type": "code",
   "execution_count": 15,
   "id": "3eaf14e6-6d89-4fd3-9311-d0bdbaa251c2",
   "metadata": {},
   "outputs": [
    {
     "name": "stdout",
     "output_type": "stream",
     "text": [
      "신땡콩\n",
      "고라파덕\n",
      "똥강아지\n",
      "팅코\n",
      "신쿼카\n",
      "신올라프\n"
     ]
    }
   ],
   "source": [
    "신땡콩 = 해림_aka()\n",
    "신땡콩"
   ]
  },
  {
   "cell_type": "code",
   "execution_count": 17,
   "id": "40d380d4-79fb-4c80-96dd-21249357fd2d",
   "metadata": {},
   "outputs": [],
   "source": [
    "#리턴이 있는 경우\n",
    "\n",
    "def 해림_aka1():\n",
    "    print(\"신땡콩\")\n",
    "    print(\"고라파덕\")\n",
    "    print(\"똥강아지\")\n",
    "    print(\"팅코\")\n",
    "    print(\"신쿼카\")\n",
    "    print(\"신올라프\")\n",
    "    return '잘잤어?'"
   ]
  },
  {
   "cell_type": "code",
   "execution_count": 19,
   "id": "166a23cf-de15-4da7-b276-6322a2960d22",
   "metadata": {},
   "outputs": [
    {
     "name": "stdout",
     "output_type": "stream",
     "text": [
      "신땡콩\n",
      "고라파덕\n",
      "똥강아지\n",
      "팅코\n",
      "신쿼카\n",
      "신올라프\n"
     ]
    },
    {
     "data": {
      "text/plain": [
       "'잘잤어?'"
      ]
     },
     "execution_count": 19,
     "metadata": {},
     "output_type": "execute_result"
    }
   ],
   "source": [
    "해림_aka1()"
   ]
  },
  {
   "cell_type": "code",
   "execution_count": 21,
   "id": "6ca6ac9e-eed2-4d06-b7ed-0407d3f5ffa2",
   "metadata": {},
   "outputs": [
    {
     "name": "stdout",
     "output_type": "stream",
     "text": [
      "신땡콩\n",
      "고라파덕\n",
      "똥강아지\n",
      "팅코\n",
      "신쿼카\n",
      "신올라프\n"
     ]
    }
   ],
   "source": [
    "신땡콩 = 해림_aka1()\n"
   ]
  },
  {
   "cell_type": "code",
   "execution_count": 26,
   "id": "ae23994f-251a-43c4-ab3c-bcd21563b0a2",
   "metadata": {},
   "outputs": [
    {
     "data": {
      "text/plain": [
       "'잘잤어?'"
      ]
     },
     "execution_count": 26,
     "metadata": {},
     "output_type": "execute_result"
    }
   ],
   "source": [
    "신땡콩"
   ]
  },
  {
   "cell_type": "markdown",
   "id": "a29a245f-e162-4fba-a8b6-2e6d7e09a678",
   "metadata": {},
   "source": [
    "# 입력값이 있는 함수"
   ]
  },
  {
   "cell_type": "code",
   "execution_count": 35,
   "id": "43ef4e4f-210a-4e16-9f16-ff84fd351ea7",
   "metadata": {},
   "outputs": [],
   "source": [
    "def my_kong(x):\n",
    "    print(f'{x}아 잘잤어?')\n",
    "    z=x*20\n",
    "    return z\n",
    "    "
   ]
  },
  {
   "cell_type": "code",
   "execution_count": 32,
   "id": "13dba7ab-67e0-44bd-9924-9b4bb3fdd7aa",
   "metadata": {},
   "outputs": [
    {
     "name": "stdout",
     "output_type": "stream",
     "text": [
      "땡콩아아 잘잤어?\n"
     ]
    }
   ],
   "source": [
    "my_kong('땡콩아')"
   ]
  },
  {
   "cell_type": "code",
   "execution_count": 37,
   "id": "c29023bd-6b06-4e89-8534-6a11735b42f5",
   "metadata": {},
   "outputs": [
    {
     "name": "stdout",
     "output_type": "stream",
     "text": [
      "10아 잘잤어?\n",
      "200\n"
     ]
    }
   ],
   "source": [
    "result = my_kong(10)\n",
    "print(result)"
   ]
  },
  {
   "cell_type": "code",
   "execution_count": 38,
   "id": "6353c198-34e2-4781-bc10-31cd684153de",
   "metadata": {},
   "outputs": [],
   "source": [
    "def my_kong2(x,y):\n",
    "    print(f'{x}와 {y}를 계산합니다.')\n",
    "    add_result = x+y\n",
    "    mul_result = x*y\n",
    "    return add_result, mul_result"
   ]
  },
  {
   "cell_type": "code",
   "execution_count": 40,
   "id": "59da0543-db40-41e4-ba5a-450e8f1a7096",
   "metadata": {},
   "outputs": [
    {
     "name": "stdout",
     "output_type": "stream",
     "text": [
      "10와 20를 계산합니다.\n"
     ]
    },
    {
     "data": {
      "text/plain": [
       "(30, 200)"
      ]
     },
     "execution_count": 40,
     "metadata": {},
     "output_type": "execute_result"
    }
   ],
   "source": [
    "my_kong2(10,20)"
   ]
  },
  {
   "cell_type": "code",
   "execution_count": 41,
   "id": "000c1c99-0e7b-4341-ad80-4e4ba30a7243",
   "metadata": {},
   "outputs": [
    {
     "name": "stdout",
     "output_type": "stream",
     "text": [
      "10와 20를 계산합니다.\n"
     ]
    },
    {
     "ename": "TypeError",
     "evalue": "'tuple' object does not support item assignment",
     "output_type": "error",
     "traceback": [
      "\u001b[31m---------------------------------------------------------------------------\u001b[39m",
      "\u001b[31mTypeError\u001b[39m                                 Traceback (most recent call last)",
      "\u001b[36mCell\u001b[39m\u001b[36m \u001b[39m\u001b[32mIn[41]\u001b[39m\u001b[32m, line 2\u001b[39m\n\u001b[32m      1\u001b[39m func_result = my_kong2(\u001b[32m10\u001b[39m,\u001b[32m20\u001b[39m)\n\u001b[32m----> \u001b[39m\u001b[32m2\u001b[39m func_result[\u001b[32m0\u001b[39m] = \u001b[32m100\u001b[39m\n",
      "\u001b[31mTypeError\u001b[39m: 'tuple' object does not support item assignment"
     ]
    }
   ],
   "source": [
    "func_result = my_kong2(10,20)\n",
    "func_result[0] = 100 # 이건 튜플이어서 변경 불가 "
   ]
  },
  {
   "cell_type": "code",
   "execution_count": 45,
   "id": "0d3202dd-0649-44bc-99a8-f65b05ab283f",
   "metadata": {},
   "outputs": [
    {
     "name": "stdout",
     "output_type": "stream",
     "text": [
      "10와 20를 계산합니다.\n"
     ]
    },
    {
     "data": {
      "text/plain": [
       "30"
      ]
     },
     "execution_count": 45,
     "metadata": {},
     "output_type": "execute_result"
    }
   ],
   "source": [
    "func_result1, f2 = my_kong2(10,20) # unpacking 언팩킹 가능\n",
    "func_result1"
   ]
  },
  {
   "cell_type": "code",
   "execution_count": 46,
   "id": "b51512fe-0628-4a1b-a80d-7757c627d5ca",
   "metadata": {},
   "outputs": [
    {
     "data": {
      "text/plain": [
       "200"
      ]
     },
     "execution_count": 46,
     "metadata": {},
     "output_type": "execute_result"
    }
   ],
   "source": [
    "f2"
   ]
  },
  {
   "cell_type": "markdown",
   "id": "7db83a9b-4fe8-4c1c-ba0e-0973e6109d27",
   "metadata": {},
   "source": [
    "## 입력값의 타입: 수치형 vs (리스트) 객체형\n",
    "\n",
    "수치형: 값에 의해 전달 call by value\n",
    "객체형: 값(참조)의 전달 call by reference > 같은 객체를 다룬다 "
   ]
  },
  {
   "cell_type": "code",
   "execution_count": 71,
   "id": "8fb77d2d-d5a5-4c19-add1-850101dd7165",
   "metadata": {},
   "outputs": [],
   "source": [
    "#리스트 매개변수의 실행 \n",
    "def my_kong3(a, lst1):\n",
    "    a+=1\n",
    "    lst1.append(a)\n",
    "    return a\n",
    "    "
   ]
  },
  {
   "cell_type": "code",
   "execution_count": 73,
   "id": "ce2de676-fece-4319-a5bc-a4949699f055",
   "metadata": {},
   "outputs": [
    {
     "name": "stdout",
     "output_type": "stream",
     "text": [
      "before : 10, [1, 2, '12']\n",
      "after : 10, [1, 2, '12', 11]\n"
     ]
    }
   ],
   "source": [
    "num = 10\n",
    "lst_num = [1,2,'12']\n",
    "print(f'before : {num}, {lst_num}')\n",
    "\n",
    "my_kong3(10,lst_num)\n",
    "print(f'after : {num}, {lst_num}') # 에프터 값이 10,[1,2, '12',11]나와야 함 "
   ]
  },
  {
   "cell_type": "code",
   "execution_count": 66,
   "id": "d47c0722-6f0c-425e-8ef5-ed2c6e51302a",
   "metadata": {},
   "outputs": [
    {
     "data": {
      "text/plain": [
       "11"
      ]
     },
     "execution_count": 66,
     "metadata": {},
     "output_type": "execute_result"
    }
   ],
   "source": [
    "my_kong3(a=num, lst1=lst_num)"
   ]
  },
  {
   "cell_type": "raw",
   "id": "3e47b5b9-556e-4064-b27d-644da55d5acf",
   "metadata": {},
   "source": [
    "키워드매개변수 : 함수의 매개변수 목록은 변수명이 매개변수 명이다\n",
    "\n",
    "매개변수명을 이용한 호출은 매개변수의 순서와 무관하다"
   ]
  },
  {
   "cell_type": "code",
   "execution_count": 74,
   "id": "8368a011-86f5-45a7-a346-78d0d908bebe",
   "metadata": {},
   "outputs": [
    {
     "data": {
      "text/plain": [
       "11"
      ]
     },
     "execution_count": 74,
     "metadata": {},
     "output_type": "execute_result"
    }
   ],
   "source": [
    "my_kong3(lst1=lst_num,a=num)"
   ]
  },
  {
   "cell_type": "code",
   "execution_count": 85,
   "id": "8a4eb132-9b9b-4520-b91f-5f47b579c6bb",
   "metadata": {},
   "outputs": [],
   "source": [
    "def greeting(name, greeting='안녕'):\n",
    "    print(f'{greeting}, {name}님!')"
   ]
  },
  {
   "cell_type": "code",
   "execution_count": 83,
   "id": "1243916e-d825-425b-b193-4cbe79f9905a",
   "metadata": {},
   "outputs": [
    {
     "name": "stdout",
     "output_type": "stream",
     "text": [
      "안녕하십니까, 신쿼카님!\n"
     ]
    }
   ],
   "source": [
    "greeting('신쿼카', '안녕하십니까')"
   ]
  },
  {
   "cell_type": "code",
   "execution_count": 87,
   "id": "5b0421ef-d855-47ce-917c-5661c967b91a",
   "metadata": {},
   "outputs": [
    {
     "name": "stdout",
     "output_type": "stream",
     "text": [
      "안녕, 한지훈님!\n"
     ]
    }
   ],
   "source": [
    "greeting('한지훈')"
   ]
  },
  {
   "cell_type": "code",
   "execution_count": 94,
   "id": "2d14618c-bf3b-4db9-b82d-d0142aa677b8",
   "metadata": {},
   "outputs": [],
   "source": [
    "#가변인자\n",
    "\n",
    "def sum_all(*args):\n",
    "    return sum(args)"
   ]
  },
  {
   "cell_type": "code",
   "execution_count": 95,
   "id": "ddbebdf2-2f82-41d2-a323-29495b0ac0f0",
   "metadata": {},
   "outputs": [
    {
     "data": {
      "text/plain": [
       "54"
      ]
     },
     "execution_count": 95,
     "metadata": {},
     "output_type": "execute_result"
    }
   ],
   "source": [
    "sum_all(1,2,3,4,5,6,7,8,9,9)"
   ]
  },
  {
   "cell_type": "code",
   "execution_count": 97,
   "id": "12d49997-36b6-4dbd-a389-d85d9d6d48f0",
   "metadata": {},
   "outputs": [],
   "source": [
    "def sum_all(arg1, arg2, *args): #*args의 '*'의 의미는 이 뒤에있는 것들은 다 받아버려 \n",
    "    result = arg1+arg2+sum(args)`\n",
    "    return result"
   ]
  },
  {
   "cell_type": "code",
   "execution_count": 99,
   "id": "cf0a6e38-1f41-41e6-99d8-114177d73330",
   "metadata": {},
   "outputs": [
    {
     "data": {
      "text/plain": [
       "21"
      ]
     },
     "execution_count": 99,
     "metadata": {},
     "output_type": "execute_result"
    }
   ],
   "source": [
    "sum_all(1,2,3,4,5,6)"
   ]
  },
  {
   "cell_type": "markdown",
   "id": "020ccc65-a0b1-462c-abc4-a876adc855a8",
   "metadata": {},
   "source": [
    "매개 변수의 순서가 중요"
   ]
  },
  {
   "cell_type": "code",
   "execution_count": 109,
   "id": "16c47ca3-6c13-43c6-8197-f4f7fcd70026",
   "metadata": {},
   "outputs": [],
   "source": [
    "## **kargs\n",
    "\n",
    "def print_info(**kargs):\n",
    "    for k,v in kargs.items():\n",
    "        print(f'{k}, {v}')"
   ]
  },
  {
   "cell_type": "code",
   "execution_count": 111,
   "id": "7f5282a2-5f24-4c80-9a5a-1f1c04e2755b",
   "metadata": {},
   "outputs": [
    {
     "name": "stdout",
     "output_type": "stream",
     "text": [
      "name, 한지훈\n",
      "age, 22\n",
      "city, seoul\n",
      "nick_name, hi\n"
     ]
    }
   ],
   "source": [
    "print_info(name ='한지훈', age=22, city='seoul', nick_name='hi')"
   ]
  },
  {
   "cell_type": "markdown",
   "id": "f643b58a-ba5f-4cc3-a508-90ac0343d899",
   "metadata": {},
   "source": [
    "## 요일 구하는 함수 정의\n",
    "\n",
    "- 입력:yeat, month, day\n",
    "- 출력: '월요일'\n",
    "- 함수명: 요일찾기()"
   ]
  },
  {
   "cell_type": "code",
   "execution_count": 13,
   "id": "d980038a-83d4-48f3-a7cc-eb5693125315",
   "metadata": {},
   "outputs": [],
   "source": [
    "year = 2025 \n",
    "month = 6 \n",
    "day = 5"
   ]
  },
  {
   "cell_type": "code",
   "execution_count": 14,
   "id": "0fcb2731-70e3-40ea-8a88-39c3282cd090",
   "metadata": {},
   "outputs": [
    {
     "ename": "ZeroDivisionError",
     "evalue": "integer modulo by zero",
     "output_type": "error",
     "traceback": [
      "\u001b[31m---------------------------------------------------------------------------\u001b[39m",
      "\u001b[31mZeroDivisionError\u001b[39m                         Traceback (most recent call last)",
      "\u001b[36mCell\u001b[39m\u001b[36m \u001b[39m\u001b[32mIn[14]\u001b[39m\u001b[32m, line 14\u001b[39m\n\u001b[32m     12\u001b[39m \u001b[38;5;28;01mif\u001b[39;00m i%\u001b[32m400\u001b[39m == \u001b[32m0\u001b[39m:\n\u001b[32m     13\u001b[39m     total_days += \u001b[32m366\u001b[39m\n\u001b[32m---> \u001b[39m\u001b[32m14\u001b[39m \u001b[38;5;28;01melif\u001b[39;00m i%\u001b[32m00\u001b[39m == \u001b[32m0\u001b[39m:\n\u001b[32m     15\u001b[39m     total_days += \u001b[32m365\u001b[39m\n\u001b[32m     16\u001b[39m \u001b[38;5;28;01melif\u001b[39;00m i%\u001b[32m4\u001b[39m == \u001b[32m0\u001b[39m:\n",
      "\u001b[31mZeroDivisionError\u001b[39m: integer modulo by zero"
     ]
    }
   ],
   "source": [
    "#날짜 - 연,월, 일 필요 year=2025 month=06 day=05\n",
    "\n",
    "total_days = 0\n",
    "#년도일수 입력년도- 1*365\n",
    "#윤년인지 체크\n",
    "#2월이 29일\n",
    "\n",
    "for i in range(1,year):\n",
    "    #윤년: 400으로 나누어 나머지가 0, 4로 나누어 나머지가 0\n",
    "    #평년: 100으로 나누어 나머지가 0\n",
    "\n",
    "    if i%400 == 0:\n",
    "        total_days += 366\n",
    "    elif i%00 == 0:\n",
    "        total_days += 365\n",
    "    elif i%4 == 0:\n",
    "        total_days += 366\n",
    "    else:\n",
    "        total_days += 365\n",
    "\n",
    "print(total_days)\n",
    "\n",
    "#월일수 입력한 월 1*30\n",
    "#월별 일수\n",
    "\n",
    "#일수 입력한 일 \n",
    "\n",
    "\n",
    "    "
   ]
  },
  {
   "cell_type": "code",
   "execution_count": 16,
   "id": "f4c494f8-e3af-4fbd-9815-a3f43cd208d5",
   "metadata": {},
   "outputs": [
    {
     "name": "stdout",
     "output_type": "stream",
     "text": [
      "738760\n",
      "738912\n",
      "목요일\n"
     ]
    }
   ],
   "source": [
    "\n",
    "\n",
    "total_days = 0\n",
    "#년도일수 입력년도-1 * 365\n",
    "#윤년인지 체크\n",
    "#2월이 29일\n",
    "\n",
    "for i in range(1,year):\n",
    "    #윤년: 400으로 나누어 나머지가 0, 4로 나누어 나머지가 0\n",
    "    #평년: 100으로 나누어 나머지가 0\n",
    "\n",
    "    if year%400 == 0:\n",
    "        total_days += 366\n",
    "    elif year%100 == 0:\n",
    "        total_days += 365\n",
    "    elif year%4 == 0:\n",
    "        total_days += 366\n",
    "    else:\n",
    "        total_days += 365\n",
    "\n",
    "print(total_days)\n",
    "#월일수 입력한 월 -1 * 30\n",
    "month_days = [0,31,28,31,30,31,30,31,31,30,31,30,31]\n",
    "for m in range(1,month):\n",
    "    total_days += month_days[m]\n",
    "#올해가 윤년이면 \n",
    "if month>3 :\n",
    "    if i%400 == 0:\n",
    "        total_days += 1\n",
    "    elif i%100 == 0:\n",
    "        total_days += 0\n",
    "    elif i%4 == 0:\n",
    "        total_days += 1\n",
    "    else:\n",
    "        total_days += 0\n",
    "\n",
    "print(total_days)\n",
    "#일수 입력한 일 \n",
    "total_days += day\n",
    "\n",
    "#요일정하기\n",
    "remain_days = total_days%7\n",
    "\n",
    "if remain_days == 1:\n",
    "    print('월요일')\n",
    "elif remain_days == 2:\n",
    "    print('화요일')\n",
    "elif remain_days == 3:\n",
    "    print('수요일')\n",
    "elif remain_days == 4:\n",
    "    print('목요일')\n",
    "elif remain_days == 5:\n",
    "    print('금요일')\n",
    "elif remain_days == 6:\n",
    "    print('토요일')\n",
    "elif remain_days == 7:\n",
    "    print('월요일')"
   ]
  },
  {
   "cell_type": "code",
   "execution_count": 18,
   "id": "38c52a20-014c-4da4-a7c1-2224519ab8c2",
   "metadata": {},
   "outputs": [
    {
     "name": "stdout",
     "output_type": "stream",
     "text": [
      "739251\n",
      "739403\n",
      "739408\n"
     ]
    }
   ],
   "source": [
    "\n",
    "total_days = 0\n",
    "#년도일수 입력년도-1 * 365\n",
    "#윤년인지 체크\n",
    "#2월이 29일\n",
    "\n",
    "for i in range(1,year):\n",
    "    #윤년: 400으로 나누어 나머지가 0, 4로 나누어 나머지가 0\n",
    "    #평년: 100으로 나누어 나머지가 0\n",
    "\n",
    "    if i%400 == 0:\n",
    "        total_days += 366\n",
    "    elif i%100 == 0:\n",
    "        total_days += 365\n",
    "    elif i%4 == 0:\n",
    "        total_days += 366\n",
    "    else:\n",
    "        total_days += 365\n",
    "\n",
    "print(total_days)\n",
    "#월일수 입력한 월 -1 * 30\n",
    "#월별 일수\n",
    "month_days = [0,31,28,31,30,31,30,31,31,30,31,30,31]\n",
    "for m in range(1,month):\n",
    "    total_days += month_days[m]\n",
    "\n",
    "#올해가 윤년인지\n",
    "if month>3 :\n",
    "    if i%400 == 0:\n",
    "        total_days += 1\n",
    "    elif i%100 == 0:\n",
    "        total_days += 0\n",
    "    elif i%4 == 0:\n",
    "        total_days += 1\n",
    "    else:\n",
    "        total_days += 0\n",
    "\n",
    "print(total_days)\n",
    "\n",
    "#일수 입력한 일\n",
    "total_days += day\n",
    "\n",
    "print(total_days)"
   ]
  },
  {
   "cell_type": "code",
   "execution_count": 21,
   "id": "75053f9d-a37d-4400-a979-bb891e724778",
   "metadata": {},
   "outputs": [
    {
     "name": "stdout",
     "output_type": "stream",
     "text": [
      "739251\n",
      "739402\n",
      "739407\n",
      "목요일\n"
     ]
    }
   ],
   "source": [
    "year = 2025\n",
    "month = 6 \n",
    "day = 5\n",
    "\n",
    "total_days = 0\n",
    "#년도일수 입력년도-1 * 365\n",
    "#윤년인지 체크\n",
    "#2월이 29일\n",
    "\n",
    "for i in range(1,year): #이번년까지의 합 \n",
    "    #윤년: 400으로 나누어 나머지가 0, 4로 나누어 나머지가 0\n",
    "    #평년: 100으로 나누어 나머지가 0\n",
    "\n",
    "    if i%400 == 0:\n",
    "        total_days += 366\n",
    "    elif i%100 == 0:\n",
    "        total_days += 365\n",
    "    elif i%4 == 0:\n",
    "        total_days += 366\n",
    "    else:\n",
    "        total_days += 365\n",
    "\n",
    "print(total_days)\n",
    "#월일수 입력한 월 -1 * 30\n",
    "#월별 일수\n",
    "month_days = [0,31,28,31,30,31,30,31,31,30,31,30,31] #이번달까지의 일자 수 합\n",
    "for m in range(1,month):\n",
    "    total_days += month_days[m]\n",
    "\n",
    "#올해가 윤년인지 추가로 확인해서 윤년이면 하루를 더해줘야 함 \n",
    "if month>=3 :\n",
    "    if year%400 == 0:\n",
    "        total_days += 1\n",
    "    elif year%100 == 0:\n",
    "        total_days += 0\n",
    "    elif year%4 == 0:\n",
    "        total_days += 1\n",
    "    else:\n",
    "        total_days += 0\n",
    "\n",
    "print(total_days)\n",
    "\n",
    "#일수 입력한 일\n",
    "total_days += day #(오늘자 일 수)\n",
    "\n",
    "print(total_days)\n",
    "\n",
    "#요일정하기\n",
    "remain_days = total_days % 7 # 총 일자를 7로 나눠서 남은 숫자가 해당 요일 \n",
    "\n",
    "if remain_days == 1:\n",
    "    print('월요일')\n",
    "elif remain_days == 2:\n",
    "    print('화요일')\n",
    "elif remain_days == 3:\n",
    "    print('수요일')\n",
    "elif remain_days == 4:\n",
    "    print('목요일')\n",
    "elif remain_days == 5:\n",
    "    print('금요일')\n",
    "elif remain_days == 6:\n",
    "    print('토요일')\n",
    "else:\n",
    "    print('일요일')"
   ]
  },
  {
   "cell_type": "code",
   "execution_count": null,
   "id": "d31ec1c7-2c44-4b14-a3c8-f78acb19f856",
   "metadata": {},
   "outputs": [],
   "source": [
    "year = 2025\n",
    "month = 6 \n",
    "day = 5\n",
    "\n",
    "total_days = 0\n",
    "#년도일수 입력년도-1 * 365\n",
    "#윤년인지 체크\n",
    "#2월이 29일\n",
    "\n",
    "for i in range(1,year): #이번년까지의 합 \n",
    "    #윤년: 400으로 나누어 나머지가 0, 4로 나누어 나머지가 0\n",
    "    #평년: 100으로 나누어 나머지가 0\n",
    "\n",
    "    if i%400 == 0:\n",
    "        total_days += 366\n",
    "    elif i%100 == 0:\n",
    "        total_days += 365\n",
    "    elif i%4 == 0:\n",
    "        total_days += 366\n",
    "    else:\n",
    "        total_days += 365\n",
    "\n",
    "print(total_days)\n",
    "#월일수 입력한 월 -1 * 30\n",
    "#월별 일수\n",
    "month_days = [0,31,28,31,30,31,30,31,31,30,31,30,31] #이번달까지의 일자 수 합\n",
    "for m in range(1,month):\n",
    "    total_days += month_days[m]\n",
    "\n",
    "#올해가 윤년인지 추가로 확인해서 윤년이면 하루를 더해줘야 함 \n",
    "if month>=3 :\n",
    "    if year%400 == 0:\n",
    "        total_days += 1\n",
    "    elif year%100 == 0:\n",
    "        total_days += 0\n",
    "    elif year%4 == 0:\n",
    "        total_days += 1\n",
    "    else:\n",
    "        total_days += 0\n",
    "\n",
    "print(total_days)\n",
    "\n",
    "#일수 입력한 일\n",
    "total_days += day #(오늘자 일 수)\n",
    "\n",
    "print(total_days)\n",
    "\n",
    "#요일정하기\n",
    "remain_days = total_days % 7 # 총 일자를 7로 나눠서 남은 숫자가 해당 요일 \n",
    "\n",
    "if remain_days == 1:\n",
    "    print('월요일')\n",
    "elif remain_days == 2:\n",
    "    print('화요일')\n",
    "elif remain_days == 3:\n",
    "    print('수요일')\n",
    "elif remain_days == 4:\n",
    "    print('목요일')\n",
    "elif remain_days == 5:\n",
    "    print('금요일')\n",
    "elif remain_days == 6:\n",
    "    print('토요일')\n",
    "else:\n",
    "    print('일요일')"
   ]
  },
  {
   "cell_type": "code",
   "execution_count": 25,
   "id": "0619a953-f2e9-48fb-b023-862d5a22b963",
   "metadata": {},
   "outputs": [
    {
     "data": {
      "text/plain": [
       "3"
      ]
     },
     "execution_count": 25,
     "metadata": {},
     "output_type": "execute_result"
    }
   ],
   "source": [
    "import datetime\n",
    "today = datetime.date(2025,6,5)\n",
    "\n",
    "today.weekday()"
   ]
  },
  {
   "cell_type": "code",
   "execution_count": 29,
   "id": "c6e2f2bd-6abb-444d-8712-aa6722c81712",
   "metadata": {},
   "outputs": [],
   "source": [
    "def 요일찾기(year, month, day):\n",
    "    week_day_name = '일요일'\n",
    "\n",
    "    return week_day_name"
   ]
  },
  {
   "cell_type": "code",
   "execution_count": 27,
   "id": "3fbacefd-f025-4f4a-b755-5d602e2cbe9f",
   "metadata": {},
   "outputs": [],
   "source": [
    "year = 2025\n",
    "month = 6 \n",
    "day = 5\n",
    "\n",
    "day_name = 요일찾기(year, month, day)\n",
    "\n",
    "print(f'입력하신 날짜는 {day_name}')"
   ]
  },
  {
   "cell_type": "code",
   "execution_count": 44,
   "id": "0f1158e7-bcad-40f4-b9dc-99b1ee5e5949",
   "metadata": {},
   "outputs": [
    {
     "name": "stdout",
     "output_type": "stream",
     "text": [
      "739251\n",
      "739402\n",
      "739407\n"
     ]
    },
    {
     "ename": "SyntaxError",
     "evalue": "'return' outside function (2237693280.py, line 47)",
     "output_type": "error",
     "traceback": [
      "  \u001b[36mCell\u001b[39m\u001b[36m \u001b[39m\u001b[32mIn[44]\u001b[39m\u001b[32m, line 47\u001b[39m\n\u001b[31m    \u001b[39m\u001b[31mreturn week_day_name\u001b[39m\n    ^\n\u001b[31mSyntaxError\u001b[39m\u001b[31m:\u001b[39m 'return' outside function\n"
     ]
    }
   ],
   "source": [
    "year = 2025\n",
    "month = 6 \n",
    "day = 5\n",
    "\n",
    "total_days = 0\n",
    "#년도일수 입력년도-1 * 365\n",
    "#윤년인지 체크\n",
    "#2월이 29일\n",
    "\n",
    "for i in range(1,year): #이번년까지의 합 \n",
    "    #윤년: 400으로 나누어 나머지가 0, 4로 나누어 나머지가 0\n",
    "    #평년: 100으로 나누어 나머지가 0\n",
    "\n",
    "    if i%400 == 0:\n",
    "        total_days += 366\n",
    "    elif i%100 == 0:\n",
    "        total_days += 365\n",
    "    elif i%4 == 0:\n",
    "        total_days += 366\n",
    "    else:\n",
    "        total_days += 365\n",
    "\n",
    "print(total_days)\n",
    "#월일수 입력한 월 -1 * 30\n",
    "#월별 일수\n",
    "month_days = [0,31,28,31,30,31,30,31,31,30,31,30,31] #이번달까지의 일자 수 합\n",
    "for m in range(1,month):\n",
    "    total_days += month_days[m]\n",
    "\n",
    "#올해가 윤년인지 추가로 확인해서 윤년이면 하루를 더해줘야 함 \n",
    "if month>=3 :\n",
    "    if 윤년체크(year):\n",
    "        total_days += 1\n",
    "    \n",
    "print(total_days)\n",
    "\n",
    "#일수 입력한 일\n",
    "total_days += day #(오늘자 일 수)\n",
    "\n",
    "print(total_days)\n",
    "\n",
    "#요일정하기\n",
    "remain_days = total_days % 7 # 총 일자를 7로 나눠서 남은 숫자가 해당 요일\n",
    "day_names = ['일요일','월요일','화요일','수요일','목요일','금요일','토요일']\n",
    "week_day_name = day_names[remain_days]\n",
    "\n",
    "return week_day_name"
   ]
  },
  {
   "cell_type": "code",
   "execution_count": 43,
   "id": "81680627-f656-4edf-a679-a3a6f362d70f",
   "metadata": {},
   "outputs": [],
   "source": [
    "def 윤년체크(year):\n",
    "\n",
    "    if year%400 == 0:\n",
    "        return True\n",
    "    elif year%100 == 0:\n",
    "        return False\n",
    "    elif year%4 == 0:\n",
    "        return True\n",
    "    else:\n",
    "        return False\n",
    "        \n",
    "    return 윤년여부"
   ]
  },
  {
   "cell_type": "code",
   "execution_count": 45,
   "id": "c670909a-8d5a-48ff-8288-e0d29a0efb0e",
   "metadata": {},
   "outputs": [],
   "source": [
    "def 요일찾기(year, month, day):\n",
    "    week_day_name = '일요일'\n",
    "    total_days = 0\n",
    "\n",
    "    for i in range(1,year):\n",
    "\n",
    "        if 윤년체크(i):\n",
    "            total_days += 366\n",
    "        else :\n",
    "            total_days += 365\n",
    "\n",
    "    #print(total_days)\n",
    "\n",
    "    #월일수 입력한 월 -1 * 30\n",
    "    #월별 일수\n",
    "    month_days = [0,31,28,31,30,31,30,31,31,30,31,30,31]\n",
    "    for m in range(1,month):\n",
    "        total_days += month_days[m]\n",
    "\n",
    "    #올해가 윤년인지\n",
    "    if month>=3 :\n",
    "        if 윤년체크(year):\n",
    "            total_days += 1\n",
    "\n",
    "    #print(total_days)\n",
    "\n",
    "    #일수 입력한 일\n",
    "    total_days += day\n",
    "\n",
    "    #print(total_days)\n",
    "\n",
    "    #요일정하기\n",
    "    remain_days = total_days % 7\n",
    "\n",
    "    day_names = ['일요일','월요일','화요일','수요일','목요일','금요일','토요일']\n",
    "    week_day_name = day_names[remain_days]\n",
    "\n",
    "\n",
    "    return week_day_name"
   ]
  },
  {
   "cell_type": "code",
   "execution_count": 46,
   "id": "0e01b8ca-8909-46dc-9a86-09308e567b9a",
   "metadata": {},
   "outputs": [
    {
     "name": "stdout",
     "output_type": "stream",
     "text": [
      "입력하신 날짜는 목요일\n"
     ]
    }
   ],
   "source": [
    "year = 2025\n",
    "month = 6 \n",
    "day = 5\n",
    "\n",
    "day_name = 요일찾기(year, month, day)\n",
    "\n",
    "print(f'입력하신 날짜는 {day_name}')"
   ]
  },
  {
   "cell_type": "markdown",
   "id": "5a4365a4-f8f4-4817-9767-5d6c4fdf646d",
   "metadata": {},
   "source": [
    "# 성적처리 시스템\n",
    "\n",
    "- calc_total()\n",
    "- calc_average()\n",
    "- calc_order()\n",
    "\n",
    "- print_student(students) : 전학생의 성적을 출력\n",
    "- print_class() : 반평균, 각 과목별 평균 출력 "
   ]
  },
  {
   "cell_type": "code",
   "execution_count": 95,
   "id": "38334b10-71e2-4147-9266-56ea74117643",
   "metadata": {},
   "outputs": [],
   "source": [
    "students = [\n",
    "               {'num':'1','name':'김철수','kor':90,'eng':80,'math':85,'total':0,'avg':0.0,'order':0 },\n",
    "               {'num':'2','name':'박제동','kor':90,'eng':85,'math':90,'total':0,'avg':0.0,'order':0 },\n",
    "               {'num':'3','name':'홍길동','kor':80,'eng':80,'math':80,'total':0,'avg':0.0,'order':0 }\n",
    "           ]"
   ]
  },
  {
   "cell_type": "code",
   "execution_count": 103,
   "id": "5c63251e-92f2-4c7b-a876-b468013a7aa2",
   "metadata": {},
   "outputs": [],
   "source": [
    "def calc_total(stus) :\n",
    "    for s in stus:\n",
    "        s['total'] = s['kor'] + s['eng'] + s['math']"
   ]
  },
  {
   "cell_type": "code",
   "execution_count": 104,
   "id": "5bc20a21-13ae-481c-a502-1421f9e909c1",
   "metadata": {},
   "outputs": [],
   "source": [
    "def  calc_average(stus) :\n",
    "    for a in stus:\n",
    "        a['avg'] = a['total'] / len(a)-5\n"
   ]
  },
  {
   "cell_type": "code",
   "execution_count": 107,
   "id": "35947669-e67c-4043-b6b1-e1c029cb6428",
   "metadata": {},
   "outputs": [],
   "source": [
    "def calc_order(stus):\n",
    "    for student in stus :\n",
    "        rank=1\n",
    "        for other in stus :\n",
    "            if other['total'] > student['total']:\n",
    "                rank += 1\n",
    "        student['order'] = rank\n",
    "        "
   ]
  },
  {
   "cell_type": "code",
   "execution_count": 109,
   "id": "0260c83a-3dc1-4fd5-8e96-b3a245b4eeb2",
   "metadata": {},
   "outputs": [],
   "source": [
    "def print_student(stus):\n",
    "    for s in stus:\n",
    "        print(f'{s['name']},국어:{s['kor']}, 영어:{s['eng']},수학:{s['math']}, 등수{s['order']}')"
   ]
  },
  {
   "cell_type": "code",
   "execution_count": 117,
   "id": "4129613c-c813-494f-816a-2c4538722c9c",
   "metadata": {},
   "outputs": [],
   "source": [
    "def print_class(stus):\n",
    "    #반평균\n",
    "    class_avg =0\n",
    "    count = len(stus)\n",
    "    \n",
    "    total = sum(student['total'] for student in stus)\n",
    "    class_avg = total/count/3\n",
    "    kor_avg =sum(student['kor'] for student in stus)/count\n",
    "    eng_avg = sum(student['eng'] for student in stus)/count\n",
    "    math_avg = sum(student['math'] for student in stus)/count\n",
    "    #각 과목별 평균 출력\n",
    "    print(f'반평균: {class_avg} 국어: {kor_avg} 영어: {eng_avg} 수학: {math_avg}')"
   ]
  },
  {
   "cell_type": "code",
   "execution_count": 118,
   "id": "1cccea61-64bc-4534-ac73-f1280a9bbb56",
   "metadata": {},
   "outputs": [
    {
     "name": "stdout",
     "output_type": "stream",
     "text": [
      "김철수,국어:90, 영어:80,수학:85, 등수2\n",
      "박제동,국어:90, 영어:85,수학:90, 등수1\n",
      "홍길동,국어:80, 영어:80,수학:80, 등수3\n",
      "반평균: 84.44444444444444 국어: 86.66666666666667 영어: 81.66666666666667 수학: 85.0\n"
     ]
    }
   ],
   "source": [
    "calc_total(students)\n",
    "calc_average(students)\n",
    "calc_order(students)\n",
    "print_student(students)\n",
    "print_class(students)"
   ]
  },
  {
   "cell_type": "markdown",
   "id": "d38fac02-60d1-4a11-ad28-b06a989ded9c",
   "metadata": {},
   "source": [
    "# 람다 함수\n",
    "\n",
    "선언 >> lamda <매개변수> : 코드<br>\n",
    "호출 >> (lamda <매개변수>: 코드) (매개변수값)"
   ]
  },
  {
   "cell_type": "code",
   "execution_count": 3,
   "id": "404ffc86-d685-4c87-9a99-4aaa640559f0",
   "metadata": {},
   "outputs": [],
   "source": [
    "def aaa(a):\n",
    "    result = a+1 \n",
    "    return result\n",
    "\n"
   ]
  },
  {
   "cell_type": "code",
   "execution_count": 5,
   "id": "3e02ffd6-e2e3-4d61-9a1c-03c518072f18",
   "metadata": {},
   "outputs": [
    {
     "data": {
      "text/plain": [
       "<function __main__.<lambda>(a)>"
      ]
     },
     "execution_count": 5,
     "metadata": {},
     "output_type": "execute_result"
    }
   ],
   "source": [
    "lambda a : a+1"
   ]
  },
  {
   "cell_type": "code",
   "execution_count": 6,
   "id": "7e5c12ac-a597-4994-a900-8c9c32d0d50e",
   "metadata": {},
   "outputs": [
    {
     "data": {
      "text/plain": [
       "5"
      ]
     },
     "execution_count": 6,
     "metadata": {},
     "output_type": "execute_result"
    }
   ],
   "source": [
    "(lambda a : a+1)(4) #람다의 정의 즉시 호출"
   ]
  },
  {
   "cell_type": "code",
   "execution_count": 7,
   "id": "d2592407-9675-45ed-ac2f-87d6cf27947f",
   "metadata": {},
   "outputs": [
    {
     "data": {
      "text/plain": [
       "6"
      ]
     },
     "execution_count": 7,
     "metadata": {},
     "output_type": "execute_result"
    }
   ],
   "source": [
    "my_lambda = lambda a : a+1 # 람다의 재정의 \n",
    "my_lambda(5)"
   ]
  },
  {
   "cell_type": "code",
   "execution_count": 11,
   "id": "c2ec0e56-d6b3-4805-ac31-0fc758e63564",
   "metadata": {},
   "outputs": [
    {
     "data": {
      "text/plain": [
       "11"
      ]
     },
     "execution_count": 11,
     "metadata": {},
     "output_type": "execute_result"
    }
   ],
   "source": [
    "def sum1(a,b):\n",
    "    return a+b\n",
    "sum1(5,6)\n",
    "\n"
   ]
  },
  {
   "cell_type": "code",
   "execution_count": 9,
   "id": "b338da9d-b335-49db-9456-2176b72d1f2d",
   "metadata": {},
   "outputs": [
    {
     "data": {
      "text/plain": [
       "11"
      ]
     },
     "execution_count": 9,
     "metadata": {},
     "output_type": "execute_result"
    }
   ],
   "source": [
    "(lambda a,b : a+b) (5,6)"
   ]
  },
  {
   "cell_type": "code",
   "execution_count": 13,
   "id": "687ea7de-8c78-4203-90e4-cc88c191acc5",
   "metadata": {},
   "outputs": [
    {
     "data": {
      "text/plain": [
       "3"
      ]
     },
     "execution_count": 13,
     "metadata": {},
     "output_type": "execute_result"
    }
   ],
   "source": [
    "def calc_func(a,b,opr): # 사칙연산 해보기\n",
    "    result = opr (a,b)\n",
    "    return result\n",
    "\n",
    "calc_func(1,2, lambda x,y : x+y)"
   ]
  },
  {
   "cell_type": "code",
   "execution_count": 16,
   "id": "4088f26f-2e52-4c67-9fe5-2ecd3e0f67cb",
   "metadata": {},
   "outputs": [
    {
     "data": {
      "text/plain": [
       "['APPLE', 'BANANA', 'CHETTY']"
      ]
     },
     "execution_count": 16,
     "metadata": {},
     "output_type": "execute_result"
    }
   ],
   "source": [
    "#map 함수 \n",
    "fruits = [ 'apple', 'banana', 'chetty']\n",
    "#str.uuper\n",
    "#fruits[0].upper()\n",
    "\n",
    "list(map(str.upper, fruits))"
   ]
  },
  {
   "cell_type": "code",
   "execution_count": null,
   "id": "e8305c10-ecbe-4498-af90-408f1fc5d59b",
   "metadata": {},
   "outputs": [],
   "source": [
    "str_number ='12345'\n",
    "list(str_number)# 문자열 리스트"
   ]
  },
  {
   "cell_type": "code",
   "execution_count": 17,
   "id": "499e04a3-1338-4c4a-81d5-2c3e480dcd86",
   "metadata": {},
   "outputs": [
    {
     "ename": "NameError",
     "evalue": "name 'str_number' is not defined",
     "output_type": "error",
     "traceback": [
      "\u001b[31m---------------------------------------------------------------------------\u001b[39m",
      "\u001b[31mNameError\u001b[39m                                 Traceback (most recent call last)",
      "\u001b[36mCell\u001b[39m\u001b[36m \u001b[39m\u001b[32mIn[17]\u001b[39m\u001b[32m, line 1\u001b[39m\n\u001b[32m----> \u001b[39m\u001b[32m1\u001b[39m \u001b[38;5;28mint\u001b[39m(\u001b[38;5;28mlist\u001b[39m(str_number))\n",
      "\u001b[31mNameError\u001b[39m: name 'str_number' is not defined"
     ]
    }
   ],
   "source": [
    "# int(list(str_number)) -> 스트링 함수이기 때문에 리스트로 변경 모샇ㅁ"
   ]
  },
  {
   "cell_type": "code",
   "execution_count": 20,
   "id": "e80797a4-4ef1-4a6c-9fc6-72565a95f0d4",
   "metadata": {},
   "outputs": [
    {
     "data": {
      "text/plain": [
       "[1, 2, 3, 4, 5]"
      ]
     },
     "execution_count": 20,
     "metadata": {},
     "output_type": "execute_result"
    }
   ],
   "source": [
    "str_number ='12345'\n",
    "list(map(int, str_number))\n",
    "\n"
   ]
  },
  {
   "cell_type": "code",
   "execution_count": 28,
   "id": "cbf7a5c0-7341-4bd7-a8a0-f73efc752b60",
   "metadata": {
    "scrolled": true
   },
   "outputs": [
    {
     "data": {
      "text/plain": [
       "[1, 4, 9, 16, 25]"
      ]
     },
     "execution_count": 28,
     "metadata": {},
     "output_type": "execute_result"
    }
   ],
   "source": [
    "numbers ='12345'\n",
    "list(map(lambda x : int(x)**2,numbers))"
   ]
  },
  {
   "cell_type": "code",
   "execution_count": 26,
   "id": "c50157cc-0b8a-471c-9eaa-8c5445ec336f",
   "metadata": {},
   "outputs": [
    {
     "data": {
      "text/plain": [
       "[5, 7, 9]"
      ]
     },
     "execution_count": 26,
     "metadata": {},
     "output_type": "execute_result"
    }
   ],
   "source": [
    "kor_score = [1,2,3]\n",
    "eng_score = [4,5,6]\n",
    "\n",
    "list(map(lambda x,y : x+y, kor_score, eng_score))"
   ]
  },
  {
   "cell_type": "code",
   "execution_count": 38,
   "id": "650a03dd-7422-4775-9ef7-4142079708aa",
   "metadata": {},
   "outputs": [
    {
     "ename": "TypeError",
     "evalue": "map() must have at least two arguments.",
     "output_type": "error",
     "traceback": [
      "\u001b[31m---------------------------------------------------------------------------\u001b[39m",
      "\u001b[31mTypeError\u001b[39m                                 Traceback (most recent call last)",
      "\u001b[36mCell\u001b[39m\u001b[36m \u001b[39m\u001b[32mIn[38]\u001b[39m\u001b[32m, line 7\u001b[39m\n\u001b[32m      4\u001b[39m eng_score = [\u001b[32m4\u001b[39m,\u001b[32m5\u001b[39m,\u001b[32m6\u001b[39m]\n\u001b[32m      6\u001b[39m la = \u001b[38;5;28;01mlambda\u001b[39;00m s : \u001b[38;5;28msum\u001b[39m(s) / \u001b[38;5;28mlen\u001b[39m(s), \u001b[38;5;28mzip\u001b[39m(kor_score,eng_score)\n\u001b[32m----> \u001b[39m\u001b[32m7\u001b[39m \u001b[38;5;28mlist\u001b[39m(\u001b[38;5;28mmap\u001b[39m(la))\n",
      "\u001b[31mTypeError\u001b[39m: map() must have at least two arguments."
     ]
    }
   ],
   "source": [
    "#평균, 최댓값, 최솟값\n",
    "\n",
    "kor_score = [1,2,3]\n",
    "eng_score = [4,5,6]\n",
    "\n",
    "la = lambda s : sum(s) / len(s), zip(kor_score,eng_score)\n",
    "list(map(la))"
   ]
  },
  {
   "cell_type": "code",
   "execution_count": null,
   "id": "1ec1edb9-0c5e-4b02-8c42-6afe60b2e113",
   "metadata": {},
   "outputs": [],
   "source": [
    "kor_score = [1,2,3]\n",
    "eng_score = [4,5,6]\n",
    "math_score = [7,8,9]\n",
    "\n",
    "list(map(lambda x,y : x+y, kor_score, eng_score))"
   ]
  },
  {
   "cell_type": "code",
   "execution_count": 35,
   "id": "41ffd12b-c172-446a-b9ca-aeebd0d7322d",
   "metadata": {},
   "outputs": [
    {
     "data": {
      "text/plain": [
       "[12, 15, 18]"
      ]
     },
     "execution_count": 35,
     "metadata": {},
     "output_type": "execute_result"
    }
   ],
   "source": [
    "kor_score = [1,2,3]\n",
    "eng_score = [4,5,6]\n",
    "math_score = [7,8,9]\n",
    "\n",
    "list(map(lambda s : sum(s), zip(kor_score, eng_score,math_score)))\n",
    "\n"
   ]
  },
  {
   "cell_type": "code",
   "execution_count": 34,
   "id": "c6ac3b47-5396-4d64-a532-5cb29576f113",
   "metadata": {},
   "outputs": [
    {
     "data": {
      "text/plain": [
       "[7, 8, 9]"
      ]
     },
     "execution_count": 34,
     "metadata": {},
     "output_type": "execute_result"
    }
   ],
   "source": [
    "kor_score = [1,2,3]\n",
    "eng_score = [4,5,6]\n",
    "math_score = [7,8,9]\n",
    "\n",
    "list(map(lambda s : max(s), zip(kor_score, eng_score,math_score)))"
   ]
  },
  {
   "cell_type": "code",
   "execution_count": 1,
   "id": "b780143b-6b48-453b-aaef-9d22103a1c13",
   "metadata": {},
   "outputs": [
    {
     "data": {
      "text/plain": [
       "[2, 4]"
      ]
     },
     "execution_count": 1,
     "metadata": {},
     "output_type": "execute_result"
    }
   ],
   "source": [
    "#리스트 컴프리헨션의 필터\n",
    "numbers = [1,2,3,4,5]\n",
    "\n",
    "[x for x in numbers if x %2 == 0]"
   ]
  },
  {
   "cell_type": "code",
   "execution_count": 3,
   "id": "0a47daef-27e1-452b-9511-41e31f705c5d",
   "metadata": {},
   "outputs": [
    {
     "data": {
      "text/plain": [
       "[2, 4]"
      ]
     },
     "execution_count": 3,
     "metadata": {},
     "output_type": "execute_result"
    }
   ],
   "source": [
    "#필터 함수\n",
    "\n",
    "list(filter(lambda x : x%2 == 0,numbers))"
   ]
  },
  {
   "cell_type": "code",
   "execution_count": 5,
   "id": "27f6398b-ac93-41c8-b9e1-3589c2bd1ed6",
   "metadata": {},
   "outputs": [
    {
     "data": {
      "text/plain": [
       "[2, 4, 6, 8, 10]"
      ]
     },
     "execution_count": 5,
     "metadata": {},
     "output_type": "execute_result"
    }
   ],
   "source": [
    "#numbers를 2배하고, 그 중에 짝수만 리스트로 리턴\n",
    "\n",
    "list(filter(lambda x : x%2==0, map(lambda x: x*2,numbers)))"
   ]
  },
  {
   "cell_type": "code",
   "execution_count": 6,
   "id": "ff063519-95bb-48d9-bd79-ffda1aa62606",
   "metadata": {},
   "outputs": [],
   "source": [
    "#sorted 함수\n"
   ]
  },
  {
   "cell_type": "code",
   "execution_count": 10,
   "id": "d36e06cc-b321-4ee2-b40a-3ca1bfb4059b",
   "metadata": {},
   "outputs": [
    {
     "data": {
      "text/plain": [
       "[1, 2, 3, 3, 4, 6, 7, 9]"
      ]
     },
     "execution_count": 10,
     "metadata": {},
     "output_type": "execute_result"
    }
   ],
   "source": [
    "numbers = [4,3,6,7,2,3,1,9]\n",
    "#sort() metod\n",
    "numbers.sort()\n",
    "numbers"
   ]
  },
  {
   "cell_type": "code",
   "execution_count": 12,
   "id": "0807c16a-eb4c-4a22-b065-359c909e4874",
   "metadata": {},
   "outputs": [
    {
     "data": {
      "text/plain": [
       "[1, 2, 3, 3, 4, 6, 7, 9]"
      ]
     },
     "execution_count": 12,
     "metadata": {},
     "output_type": "execute_result"
    }
   ],
   "source": [
    "numbers = [4,3,6,7,2,3,1,9]\n",
    "nums = sorted(numbers) \n",
    "\n",
    " \n",
    "# 넘스로 받으면 계속 받은 값으로 출력 sorted는 함수이기 때문에 안에 넣어진 상태로는 변경 안됨 "
   ]
  },
  {
   "cell_type": "code",
   "execution_count": null,
   "id": "d03063f2-95de-4edd-ac81-6cbf2e51f13a",
   "metadata": {},
   "outputs": [],
   "source": [
    "nums = sorted(numbers, reverse=True)"
   ]
  },
  {
   "cell_type": "code",
   "execution_count": 14,
   "id": "62730937-278c-4bbb-b683-1b6f0b1bc090",
   "metadata": {},
   "outputs": [
    {
     "data": {
      "text/plain": [
       "[4, 3, 6, 7, 2, 3, 1, 9]"
      ]
     },
     "execution_count": 14,
     "metadata": {},
     "output_type": "execute_result"
    }
   ],
   "source": [
    "numbers"
   ]
  },
  {
   "cell_type": "code",
   "execution_count": 17,
   "id": "91ef3628-d8e5-41e7-afe3-5b48a411b530",
   "metadata": {},
   "outputs": [
    {
     "data": {
      "text/plain": [
       "[1, -2, 2, -3, 3, -4, 4, -5]"
      ]
     },
     "execution_count": 17,
     "metadata": {},
     "output_type": "execute_result"
    }
   ],
   "source": [
    "numbers1 = [-3,-5,-4,-2,1,2,4,3]\n",
    "sorted(numbers1, key=abs)"
   ]
  },
  {
   "cell_type": "code",
   "execution_count": 19,
   "id": "14c6c842-0a20-46f9-bd28-cf4f579af93d",
   "metadata": {},
   "outputs": [
    {
     "data": {
      "text/plain": [
       "['apple', 'bababa', 'blueberry', 'cherry']"
      ]
     },
     "execution_count": 19,
     "metadata": {},
     "output_type": "execute_result"
    }
   ],
   "source": [
    "words = ['apple', 'bababa', 'tomato', 'blueberry']\n",
    "sorted(words)"
   ]
  },
  {
   "cell_type": "code",
   "execution_count": 21,
   "id": "a974e0f8-7bdf-4f73-b847-b59b56a7774e",
   "metadata": {},
   "outputs": [
    {
     "data": {
      "text/plain": [
       "['blueberry', 'bababa', 'cherry', 'apple']"
      ]
     },
     "execution_count": 21,
     "metadata": {},
     "output_type": "execute_result"
    }
   ],
   "source": [
    "sorted(words, key=len, reverse=True)"
   ]
  },
  {
   "cell_type": "code",
   "execution_count": 24,
   "id": "7a379750-fd43-4357-81f9-ea03118c1cc9",
   "metadata": {},
   "outputs": [
    {
     "data": {
      "text/plain": [
       "['bababa', 'apple', 'cherry', 'blueberry']"
      ]
     },
     "execution_count": 24,
     "metadata": {},
     "output_type": "execute_result"
    }
   ],
   "source": [
    "#마지막글자의순\n",
    "sorted(words, key=lambda w : w[-1])\n"
   ]
  },
  {
   "cell_type": "code",
   "execution_count": 29,
   "id": "f92fe49b-fc42-44dd-9db8-cc9414b098d4",
   "metadata": {},
   "outputs": [
    {
     "data": {
      "text/plain": [
       "[(1, 4), (2, 3), (3, 2)]"
      ]
     },
     "execution_count": 29,
     "metadata": {},
     "output_type": "execute_result"
    }
   ],
   "source": [
    "#튜플의 요소 기준 정렬\n",
    "data = [(1,4),(2,3),(3,2)]\n",
    "sorted(data, key=lambda x : x[1], reverse=True)"
   ]
  },
  {
   "cell_type": "code",
   "execution_count": 44,
   "id": "f89900ca-3c03-4229-987a-0b577dcdf436",
   "metadata": {},
   "outputs": [
    {
     "data": {
      "text/plain": [
       "[('Alice', 20, 85), ('Charlie', 21, 78), ('Bob', 22, 90)]"
      ]
     },
     "execution_count": 44,
     "metadata": {},
     "output_type": "execute_result"
    }
   ],
   "source": [
    "student = [(\"Alice\",20,85),(\"Bob\",22,90),(\"Charlie\",21,78)]\n",
    "\n",
    "#나이 기준으로 정렬\n",
    "sorted(student, key=lambda x: x[1])\n"
   ]
  },
  {
   "cell_type": "code",
   "execution_count": 43,
   "id": "f6040c5d-13ee-48cd-b063-2c2b8e6a36e1",
   "metadata": {},
   "outputs": [
    {
     "data": {
      "text/plain": [
       "[('Charlie', 21, 78), ('Alice', 20, 85), ('Bob', 22, 90)]"
      ]
     },
     "execution_count": 43,
     "metadata": {},
     "output_type": "execute_result"
    }
   ],
   "source": [
    "student = [(\"Alice\",20,85),(\"Bob\",22,90),(\"Charlie\",21,78)]\n",
    "\n",
    "#높은 점수순으로 정렬\n",
    "sorted(student, key=lambda y : y[2])"
   ]
  },
  {
   "cell_type": "code",
   "execution_count": null,
   "id": "fb2557d5-7956-4b40-8f2c-c8a3a0011cb6",
   "metadata": {},
   "outputs": [],
   "source": []
  }
 ],
 "metadata": {
  "kernelspec": {
   "display_name": "Python 3 (ipykernel)",
   "language": "python",
   "name": "python3"
  },
  "language_info": {
   "codemirror_mode": {
    "name": "ipython",
    "version": 3
   },
   "file_extension": ".py",
   "mimetype": "text/x-python",
   "name": "python",
   "nbconvert_exporter": "python",
   "pygments_lexer": "ipython3",
   "version": "3.12.9"
  }
 },
 "nbformat": 4,
 "nbformat_minor": 5
}
