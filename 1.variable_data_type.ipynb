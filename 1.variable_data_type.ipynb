{
 "cells": [
  {
   "cell_type": "markdown",
   "id": "26a18e72-423e-46d9-ab3e-06ae6bdb8edb",
   "metadata": {},
   "source": [
    "# 시작"
   ]
  },
  {
   "cell_type": "markdown",
   "id": "06dddff5-1041-401a-b255-47f66e5387af",
   "metadata": {},
   "source": [
    "유니코드 문자 표준\n",
    "영어는 ascii -> 유니코드\n",
    "한국어도 유니코드\n",
    "\n",
    "유니코드: 글자의 크기에 따라 utf-8, [utf-16, utf-32]\n",
    "\n",
    "파이썬의 문자열 str -> unicode 기반이다.\n",
    "\n",
    "euc-kr (옛날 코드는 UTF로 안써서 우리나라 파일인데 옛날 건데 한국말이 깨졌다 그러면 이걸로 인코딩)\n",
    "CP949 : ms 윈도우즈의 한글코드(안되면 이걸로)"
   ]
  },
  {
   "cell_type": "code",
   "execution_count": 1,
   "id": "91d73769-03a1-4a7d-8f5a-e3aa18ca7138",
   "metadata": {},
   "outputs": [
    {
     "name": "stdout",
     "output_type": "stream",
     "text": [
      "파이썬\n",
      "54028\n"
     ]
    }
   ],
   "source": [
    "text = '파이썬'\n",
    "print(text)\n",
    "print( ord('파'))"
   ]
  },
  {
   "cell_type": "code",
   "execution_count": 19,
   "id": "8355cd89-ea31-4bef-8442-459147c8547d",
   "metadata": {},
   "outputs": [
    {
     "data": {
      "text/plain": [
       "b'\\xc6\\xc4\\xc0\\xcc\\xbd\\xe3'"
      ]
     },
     "execution_count": 19,
     "metadata": {},
     "output_type": "execute_result"
    }
   ],
   "source": [
    "#인코딩\n",
    "enc_text = text.encode('euc-kr')\n",
    "enc_text"
   ]
  },
  {
   "cell_type": "code",
   "execution_count": 20,
   "id": "c43a1bdc-cfa0-46d2-bf9c-7c894699899d",
   "metadata": {},
   "outputs": [
    {
     "data": {
      "text/plain": [
       "'파이썬'"
      ]
     },
     "execution_count": 20,
     "metadata": {},
     "output_type": "execute_result"
    }
   ],
   "source": [
    "dec_text = enc_text.decode('euc-kr')\n",
    "dec_text"
   ]
  },
  {
   "cell_type": "code",
   "execution_count": 6,
   "id": "0a96fcc7-30e4-49cf-94d7-9c4f6d8ba8c5",
   "metadata": {},
   "outputs": [
    {
     "name": "stdout",
     "output_type": "stream",
     "text": [
      "hello ttenk kong\n"
     ]
    }
   ],
   "source": [
    "print('hello ttenk kong')"
   ]
  },
  {
   "cell_type": "code",
   "execution_count": 13,
   "id": "7ff1ed69-9851-429e-ac62-7c989ca34897",
   "metadata": {},
   "outputs": [
    {
     "name": "stdin",
     "output_type": "stream",
     "text": [
      " 한\n",
      " 지훈\n"
     ]
    },
    {
     "data": {
      "text/plain": [
       "'한지훈'"
      ]
     },
     "execution_count": 13,
     "metadata": {},
     "output_type": "execute_result"
    }
   ],
   "source": [
    "# 변수 = 함수\n",
    "# 안녕하세요\n",
    "# 바보세요\n",
    "age = input()\n",
    "name = input()\n",
    "age + name"
   ]
  },
  {
   "cell_type": "code",
   "execution_count": 13,
   "id": "e83e95cb-6ac3-465a-a7bf-acf340db0e41",
   "metadata": {},
   "outputs": [
    {
     "name": "stdin",
     "output_type": "stream",
     "text": [
      " 한\n",
      " 지훈\n"
     ]
    },
    {
     "data": {
      "text/plain": [
       "'한지훈'"
      ]
     },
     "execution_count": 13,
     "metadata": {},
     "output_type": "execute_result"
    }
   ],
   "source": [
    "# 변수 = 함수\n",
    "# 안녕하세요\n",
    "# 바보세요\n",
    "age = input()\n",
    "name = input()\n",
    "age + name"
   ]
  },
  {
   "cell_type": "code",
   "execution_count": 29,
   "id": "7146a83e-f429-48ef-b0c6-3b47aa6d6ce9",
   "metadata": {},
   "outputs": [
    {
     "name": "stdout",
     "output_type": "stream",
     "text": [
      "양수입니다\n"
     ]
    }
   ],
   "source": [
    "def calculate_sum(a, b):\n",
    "    result = a + b\n",
    "    return result\n",
    "\n",
    "if calculate_sum(3,4)> 0:\n",
    "    print(\"양수입니다\")"
   ]
  },
  {
   "cell_type": "code",
   "execution_count": 29,
   "id": "44529390-2e56-4874-9b67-ffc3c921369e",
   "metadata": {},
   "outputs": [
    {
     "name": "stdout",
     "output_type": "stream",
     "text": [
      "양수입니다\n"
     ]
    }
   ],
   "source": [
    "def calculate_sum(a, b):\n",
    "    result = a + b\n",
    "    return result\n",
    "\n",
    "if calculate_sum(3,4)> 0:\n",
    "    print(\"양수입니다\")"
   ]
  },
  {
   "cell_type": "markdown",
   "id": "071033ef-47b1-4c7c-b907-5d29a5f8db95",
   "metadata": {},
   "source": [
    "# 주석\n",
    "안녕하세요 코딩의 재앙 한지훈님등장이다"
   ]
  },
  {
   "cell_type": "markdown",
   "id": "48cf0b00-d9e8-4347-83c9-a083ff3c4cee",
   "metadata": {},
   "source": [
    "# 변수"
   ]
  },
  {
   "cell_type": "markdown",
   "id": "1065ff16-857b-47d0-872b-d87c4150d59f",
   "metadata": {},
   "source": [
    "# 표준 입력과 표준 출력"
   ]
  },
  {
   "cell_type": "code",
   "execution_count": 34,
   "id": "98579cae-c6f0-4daa-97df-4748e12fe99b",
   "metadata": {},
   "outputs": [
    {
     "data": {
      "text/plain": [
       "10"
      ]
     },
     "execution_count": 34,
     "metadata": {},
     "output_type": "execute_result"
    }
   ],
   "source": [
    "12345\n",
    "10\n",
    "# ipython 라이브러리 기본 기능\n",
    "# print(12345) 표준출력 기능을 내장하고 있다."
   ]
  },
  {
   "cell_type": "code",
   "execution_count": 48,
   "id": "aecb6047-fa75-4a19-882a-748dff892ffd",
   "metadata": {},
   "outputs": [
    {
     "data": {
      "text/plain": [
       "'한지훈한지훈한지훈'"
      ]
     },
     "execution_count": 48,
     "metadata": {},
     "output_type": "execute_result"
    }
   ],
   "source": [
    "# type(\"12345\") = type('123') = str -> 텍스트 : 더하기 x 곱하기 o \n",
    "# typr(123) = int -> 숫자\n",
    "\n",
    "#EX\n",
    "'한지훈'*3"
   ]
  },
  {
   "cell_type": "code",
   "execution_count": 54,
   "id": "c312b0d9-9cf2-4892-8b69-b7ca955f1fcf",
   "metadata": {},
   "outputs": [
    {
     "name": "stdin",
     "output_type": "stream",
     "text": [
      "당신의 이름을 입력하세요 안재이\n"
     ]
    }
   ],
   "source": [
    "name = input('당신의 이름을 입력하세요') #뭔가를 받을 수 있음 "
   ]
  },
  {
   "cell_type": "code",
   "execution_count": 83,
   "id": "643370b4-a7a2-4463-a1a6-4c53dfbbd1a0",
   "metadata": {},
   "outputs": [
    {
     "name": "stdin",
     "output_type": "stream",
     "text": [
      "당신의 나이를 입력하세요 24\n"
     ]
    },
    {
     "data": {
      "text/plain": [
       "24"
      ]
     },
     "execution_count": 83,
     "metadata": {},
     "output_type": "execute_result"
    }
   ],
   "source": [
    "age = int(input('당신의 나이를 입력하세요')) #뭔가를 받을 수 있음 \n",
    "age"
   ]
  },
  {
   "cell_type": "code",
   "execution_count": 84,
   "id": "3df8e876-da4c-428b-af5a-9de7596db3f3",
   "metadata": {},
   "outputs": [],
   "source": [
    "#age = int(age)"
   ]
  },
  {
   "cell_type": "code",
   "execution_count": 56,
   "id": "4aa12a3b-b9e5-4972-8cdb-820136e93f7e",
   "metadata": {},
   "outputs": [
    {
     "data": {
      "text/plain": [
       "'안재이'"
      ]
     },
     "execution_count": 56,
     "metadata": {},
     "output_type": "execute_result"
    }
   ],
   "source": [
    "name"
   ]
  },
  {
   "cell_type": "code",
   "execution_count": 85,
   "id": "d5c86f59-041d-4037-a326-0ea48c3efb84",
   "metadata": {},
   "outputs": [
    {
     "name": "stdout",
     "output_type": "stream",
     "text": [
      "24 안재이\n"
     ]
    },
    {
     "data": {
      "text/plain": [
       "24"
      ]
     },
     "execution_count": 85,
     "metadata": {},
     "output_type": "execute_result"
    }
   ],
   "source": [
    "print(age, name)\n",
    "age, name\n",
    "age"
   ]
  },
  {
   "cell_type": "code",
   "execution_count": 71,
   "id": "e3fef053-8869-4a0b-945c-49a984a09a11",
   "metadata": {},
   "outputs": [
    {
     "name": "stdout",
     "output_type": "stream",
     "text": [
      "나는 안재이이고 나이는 10,000살입니다.\n"
     ]
    }
   ],
   "source": [
    "print('나는 '+name+'이고 나이는 '+age+'입니다.')"
   ]
  },
  {
   "cell_type": "code",
   "execution_count": 86,
   "id": "fbf2724b-66bd-49ac-b590-f7ea06cd9c31",
   "metadata": {},
   "outputs": [
    {
     "data": {
      "text/plain": [
       "34"
      ]
     },
     "execution_count": 86,
     "metadata": {},
     "output_type": "execute_result"
    }
   ],
   "source": [
    "age + 10"
   ]
  },
  {
   "cell_type": "markdown",
   "id": "02a07bc9-29a7-4933-afea-164366952d55",
   "metadata": {},
   "source": [
    "# 연습"
   ]
  },
  {
   "cell_type": "code",
   "execution_count": 87,
   "id": "ed9abe28-69d4-47d8-906c-5f7354e6cf27",
   "metadata": {},
   "outputs": [
    {
     "name": "stdout",
     "output_type": "stream",
     "text": [
      "한: 방에 웃음 짓고 \n",
      "지: 혜를 더해 가며\n",
      "훈: 훈히 나아가자\n"
     ]
    }
   ],
   "source": [
    "# 자기 이름으로 삼행시 짓기\n",
    "\n",
    "print('한: 방에 웃음 짓고 ')\n",
    "print('지: 혜를 더해 가며')\n",
    "print('훈: 훈히 나아가자')"
   ]
  },
  {
   "cell_type": "code",
   "execution_count": 95,
   "id": "c81015fd-0ec5-44b4-82c6-5355b2320969",
   "metadata": {},
   "outputs": [
    {
     "name": "stdin",
     "output_type": "stream",
     "text": [
      "한:  한지훈은\n",
      "지:  ㅈ ㅣ 랄맞은 별명이 있다\n",
      "훈:  \"훈발롬\"\n"
     ]
    },
    {
     "name": "stdout",
     "output_type": "stream",
     "text": [
      "한지훈은! ㅈ ㅣ 랄맞은 별명이 있다! \"훈발롬\"\n"
     ]
    }
   ],
   "source": [
    "line1 = input('한: ')\n",
    "line2 = input('지: ')\n",
    "line3 = input('훈: ')\n",
    "print(line1, line2, line3, sep='! ')"
   ]
  },
  {
   "cell_type": "code",
   "execution_count": 96,
   "id": "f6a6e6db-8fe1-4e11-b6d4-b3b4f30987d5",
   "metadata": {},
   "outputs": [
    {
     "name": "stdout",
     "output_type": "stream",
     "text": [
      "한지훈은\n",
      "ㅈ ㅣ 랄맞은 별명이 있다\n",
      "\"훈발롬\"\n"
     ]
    }
   ],
   "source": [
    "print(line1, line2, line3, sep='\\n')"
   ]
  },
  {
   "cell_type": "code",
   "execution_count": 97,
   "id": "94fc9c48-8f05-471c-a006-0ca9c52d1ea3",
   "metadata": {},
   "outputs": [
    {
     "name": "stdout",
     "output_type": "stream",
     "text": [
      "한지훈은\tㅈ ㅣ 랄맞은 별명이 있다\t\"훈발롬\"\n"
     ]
    }
   ],
   "source": [
    "print(line1, line2, line3, sep='\\t')"
   ]
  },
  {
   "cell_type": "code",
   "execution_count": 127,
   "id": "72fd64c8-3b3c-4492-89b9-0ad0e0ff272d",
   "metadata": {},
   "outputs": [
    {
     "name": "stdout",
     "output_type": "stream",
     "text": [
      "한지훈은\n",
      "ㅈ ㅣ 랄맞은 별명이 있다\n",
      "\"훈발롬\"\n"
     ]
    },
    {
     "data": {
      "text/plain": [
       "'한지훈은\\nㅈ ㅣ 랄맞은 별명이 있다\\n\"훈발롬\"'"
      ]
     },
     "execution_count": 127,
     "metadata": {},
     "output_type": "execute_result"
    }
   ],
   "source": [
    "삼행시 = line1+'\\n'+line2+'\\n'+line3\n",
    "print(삼행시) #print는 이스케이프 함수도 인식해준다\n",
    "삼행시 #이스케이프 함수 인식 못함ㅠ "
   ]
  },
  {
   "cell_type": "markdown",
   "id": "70317693-052a-4096-ba30-ab49c92ea89d",
   "metadata": {},
   "source": [
    "# 변수"
   ]
  },
  {
   "cell_type": "markdown",
   "id": "deffa302-f6a6-4a10-9fc3-da6728f1b4a0",
   "metadata": {},
   "source": [
    "#변수는 type safe : 변수를 선언할 때 타입(유형)을 지정하지 않아도 되는 특성   \n",
    "변수명 = 값"
   ]
  },
  {
   "cell_type": "markdown",
   "id": "72889af1-8bdf-4998-b3fc-5af3f64f9750",
   "metadata": {},
   "source": [
    "      \n",
    "## 변수의 명명규칙\n",
    "1. 문자, 숫자, 밑줄을 가지고 만든다\n",
    "2. 숫자로 시작하면 안된다\n",
    "3. 대소문자를 구분한다\n",
    "4. 공백 x\n",
    "5. 특수기호, 공백x, 예약어 쓸 수 없다   \n",
    "   False = 10 -> 안됨   \n",
    "   fales = 10 -> 가능"
   ]
  },
  {
   "cell_type": "code",
   "execution_count": 121,
   "id": "abf2085e-fe07-4741-ac81-c22ed2b0a0f2",
   "metadata": {},
   "outputs": [
    {
     "data": {
      "text/plain": [
       "(10, 'hello', 3.141592)"
      ]
     },
     "execution_count": 121,
     "metadata": {},
     "output_type": "execute_result"
    }
   ],
   "source": [
    "x = 10\n",
    "y = 'hello'\n",
    "z = 3.141592\n",
    "x,y,z"
   ]
  },
  {
   "cell_type": "code",
   "execution_count": 122,
   "id": "9d211b68-4a46-4408-b014-e49f31349340",
   "metadata": {},
   "outputs": [
    {
     "name": "stdout",
     "output_type": "stream",
     "text": [
      "<class 'int'> <class 'str'> <class 'float'>\n"
     ]
    }
   ],
   "source": [
    "print(type(x),type(y),type(z))"
   ]
  },
  {
   "cell_type": "code",
   "execution_count": 129,
   "id": "10bbd8e9-bcee-454e-a815-6e34f070cf77",
   "metadata": {},
   "outputs": [
    {
     "data": {
      "text/plain": [
       "(10, 20, 30)"
      ]
     },
     "execution_count": 129,
     "metadata": {},
     "output_type": "execute_result"
    }
   ],
   "source": [
    "#언팩킹\n",
    "a,b,c= 10,20,30\n",
    "a,b,c"
   ]
  },
  {
   "cell_type": "code",
   "execution_count": 130,
   "id": "c2bebbbb-0e21-41a5-a98b-50dacc5c17e8",
   "metadata": {},
   "outputs": [
    {
     "name": "stdout",
     "output_type": "stream",
     "text": [
      "10 20 30\n"
     ]
    }
   ],
   "source": [
    "print(a,b,c)"
   ]
  },
  {
   "cell_type": "code",
   "execution_count": 131,
   "id": "faa3c62b-d07e-4b4d-bb6a-0223595aaee3",
   "metadata": {},
   "outputs": [
    {
     "data": {
      "text/plain": [
       "(40, 40, 40)"
      ]
     },
     "execution_count": 131,
     "metadata": {},
     "output_type": "execute_result"
    }
   ],
   "source": [
    "a=b=c=40\n",
    "a,b,c"
   ]
  },
  {
   "cell_type": "code",
   "execution_count": 135,
   "id": "4c6b0cd6-275c-4643-a24a-f1c2766f93a8",
   "metadata": {},
   "outputs": [
    {
     "data": {
      "text/plain": [
       "(True, None)"
      ]
     },
     "execution_count": 135,
     "metadata": {},
     "output_type": "execute_result"
    }
   ],
   "source": [
    "d = True # bool형\n",
    "e = None #type이 없음 NoneType\n",
    "d,e"
   ]
  },
  {
   "cell_type": "code",
   "execution_count": 139,
   "id": "9d2c3cc7-38fe-46b8-a3a8-7b1ddc8c653d",
   "metadata": {},
   "outputs": [
    {
     "name": "stdout",
     "output_type": "stream",
     "text": [
      "10 10\n"
     ]
    },
    {
     "data": {
      "text/plain": [
       "(140737074178776, 140737074178776)"
      ]
     },
     "execution_count": 139,
     "metadata": {},
     "output_type": "execute_result"
    }
   ],
   "source": [
    "a = 10\n",
    "b = a\n",
    "print(a,b)\n",
    "id(a), id(b)"
   ]
  },
  {
   "cell_type": "code",
   "execution_count": 140,
   "id": "825fe11d-7e4a-4182-9f08-d0bd1cddaf85",
   "metadata": {},
   "outputs": [
    {
     "name": "stdout",
     "output_type": "stream",
     "text": [
      "20 10\n"
     ]
    },
    {
     "data": {
      "text/plain": [
       "(140737074179096, 140737074178776)"
      ]
     },
     "execution_count": 140,
     "metadata": {},
     "output_type": "execute_result"
    }
   ],
   "source": [
    "a = 20\n",
    "print(a,b)\n",
    "id(a), id(b)"
   ]
  },
  {
   "cell_type": "code",
   "execution_count": 4,
   "id": "bebb1118-2d35-4ff8-9e1a-209387a49b7f",
   "metadata": {},
   "outputs": [
    {
     "name": "stdout",
     "output_type": "stream",
     "text": [
      "10 10\n"
     ]
    },
    {
     "data": {
      "text/plain": [
       "(140737074178776, 140737074178776, 140737074179096)"
      ]
     },
     "execution_count": 4,
     "metadata": {},
     "output_type": "execute_result"
    }
   ],
   "source": [
    "a = 10\n",
    "c = 20 \n",
    "b = 10 # -> 10의 값을 재활용 중이다 \n",
    "print(a,b)\n",
    "id(a), id(b), id(c)"
   ]
  },
  {
   "cell_type": "code",
   "execution_count": 5,
   "id": "0e2a1250-767a-4160-9766-4c1bf0ca80cb",
   "metadata": {},
   "outputs": [
    {
     "name": "stdout",
     "output_type": "stream",
     "text": [
      "10 10\n"
     ]
    },
    {
     "data": {
      "text/plain": [
       "(140737074178776, 140737074178776)"
      ]
     },
     "execution_count": 5,
     "metadata": {},
     "output_type": "execute_result"
    }
   ],
   "source": [
    "aa = 10\n",
    "bb = aa\n",
    "print(aa,bb)\n",
    "id(aa),id(bb)"
   ]
  },
  {
   "cell_type": "code",
   "execution_count": null,
   "id": "341fb79d-d84b-4756-92e9-df66e78689be",
   "metadata": {},
   "outputs": [],
   "source": [
    "#의미 부여하기 어려운 변수명\n",
    "x = 100\n",
    "y = 100\n",
    "\n",
    "#의미있는 변수명\n",
    "age = 20\n",
    "name = '신해림'\n",
    "user_name = 'tteng kkong'\n",
    "admin_name = 'prinssese'\n",
    "\n",
    "#대문자 upper-case 상수에만 사용\n",
    "#ex) PI=3.1415912\n",
    "#ex) MAX_CONNECTTIONS = 10 최대 연결 수\n",
    "#ex) MIN_VALUE = 0 최솟값"
   ]
  },
  {
   "cell_type": "markdown",
   "id": "1645bce2-9393-4568-addd-2c4684affa46",
   "metadata": {},
   "source": [
    "## NAME_SPACE\n",
    "\n",
    "변수가 최초로 정의된 영역에 따라 유효범위가 결정됩니다\n",
    "- 지역변수 : 함수 영역 내에서 선언한 변수\n",
    "- 전역변수 : 함수 영역 밖에서 선언한 변수\n",
    "- 정적변수 : "
   ]
  },
  {
   "cell_type": "code",
   "execution_count": 14,
   "id": "a75a109e-7ac0-4b87-be57-a91a95a1687a",
   "metadata": {},
   "outputs": [
    {
     "name": "stdout",
     "output_type": "stream",
     "text": [
      "여기는 함수의 영역입니다. 100\n",
      "None\n",
      "여기는 함수의 영역입니다. 100\n"
     ]
    }
   ],
   "source": [
    "# 지역변수 -> 함수 안에서 만들면 밖으로 못나옴 함수가 울타리라 생각하면 쉬움\n",
    "def local_example():\n",
    "    local_var = 100\n",
    "    print('여기는 함수의 영역입니다.',local_var)\n",
    "\n",
    "print(local_example())\n",
    "local_example()"
   ]
  },
  {
   "cell_type": "code",
   "execution_count": 16,
   "id": "98d907f4-460b-476b-93c9-8880a9218f8c",
   "metadata": {},
   "outputs": [
    {
     "name": "stdout",
     "output_type": "stream",
     "text": [
      "나는 전역이다\n"
     ]
    }
   ],
   "source": [
    "# 전역 변수 -> 울타리 없이 만든 거라 어디서든 사용 가능 \n",
    "global_var = '나는 전역이다'\n",
    "print(global_var)"
   ]
  },
  {
   "cell_type": "code",
   "execution_count": 20,
   "id": "38d041e3-b0f5-49f8-9b37-b6f014b88c2e",
   "metadata": {},
   "outputs": [
    {
     "name": "stdout",
     "output_type": "stream",
     "text": [
      "나는 전역이다 100\n"
     ]
    }
   ],
   "source": [
    "def global_example():\n",
    "    local_var = 100\n",
    "    print(global_var, local_var)\n",
    "global_example()"
   ]
  },
  {
   "cell_type": "code",
   "execution_count": 26,
   "id": "7d105b5c-b946-43e5-83cd-498bf7899103",
   "metadata": {},
   "outputs": [
    {
     "name": "stdout",
     "output_type": "stream",
     "text": [
      "3\n"
     ]
    },
    {
     "data": {
      "text/plain": [
       "3"
      ]
     },
     "execution_count": 26,
     "metadata": {},
     "output_type": "execute_result"
    }
   ],
   "source": [
    "jeehun = 3\n",
    "def hanjeehun():\n",
    "    global jeehun #gloval jeehun = 100 변수와 할당을 동시할 수 없음 \n",
    "    print(jeehun)\n",
    "\n",
    "hanjeehun()\n",
    "jeehun"
   ]
  },
  {
   "cell_type": "code",
   "execution_count": 163,
   "id": "2310d2b4-074b-40a7-ba21-ddb3b5431882",
   "metadata": {},
   "outputs": [
    {
     "name": "stdout",
     "output_type": "stream",
     "text": [
      "카운터 :  1\n",
      "카운터 :  2\n",
      "카운터 :  3\n"
     ]
    }
   ],
   "source": [
    "#변수 영역 연습\n",
    "\n",
    "counter = 0 #global\n",
    "\n",
    "def increment_counter():#counter = counter +1\n",
    "    global counter \n",
    "    counter += 1\n",
    "    print('카운터 : ',counter)\n",
    "\n",
    "increment_counter()\n",
    "increment_counter()\n",
    "increment_counter()\n"
   ]
  },
  {
   "cell_type": "code",
   "execution_count": 162,
   "id": "fd9a308a-bdc9-4e1e-8b3e-64e76f296c5f",
   "metadata": {},
   "outputs": [
    {
     "name": "stdout",
     "output_type": "stream",
     "text": [
      "카운터 :  92\n"
     ]
    }
   ],
   "source": [
    "increment_counter()"
   ]
  },
  {
   "cell_type": "markdown",
   "id": "a0286413-2742-4010-b5fc-bed484969cbb",
<<<<<<< HEAD
   "metadata": {
    "jp-MarkdownHeadingCollapsed": true
   },
=======
   "metadata": {},
>>>>>>> a2151e4 (수업자료 정리)
   "source": [
    "# 교재 변수 연습"
   ]
  },
  {
   "cell_type": "code",
   "execution_count": 207,
   "id": "13ad5848-5ffb-43cd-96db-94605e40eb04",
   "metadata": {},
   "outputs": [
    {
     "data": {
      "text/plain": [
       "['chuchu', '박지혜', '서빛나리']"
      ]
     },
     "execution_count": 207,
     "metadata": {},
     "output_type": "execute_result"
    }
   ],
   "source": [
    "#리스트를 연동하는 게 아니라 복사하고 싶을 때 (기본적으론 연동됨)\n",
    "#연동\n",
    "barktaeyang = ['박봅슬','박지혜','서빛나리']\n",
    "girlfriend = barktaeyang\n",
    "barktaeyang[0] = 'chuchu' # 안에 요소들을 바꿀 때는 안에 요소가 아니라 리스트 순서로 바꿔야 함  0,1,2 등)\n",
    "girlfriend\n"
   ]
  },
  {
   "cell_type": "code",
   "execution_count": null,
   "id": "8db396d7-f19b-42f0-aec0-de9b0912eae8",
   "metadata": {},
   "outputs": [],
   "source": [
    "#복붙\n",
    "d=[1,2,3]\n",
    "f = d[:] #순서가 중요함 d가 먼저 나오면 안됨 정의하고자 하는 걸 먼저 적어야 함 \n",
    "d[2]=4 #여기서 1은 순서를 말함 0,1,2가 순서인데 1-0 / 2-1 / 3-2\n",
    "f,d"
   ]
  },
  {
   "cell_type": "markdown",
   "id": "478625ad-cd40-4e15-8634-9bd92307e42d",
   "metadata": {},
   "source": [
    "국어,영어,수학 = (80,75,55)\n",
    "print(국어)"
   ]
  },
  {
   "cell_type": "code",
   "execution_count": 211,
   "id": "4cf4b1aa-3bfb-44c7-bd8c-787422ff2fbc",
   "metadata": {},
   "outputs": [],
   "source": [
    "과목=국어,영어,수학 = (80,75,55)"
   ]
  },
  {
   "cell_type": "markdown",
   "id": "3a8a20ee-3e8d-4c22-82ba-86812073919f",
   "metadata": {},
   "source": [
    "#자료형 \n",
    "\n",
    "- 기본 자료형 : 숫자열형 int, 문자열형 str, 부울형\n",
    "- 복합 자료형 : 리스트, 셋, 튜플, 딕셔너리\n",
    "\n",
    "자료형 ㅣ 설명 ㅣ 예시 ㅣ\n",
    "ㅣ-----ㅣ-----ㅣ-----ㅣ\n",
    "정수형 (int)\n",
    "정수를 저장하는 자료형\n",
    "1, -5, 100\n",
    "실수형 (float)\n",
    "소수점이 있는 숫자를 저장하는 자료형\n",
    "3.14, -0.001, 2.0\n",
    "문자열 (str)\n",
    "텍스트를 저장하는 자료형\n",
    "\"Hello\", '파이썬'\n",
    "논리형 (bool)\n",
    "참/거짓 값을 저장하는 자료형\n",
    "True, Fals\n",
    "\n"
   ]
  },
  {
   "cell_type": "markdown",
   "id": "d271f20b-5a6c-45cc-bf2d-653a625b7472",
   "metadata": {},
   "source": [
    "- 수정 불가능한 데이터 타입 : 수치형, 부울형, 문자열, 튜플\n",
    "- 수정 가능한 데이터 타입: 리스트, 딕셔너리, 셋\n"
   ]
  },
  {
   "cell_type": "code",
   "execution_count": 213,
   "id": "fb985ade-56e4-4269-a549-35b8d52091ae",
   "metadata": {},
   "outputs": [
    {
     "data": {
      "text/plain": [
       "(20, int)"
      ]
     },
     "execution_count": 213,
     "metadata": {},
     "output_type": "execute_result"
    }
   ],
   "source": [
    "#수치형 - int\n",
    "20, type(20)"
   ]
  },
  {
   "cell_type": "markdown",
   "id": "d473701e-9a2c-4500-89c8-ca83faa335c1",
   "metadata": {},
   "source": [
    "int\n",
    "1.진법:10진수, 2진수, 8진수, 16진수\n",
    "2.입력하는 방법은 다르지만, print()결과는 동일하다"
   ]
  },
  {
   "cell_type": "code",
   "execution_count": 234,
   "id": "73ba9b1a-6f70-4e96-8003-87cb9f7dd3d4",
   "metadata": {},
   "outputs": [
    {
     "data": {
      "text/plain": [
       "5"
      ]
     },
     "execution_count": 234,
     "metadata": {},
     "output_type": "execute_result"
    }
   ],
   "source": [
    "a = 10\n",
    "b = 0b0101 #2진수 - 0/1로 표현하는 방법 ->0101=2^3*0 + 2^2*1 + 2^1*0 + 2^0*1=\n",
    "b"
   ]
  },
  {
   "cell_type": "code",
   "execution_count": 236,
   "id": "a84d348b-afee-4f05-9f29-70132f6e2f82",
   "metadata": {},
   "outputs": [
    {
     "data": {
      "text/plain": [
       "(512, 512)"
      ]
     },
     "execution_count": 236,
     "metadata": {},
     "output_type": "execute_result"
    }
   ],
   "source": [
    "c = 0o1000 #0o 8진수 , 10 -> 8^1*1+8^0*0 11->8^1+8^1 / 100=64 / 1000\n",
    "c, 64*8"
   ]
  },
  {
   "cell_type": "code",
   "execution_count": 216,
   "id": "efa601f4-4a34-4df4-b284-a914a3cb7520",
   "metadata": {},
   "outputs": [
    {
     "data": {
      "text/plain": [
       "8"
      ]
     },
     "execution_count": 216,
     "metadata": {},
     "output_type": "execute_result"
    }
   ],
   "source": [
    "d = 0b1000\n",
    "d"
   ]
  },
  {
   "cell_type": "code",
   "execution_count": 248,
   "id": "42df98a8-6d6f-4504-b3f0-f67f96d7828f",
   "metadata": {},
   "outputs": [
    {
     "data": {
      "text/plain": [
       "(413, 413)"
      ]
     },
     "execution_count": 248,
     "metadata": {},
     "output_type": "execute_result"
    }
   ],
   "source": [
    "e = 0x19d #> 1*16^2+6*16^1+d(13)*16^0(1) 19d = d(13)*16^1 + 9*16^1 + 1*16^2\n",
    "(16**2)*1 + (16**1)*9 + (16**0)*13, e #제곱하려면 ^대신 * 두개쓸 것 "
   ]
  },
  {
   "cell_type": "code",
   "execution_count": 247,
   "id": "ce4803d6-3a96-4b0c-b02d-8bc2c2659af6",
   "metadata": {},
   "outputs": [
    {
     "data": {
      "text/plain": [
       "256"
      ]
     },
     "execution_count": 247,
     "metadata": {},
     "output_type": "execute_result"
    }
   ],
   "source": [
    "1*(16**2)"
   ]
  },
  {
   "cell_type": "code",
   "execution_count": 223,
   "id": "43b67165-27c6-43c3-ab99-9748755ea729",
   "metadata": {},
   "outputs": [
    {
     "data": {
      "text/plain": [
       "(3.14, float)"
      ]
     },
     "execution_count": 223,
     "metadata": {},
     "output_type": "execute_result"
    }
   ],
   "source": [
    "#flot\n",
    "b = 3.14\n",
    "b, type(b)"
   ]
  },
  {
   "cell_type": "markdown",
   "id": "b996dac1-81b3-4c67-af03-aa67b6966e71",
   "metadata": {},
   "source": [
    "### 지수의 표기\n",
    "숫자e2 -> 10^2의 곱 = 10**2\n",
    "숫자e-2 -> 10^-2의 곱 = 10**-2"
   ]
  },
  {
   "cell_type": "code",
   "execution_count": 230,
   "id": "4969617f-a5b0-4564-95be-9fd7e8cd9519",
   "metadata": {},
   "outputs": [
    {
     "data": {
      "text/plain": [
       "(1000.0, 1000)"
      ]
     },
     "execution_count": 230,
     "metadata": {},
     "output_type": "execute_result"
    }
   ],
   "source": [
    "fa = 10e2\n",
    "fa, 10**3"
   ]
  },
  {
   "cell_type": "code",
   "execution_count": 255,
   "id": "81f8bbf9-8767-4b99-b55d-0487017d3d63",
   "metadata": {},
   "outputs": [
    {
     "data": {
      "text/plain": [
       "(200.0, 200)"
      ]
     },
     "execution_count": 255,
     "metadata": {},
     "output_type": "execute_result"
    }
   ],
   "source": [
    "fb = 2e2 #e를 10**이라 생각하면됨 2*10**2\n",
    "fb, 2*10**2"
   ]
  },
  {
   "cell_type": "code",
   "execution_count": 231,
   "id": "c283b489-99ae-4509-866f-05f637e57b9f",
   "metadata": {},
   "outputs": [
    {
     "data": {
      "text/plain": [
       "3141500000.0"
      ]
     },
     "execution_count": 231,
     "metadata": {},
     "output_type": "execute_result"
    }
   ],
   "source": [
    "fc = 3.1415e9\n",
    "fc"
   ]
  },
  {
   "cell_type": "markdown",
   "id": "e751a493-a7e9-43e8-814c-00a21da52c06",
   "metadata": {
    "jp-MarkdownHeadingCollapsed": true
   },
   "source": [
    "# 불리언 BOOLEAN 값 - True, False\n",
    "논리연산, 비교연산"
   ]
  },
  {
   "cell_type": "code",
   "execution_count": 232,
   "id": "1479a656-4e2d-4442-a3ee-5314a8115c8a",
   "metadata": {},
   "outputs": [
    {
     "data": {
      "text/plain": [
       "(bool, str)"
      ]
     },
     "execution_count": 232,
     "metadata": {},
     "output_type": "execute_result"
    }
   ],
   "source": [
    "ba = True\n",
    "bb = 'true'\n",
    "type(ba), type(bb)"
   ]
  },
  {
   "cell_type": "code",
   "execution_count": 233,
   "id": "72a86d1e-d8c2-4f37-b339-9c70b5a70fe2",
   "metadata": {},
   "outputs": [
    {
     "data": {
      "text/plain": [
       "True"
      ]
     },
     "execution_count": 233,
     "metadata": {},
     "output_type": "execute_result"
    }
   ],
   "source": [
    "ba == 1"
   ]
  },
  {
   "cell_type": "code",
   "execution_count": 258,
   "id": "bec94741-5378-4a94-ac8f-4091dd1abec4",
   "metadata": {},
   "outputs": [
    {
     "data": {
      "text/plain": [
       "1"
      ]
     },
     "execution_count": 258,
     "metadata": {},
     "output_type": "execute_result"
    }
   ],
   "source": [
    "#논리 연산자 - and or not\n",
    "\n",
    "bc = 1\n",
    "ba and bc"
   ]
  },
  {
   "cell_type": "code",
   "execution_count": 3,
   "id": "da2a08d1-2fbe-4969-8b13-395d0f1acbed",
   "metadata": {},
   "outputs": [],
   "source": [
    "#사칙연산 + - * / , //(값) , %(나머지)\n",
    "\n",
    "a = 2\n",
    "b = 3"
   ]
  },
  {
   "cell_type": "code",
   "execution_count": 5,
   "id": "4fa9feba-e764-474a-8602-6d927180da3a",
   "metadata": {},
   "outputs": [
    {
     "data": {
      "text/plain": [
       "(0.6666666666666666, 0, 2)"
      ]
     },
     "execution_count": 5,
     "metadata": {},
     "output_type": "execute_result"
    }
   ],
   "source": [
    "a+b\n",
    "a-b\n",
    "a*b\n",
    "a/b, a//b, a%b #몫, 나머지"
   ]
  },
  {
   "cell_type": "code",
   "execution_count": 15,
   "id": "286b3a75-0240-4949-bba2-7a6b72a5a82e",
   "metadata": {},
   "outputs": [
    {
     "data": {
      "text/plain": [
       "False"
      ]
     },
     "execution_count": 15,
     "metadata": {},
     "output_type": "execute_result"
    }
   ],
   "source": [
    "#비교 연산자\n",
    "1+2 == 3\n",
    "1+2 != 3\n",
    "1+3 <= 4"
   ]
  },
  {
   "cell_type": "code",
   "execution_count": 18,
   "id": "818a10df-5a2b-4256-b0cc-7164d8173b9d",
   "metadata": {},
   "outputs": [
    {
     "data": {
      "text/plain": [
       "True"
      ]
     },
     "execution_count": 18,
     "metadata": {},
     "output_type": "execute_result"
    }
   ],
   "source": [
    "#비교연산자와 논리연산자의 결합\n",
    "10%2 == 0 and 12%3 == 0"
   ]
  },
  {
   "cell_type": "code",
   "execution_count": 19,
   "id": "3efe9c7b-6a52-4e98-ba0f-f673c9d1fed9",
   "metadata": {},
   "outputs": [
    {
     "data": {
      "text/plain": [
       "('1234', '5678', 1393759606832, 1393784591760)"
      ]
     },
     "execution_count": 19,
     "metadata": {},
     "output_type": "execute_result"
    }
   ],
   "source": [
    "a = '1234'\n",
    "b = '5678'\n",
    "a,b, id(a), id(b)"
   ]
  },
  {
   "cell_type": "code",
   "execution_count": 20,
   "id": "39761474-5ef5-4af4-a8ee-0002ef4306aa",
   "metadata": {},
   "outputs": [
    {
     "data": {
      "text/plain": [
       "(10, 12)"
      ]
     },
     "execution_count": 20,
     "metadata": {},
     "output_type": "execute_result"
    }
   ],
   "source": [
    "#대입연산자\n",
    "a = 10\n",
    "b = a+2\n",
    "a,b"
   ]
  },
  {
   "cell_type": "code",
   "execution_count": 22,
   "id": "6d58f021-68b3-4f47-9bd2-33d70779b10e",
   "metadata": {},
   "outputs": [
    {
     "data": {
      "text/plain": [
       "21"
      ]
     },
     "execution_count": 22,
     "metadata": {},
     "output_type": "execute_result"
    }
   ],
   "source": [
    "a = 20\n",
    "a += 1 #a = a+1\n",
    "a"
   ]
  },
  {
   "cell_type": "code",
   "execution_count": 123,
   "id": "00539f4a-4a90-46cc-b11e-556b01d27530",
   "metadata": {},
   "outputs": [
    {
     "data": {
      "text/plain": [
       "-73"
      ]
     },
     "execution_count": 123,
     "metadata": {},
     "output_type": "execute_result"
    }
   ],
   "source": [
    "a -= 1 \n",
    "a"
   ]
  },
  {
   "cell_type": "code",
   "execution_count": 43,
   "id": "653e18bd-1230-4928-9fcf-5ee3339b16fb",
   "metadata": {},
   "outputs": [
    {
     "data": {
      "text/plain": [
       "7"
      ]
     },
     "execution_count": 43,
     "metadata": {},
     "output_type": "execute_result"
    }
   ],
   "source": [
    "a = 3\n",
    "b = 2\n",
    "a += 2 + b\n",
    "a"
   ]
  },
  {
   "cell_type": "markdown",
   "id": "3c508e79-d36d-4881-b9d6-de8cf7bcdd27",
   "metadata": {},
   "source": [
    "# 문자열 str\n",
    "' ', \" \", \"\"\" \"\"\", ''' ''' docstring\n"
   ]
  },
  {
   "cell_type": "code",
   "execution_count": 126,
   "id": "d104ed5e-128c-45be-a714-016f07fc21df",
   "metadata": {},
   "outputs": [
    {
     "data": {
      "text/plain": [
       "'hellopython'"
      ]
     },
     "execution_count": 126,
     "metadata": {},
     "output_type": "execute_result"
    }
   ],
   "source": [
    "a = 'hello'\n",
    "b = 'python'\n",
    "c = '*'\n",
    "c*10\n",
    "a+b # 더하기는 문자열끼리 "
   ]
  },
  {
   "cell_type": "code",
   "execution_count": 128,
   "id": "a0ed8a3f-afdd-4b17-b860-363c5df1778a",
   "metadata": {},
   "outputs": [
    {
     "data": {
      "text/plain": [
       "\"kim's family\""
      ]
     },
     "execution_count": 128,
     "metadata": {},
     "output_type": "execute_result"
    }
   ],
   "source": [
    "d = \"kim's family\"\n",
    "d"
   ]
  },
  {
   "cell_type": "code",
   "execution_count": 129,
   "id": "01e83144-cfa7-49cc-99a6-b4a53d8fd37c",
   "metadata": {},
   "outputs": [
    {
     "data": {
      "text/plain": [
       "True"
      ]
     },
     "execution_count": 129,
     "metadata": {},
     "output_type": "execute_result"
    }
   ],
   "source": [
    "e = '1'\n",
    "e == '1'"
   ]
  },
  {
   "cell_type": "markdown",
   "id": "c7f785a6-f374-4f5a-ba23-270ae8d90722",
   "metadata": {},
   "source": [
    "## 인덱스"
   ]
  },
  {
   "cell_type": "code",
   "execution_count": 145,
   "id": "e08e17c2-dc9e-46ba-93ad-526ea6b1eb65",
   "metadata": {},
   "outputs": [
    {
     "data": {
      "text/plain": [
       "'30010331Rabcd'"
      ]
     },
     "execution_count": 145,
     "metadata": {},
     "output_type": "execute_result"
    }
   ],
   "source": [
    "#문자열은 리스트, 열거형\n",
    "a='20010331Rabcd' #13개의 글자의 목록\n",
    "'3' + a[1:]  #숫자 자리수 > 인덱스"
   ]
  },
  {
   "cell_type": "code",
   "execution_count": 134,
   "id": "e8935a60-070b-47bb-8b4a-dca675b782d6",
   "metadata": {},
   "outputs": [
    {
     "data": {
      "text/plain": [
       "'200'"
      ]
     },
     "execution_count": 134,
     "metadata": {},
     "output_type": "execute_result"
    }
   ],
   "source": [
    "a[0:3] #해석 0부터 3개 가져와 (콜론), 슬라이싱 slice"
   ]
  },
  {
   "cell_type": "code",
   "execution_count": 138,
   "id": "57fc1ba6-e007-48bf-8498-f0f5711ff221",
   "metadata": {},
   "outputs": [
    {
     "data": {
      "text/plain": [
       "'Rab'"
      ]
     },
     "execution_count": 138,
     "metadata": {},
     "output_type": "execute_result"
    }
   ],
   "source": [
    "#rab a='20010331Rabcd'\n",
    "a[8:11]"
   ]
  },
  {
   "cell_type": "code",
   "execution_count": 141,
   "id": "e63dae6c-b867-46d1-a4f2-a09b49755f68",
   "metadata": {},
   "outputs": [
    {
     "data": {
      "text/plain": [
       "'abcd'"
      ]
     },
     "execution_count": 141,
     "metadata": {},
     "output_type": "execute_result"
    }
   ],
   "source": [
    "a[9:13]"
   ]
  },
  {
   "cell_type": "code",
   "execution_count": 142,
   "id": "a1862280-cfa8-47f5-89d9-844ac755d5f4",
   "metadata": {},
   "outputs": [
    {
     "data": {
      "text/plain": [
       "True"
      ]
     },
     "execution_count": 142,
     "metadata": {},
     "output_type": "execute_result"
    }
   ],
   "source": [
    "s='abc'\n",
    "a=s\n",
    "a is s"
   ]
  },
  {
   "cell_type": "code",
   "execution_count": null,
   "id": "2707c95d-5c42-4719-95e3-987dcb3b4ea3",
   "metadata": {},
   "outputs": [],
   "source": [
    "b = s[:] # [:] 전부 가져와 십새기야 \n",
    "a is b"
   ]
  },
  {
   "cell_type": "code",
   "execution_count": 144,
   "id": "dc3e2914-6694-416f-9eab-77f453b13868",
   "metadata": {},
   "outputs": [
    {
     "data": {
      "text/plain": [
       "True"
      ]
     },
     "execution_count": 144,
     "metadata": {},
     "output_type": "execute_result"
    }
   ],
   "source": [
    "s1 = '1'*1000\n",
    "b = s1[:]\n",
    "s1 == b"
   ]
  },
  {
   "cell_type": "markdown",
   "id": "d7bed589-89f2-4cf3-bc60-525391665183",
   "metadata": {},
   "source": [
    "doc_string = '''docstring \\n\n",
    "start\\n\n",
    "end\\n\n",
    "'''\n",
    "\n",
    "print(doc_string)"
   ]
  },
  {
   "cell_type": "code",
   "execution_count": 22,
   "id": "66d02e79-4fa5-4aa5-aa1f-30a1102e5c87",
   "metadata": {},
   "outputs": [
    {
     "name": "stdout",
     "output_type": "stream",
     "text": [
      "docstring \n",
      "\n",
      "start\n",
      "\n",
      "end\n",
      "\n",
      "\n"
     ]
    },
    {
     "data": {
      "text/plain": [
       "'docstring \\n\\nstart\\n\\nend\\n\\n'"
      ]
     },
     "execution_count": 22,
     "metadata": {},
     "output_type": "execute_result"
    }
   ],
   "source": [
    "#docsting은 큰따옴표(\") 또는 작은따옴표(')를 3개 붙이면 안에서 줄바꿈했을 때 '\\n'를 사용하지 않고도 줄바꿈 할 수 있음\n",
    "#주로 언제씀? -> 문서의 주석을 달 때 많이 사용한다고 함\n",
    "#'shift' + 'tab' 설명서 나오게 함 \n",
    "doc_string = '''docstring \\n\n",
    "start\\n\n",
    "end\\n\n",
    "'''\n",
    "\n",
    "print(doc_string)\n",
    "doc_string"
   ]
  },
  {
   "cell_type": "code",
   "execution_count": 24,
   "id": "ebbbb2c6-581c-4623-b140-54d282854767",
   "metadata": {
    "collapsed": true,
    "jupyter": {
     "outputs_hidden": true
    }
   },
   "outputs": [
    {
     "data": {
      "text/plain": [
       "['__add__',\n",
       " '__class__',\n",
       " '__contains__',\n",
       " '__delattr__',\n",
       " '__dir__',\n",
       " '__doc__',\n",
       " '__eq__',\n",
       " '__format__',\n",
       " '__ge__',\n",
       " '__getattribute__',\n",
       " '__getitem__',\n",
       " '__getnewargs__',\n",
       " '__getstate__',\n",
       " '__gt__',\n",
       " '__hash__',\n",
       " '__init__',\n",
       " '__init_subclass__',\n",
       " '__iter__',\n",
       " '__le__',\n",
       " '__len__',\n",
       " '__lt__',\n",
       " '__mod__',\n",
       " '__mul__',\n",
       " '__ne__',\n",
       " '__new__',\n",
       " '__reduce__',\n",
       " '__reduce_ex__',\n",
       " '__repr__',\n",
       " '__rmod__',\n",
       " '__rmul__',\n",
       " '__setattr__',\n",
       " '__sizeof__',\n",
       " '__str__',\n",
       " '__subclasshook__',\n",
       " 'capitalize',\n",
       " 'casefold',\n",
       " 'center',\n",
       " 'count',\n",
       " 'encode',\n",
       " 'endswith',\n",
       " 'expandtabs',\n",
       " 'find',\n",
       " 'format',\n",
       " 'format_map',\n",
       " 'index',\n",
       " 'isalnum',\n",
       " 'isalpha',\n",
       " 'isascii',\n",
       " 'isdecimal',\n",
       " 'isdigit',\n",
       " 'isidentifier',\n",
       " 'islower',\n",
       " 'isnumeric',\n",
       " 'isprintable',\n",
       " 'isspace',\n",
       " 'istitle',\n",
       " 'isupper',\n",
       " 'join',\n",
       " 'ljust',\n",
       " 'lower',\n",
       " 'lstrip',\n",
       " 'maketrans',\n",
       " 'partition',\n",
       " 'removeprefix',\n",
       " 'removesuffix',\n",
       " 'replace',\n",
       " 'rfind',\n",
       " 'rindex',\n",
       " 'rjust',\n",
       " 'rpartition',\n",
       " 'rsplit',\n",
       " 'rstrip',\n",
       " 'split',\n",
       " 'splitlines',\n",
       " 'startswith',\n",
       " 'strip',\n",
       " 'swapcase',\n",
       " 'title',\n",
       " 'translate',\n",
       " 'upper',\n",
       " 'zfill']"
      ]
     },
     "execution_count": 24,
     "metadata": {},
     "output_type": "execute_result"
    }
   ],
   "source": [
    "dir(text)"
   ]
  },
  {
   "cell_type": "code",
   "execution_count": 44,
   "id": "237f2bc8-284f-4771-abb9-ed7c4a78ca3a",
   "metadata": {},
   "outputs": [
    {
     "name": "stdout",
     "output_type": "stream",
     "text": [
      "파이썬\n"
     ]
    },
    {
     "data": {
      "text/plain": [
       "'파이썬파이썬파이썬파이썬'"
      ]
     },
     "execution_count": 44,
     "metadata": {},
     "output_type": "execute_result"
    }
   ],
   "source": [
    "print(text)\n",
    "text.count(\"파이\")\n",
    "text*4"
   ]
  },
  {
   "cell_type": "markdown",
   "id": "3b55130e-a151-45a3-a741-2fbe5e0fca1c",
   "metadata": {},
   "source": [
    "# excape 문자\n",
    "#사용법 \\n, \\' 특수문자를 그냥 그냥 텍스트로 인식하게 한다. \n",
    "\n",
    "### \\ '역슬래시'\n",
    "\n",
    "| 이스케이프 문자 | 의미             |\n",
    "| -------- | -------------- |\n",
    "| `\\n`     | 줄바꿈(새 줄)       |\n",
    "| `\\t`     | 탭(tab)         |\n",
    "| `\\r`     | 캐리지 리턴(줄 처음으로) |\n",
    "| `\\\\`     | 백슬래시 자체를 출력    |\n",
    "\n"
   ]
  },
  {
   "cell_type": "code",
   "execution_count": 40,
   "id": "3a7e3b1f-90ad-4ee5-89ad-8c9939b56453",
   "metadata": {},
   "outputs": [
    {
     "name": "stdout",
     "output_type": "stream",
     "text": [
      "hello\n",
      "world\n"
     ]
    }
   ],
   "source": [
    "print('hello\\nworld')\n"
   ]
  },
  {
   "cell_type": "markdown",
   "id": "cb039a11-ec9e-4f3c-8b32-0ce276b12066",
<<<<<<< HEAD
   "metadata": {
    "jp-MarkdownHeadingCollapsed": true
   },
=======
   "metadata": {},
>>>>>>> a2151e4 (수업자료 정리)
   "source": [
    "### raw-strint 그냥 문자열 기능"
   ]
  },
  {
   "cell_type": "markdown",
   "id": "c3cf906c-8b77-4b04-9df0-d35f50409366",
   "metadata": {},
   "source": [
    "raw-string : 모두다 문자열이다 r'str?\\'\n",
    "f-string : 형식코드가 내포된 문자열 f'str{text}' # {}중괄호로 표시한 것들은 코드로 해석해 "
   ]
  },
  {
   "cell_type": "code",
   "execution_count": 50,
   "id": "9759b4f6-a49f-409d-9375-37c0df6333a5",
   "metadata": {},
   "outputs": [
    {
     "data": {
      "text/plain": [
       "'12\\\\4'"
      ]
     },
     "execution_count": 50,
     "metadata": {},
     "output_type": "execute_result"
    }
   ],
   "source": [
    "str_1 = '12\\\\4' # 12\\x04\n",
    "str_1\n",
    "\n"
   ]
  },
  {
   "cell_type": "code",
   "execution_count": 51,
   "id": "e52ea67b-7136-4b08-a4eb-5c7772f1fb9f",
   "metadata": {},
   "outputs": [
    {
     "data": {
      "text/plain": [
       "'12\\\\4'"
      ]
     },
     "execution_count": 51,
     "metadata": {},
     "output_type": "execute_result"
    }
   ],
   "source": [
    "raw_str = r'12\\4'\n",
    "raw_str"
   ]
  },
  {
   "cell_type": "code",
   "execution_count": 53,
   "id": "8075bc7d-4b05-45ab-aefd-8d4eba6df30c",
   "metadata": {},
   "outputs": [
    {
     "name": "stdout",
     "output_type": "stream",
     "text": [
      "hello\\nworld\n"
     ]
    }
   ],
   "source": [
    "raw_str_1= r'hello\\nworld'\n",
    "print(raw_str_1)"
   ]
  },
  {
   "cell_type": "markdown",
   "id": "ea6e57f6-a3c9-4b2b-8a6b-dee2a5812e00",
<<<<<<< HEAD
   "metadata": {
    "jp-MarkdownHeadingCollapsed": true
   },
=======
   "metadata": {},
>>>>>>> a2151e4 (수업자료 정리)
   "source": [
    "### f'string \n",
    "f' {수식}문자열이에요 {변수}'"
   ]
  },
  {
   "cell_type": "code",
   "execution_count": 59,
   "id": "5621c9d5-3063-4937-8ab1-5bf380ccbb9c",
   "metadata": {},
   "outputs": [
    {
     "name": "stdout",
     "output_type": "stream",
     "text": [
      "제 이름은 jeehun  내 나이는 25  입니다\n"
     ]
    }
   ],
   "source": [
    "name = 'jeehun'\n",
    "age = 25\n",
    "print('제 이름은', name, ' 내 나이는', age,' 입니다')"
   ]
  },
  {
   "cell_type": "code",
   "execution_count": 60,
   "id": "fef80c7c-88ee-4b15-b76b-57e9d7d0436d",
   "metadata": {},
   "outputs": [
    {
     "name": "stdout",
     "output_type": "stream",
     "text": [
      "제 이름은 jeehun이고 내 나이는 25입니다\n"
     ]
    }
   ],
   "source": [
    "name = 'jeehun'\n",
    "age = 25\n",
    "print(f'제 이름은 {name}이고 내 나이는 {age}입니다')"
   ]
  },
  {
   "cell_type": "code",
   "execution_count": 63,
   "id": "03c15f75-19f9-4ac3-bec0-684d73ce6def",
   "metadata": {},
   "outputs": [
    {
     "name": "stdin",
     "output_type": "stream",
     "text": [
      " 한지훈\n",
      " 31살\n"
     ]
    },
    {
     "name": "stdout",
     "output_type": "stream",
     "text": [
      "나는 대한민국의 재앙 킹갓제네럴백수 한지훈이다 시발ㄹ럼들아. 내 연식은 31살이다\n"
     ]
    }
   ],
   "source": [
    "#이름과 자기소개를 입력받아서 출력하는 프로그램을 작성\n",
    "\n",
    "name = input()\n",
    "age = input()\n",
    "print(f'나는 대한민국의 재앙 킹갓제네럴백수 {name}이다 시발ㄹ럼들아. 내 연식은 {age}이다')"
   ]
  },
  {
   "cell_type": "markdown",
   "id": "d6ac1ee9-a19d-4558-8d8f-a470fe0ea306",
   "metadata": {},
   "source": [
    "### 추가공부 문자열.fotmat()"
   ]
  },
  {
   "cell_type": "code",
   "execution_count": 66,
   "id": "990e05a6-97c1-4f65-aa98-c9ceca9ab1a6",
   "metadata": {},
   "outputs": [
    {
     "data": {
      "text/plain": [
       "'99.99dollars are worth us$100'"
      ]
     },
     "execution_count": 66,
     "metadata": {},
     "output_type": "execute_result"
    }
   ],
   "source": [
    "#dir(f_str_1)\n",
    "format_str = '{}{} are worth us${}' #template\n",
    "format_str.format(99.99,'dollars', 100)"
   ]
  },
  {
   "cell_type": "code",
   "execution_count": 66,
   "id": "9545938f-85a8-40c1-b78f-4bf3263be741",
   "metadata": {},
   "outputs": [
    {
     "data": {
      "text/plain": [
       "'99.99dollars are worth us$100'"
      ]
     },
     "execution_count": 66,
     "metadata": {},
     "output_type": "execute_result"
    }
   ],
   "source": [
    "#dir(f_str_1)\n",
<<<<<<< HEAD
    "format_str = '{0:.4f}{1:s} are worth us${2:d}' #template\n",
    "format_str.format(99.99,'dollars', 100)\n",
    "\n",
    "# {0:.4f}: 첫 번째 값(인덱스 0)을 소수점 아래 4자리까지 실수로 표현\n",
=======
    "format_str = '{0:.4f}{1:s} are worth us${2:d}' #template 형식을 강제로 지정 \n",
    "format_str.format(99.99,'dollars', 100)\n",
    "\n",
    "# {0:.4f}: 첫 번째 값(인덱스 0)을 소수점 아래 4자리까지 실수로 표현 \n",
>>>>>>> a2151e4 (수업자료 정리)
    "# {1:s}: 두 번째 값(인덱스 1)을 문자열로 출력\n",
    "# {2:d}: 세 번째 값(인덱스 2)을 10진수 정수로 출력"
   ]
  },
  {
   "cell_type": "code",
   "execution_count": 70,
   "id": "d652e368-ae30-485d-bb3f-bf0158593963",
   "metadata": {},
   "outputs": [
    {
     "name": "stdin",
     "output_type": "stream",
     "text": [
      "주문할 메뉴를 입력하세요 햄버거\n",
      "한 개 가격이 얼마인가요? 3000\n",
      "몇 개나 주문하세요?  2\n"
     ]
    },
    {
     "name": "stdout",
     "output_type": "stream",
     "text": [
      " 햄버거메뉴의 2개 가격은 총 6,000입니다.\n"
     ]
    }
   ],
   "source": [
    "menu = input('주문할 메뉴를 입력하세요')\n",
    "price = int(input('한 개 가격이 얼마인가요?')) #input은 그냥 받으면 문자열로 받게 됨 그래서 숫자열로 바꿔줘야 함 \n",
    "count = int(input('몇 개나 주문하세요? '))\n",
    "\n",
    "total = price*count\n",
    "msg = ' {}메뉴의 {}개 가격은 총 {:,}입니다.'\n",
    "print(msg.format(menu,count,total))"
   ]
  },
  {
   "cell_type": "code",
<<<<<<< HEAD
   "execution_count": 80,
=======
   "execution_count": 14,
>>>>>>> a2151e4 (수업자료 정리)
   "id": "93f30f18-5820-4760-a2bb-bea22f456760",
   "metadata": {},
   "outputs": [
    {
     "name": "stdout",
     "output_type": "stream",
     "text": [
      "상품명       가격        수량        총액        \n",
      "----------------------------------------\n",
      "아메리카노          3,000원         2개     6,000원\n",
      "카페라떼           4,000원         1개     4,000원\n",
      "샌드위치           5,500원         3개    16,500원\n"
     ]
    }
   ],
   "source": [
    "items = [\n",
    "    {\"name\": \"아메리카노\", \"price\": 3000, \"qty\": 2},\n",
    "    {\"name\": \"카페라떼\", \"price\": 4000, \"qty\": 1},\n",
    "    {\"name\": \"샌드위치\", \"price\": 5500, \"qty\": 3}\n",
    "]\n",
    "\n",
    "header_str = '{:10}{:10}{:10}{:10}' # 상단 헤더에 대한 코드 \n",
    "print(header_str.format('상품명','가격','수량','총액'))\n",
    "print('-'*40)\n",
    "data_str = '{:10}{:10,}원{:10}개{:10,}원' # 밑에 데이터에 대한 코드 \n",
    "for item in items :\n",
    "    item_name = item['name']\n",
    "    item_price = item['price']\n",
    "    item_qty = item['qty']\n",
    "    total_price = item_price*item_qty\n",
    "    \n",
    "    print(data_str.format(item_name, item_price, item_qty, total_price))\n",
    "\n",
    "\n"
   ]
  },
  {
   "cell_type": "code",
<<<<<<< HEAD
   "execution_count": 91,
=======
   "execution_count": 7,
   "id": "5d4ea7f8-a09c-4820-85ae-3c6c8fd57287",
   "metadata": {},
   "outputs": [],
   "source": [
    "items1: [\n",
    "    {\"name\": \"박보슬\",\"age\": 31,\"lovelevel\":90}, #이게 하나의 ele1\n",
    "    {\"name\": \"서빛나리\",\"age\": 31,\"lovelevel\":88}, # ele2\n",
    "    {\"name\": \"이슬\",\"age\": 29,\"lovelevel\":79} # ele3\n",
    "]"
   ]
  },
  {
   "cell_type": "code",
   "execution_count": 24,
>>>>>>> a2151e4 (수업자료 정리)
   "id": "e47edc44-8c77-48d7-a3e5-3d978a2bf4a0",
   "metadata": {},
   "outputs": [
    {
     "name": "stdout",
     "output_type": "stream",
     "text": [
<<<<<<< HEAD
      "이름        나이        애정도       \n",
      "----------------------------------------\n"
     ]
    },
    {
     "ename": "KeyError",
     "evalue": "'age'",
     "output_type": "error",
     "traceback": [
      "\u001b[31m---------------------------------------------------------------------------\u001b[39m",
      "\u001b[31mKeyError\u001b[39m                                  Traceback (most recent call last)",
      "\u001b[36mCell\u001b[39m\u001b[36m \u001b[39m\u001b[32mIn[91]\u001b[39m\u001b[32m, line 14\u001b[39m\n\u001b[32m     12\u001b[39m \u001b[38;5;28;01mfor\u001b[39;00m ele \u001b[38;5;129;01min\u001b[39;00m items :\n\u001b[32m     13\u001b[39m     ele_name = ele[\u001b[33m'\u001b[39m\u001b[33mname\u001b[39m\u001b[33m'\u001b[39m]\n\u001b[32m---> \u001b[39m\u001b[32m14\u001b[39m     ele_age = ele[\u001b[33m'\u001b[39m\u001b[33mage\u001b[39m\u001b[33m'\u001b[39m]\n\u001b[32m     15\u001b[39m     ele_lovelevel = [\u001b[33m'\u001b[39m\u001b[33mlovelevel\u001b[39m\u001b[33m'\u001b[39m]\n\u001b[32m     16\u001b[39m     \u001b[38;5;28mprint\u001b[39m(data_str1.format(ele_name,ele_age,ele_lovelevel))\n",
      "\u001b[31mKeyError\u001b[39m: 'age'"
=======
      "[태양이의 전여친 리스트]\n",
      "이름        나이        애정도       \n",
      "----------------------------------------\n",
      "박보슬               31살         90러브파워\n",
      "서빛나리              31살         88러브파워\n",
      "이슬                29살         79러브파워\n"
>>>>>>> a2151e4 (수업자료 정리)
     ]
    }
   ],
   "source": [
<<<<<<< HEAD
    "items: [\n",
    "    {\"name\": \"박보슬\", \"age\":31,\"lovelevel\":90}, #이게 하나의 ele1\n",
    "    {\"name\": \"서빛나리\",\"age\":31,\"lovelevel\":88}, # ele2\n",
    "    {\"name\": \"이슬\",\"age\":29,\"lovelevel\":79} # ele3\n",
    "    ]\n",
    "\n",
    "header_str1 = '{:10}{:10}{:10}'\n",
    "print(header_str1.format('이름','나이','애정도'))\n",
    "print('-'*40)\n",
    "\n",
    "data_str1 = '{}{}살{}러브파워'\n",
    "for ele in items :\n",
    "    ele_name = ele['name']\n",
    "    ele_age = ele['age']\n",
    "    ele_lovelevel = ['lovelevel']\n",
    "    print(data_str1.format(ele_name,ele_age,ele_lovelevel))"
=======
    "taeyang = [\n",
    "    {\"name\": \"박보슬\",\"age\": 31, \"lovelevel\": 90}, #이게 하나의 ele1\n",
    "    {\"name\": \"서빛나리\",\"age\": 31, \"lovelevel\": 88}, # ele2\n",
    "    {\"name\": \"이슬\",\"age\": 29, \"lovelevel\": 79} # ele3\n",
    "]\n",
    "\n",
    "header_str1 = '{:<10}{:10}{:<10}'\n",
    "print(\"[태양이의 전여친 리스트]\")\n",
    "print(header_str1.format('이름','나이','애정도'))\n",
    "print('-'*40)\n",
    "\n",
    "data_str1 = '{:<10}{:10}살 {:10}러브파워'\n",
    "for ele in taeyang :\n",
    "    ele_name = ele['name']\n",
    "    ele_age = ele['age']\n",
    "    ele_lovelevel = ele['lovelevel']\n",
    "    \n",
    "    print(data_str1.format(ele_name, ele_age, ele_lovelevel))"
   ]
  },
  {
   "cell_type": "code",
   "execution_count": 154,
   "id": "164260ea-be65-431c-ad1f-3f3686bb9e47",
   "metadata": {},
   "outputs": [
    {
     "name": "stdout",
     "output_type": "stream",
     "text": [
      "[태양이의 전여친 리스트]\n",
      "이름        나이        애정도       \n",
      "----------------------------------------\n",
      "박보슬3190\n",
      "서빛나리3188\n",
      "이슬2979\n"
     ]
    }
   ],
   "source": [
    "items2 = [\n",
    "    {\"name\": \"박보슬\",\"age\": 31,\"lovelevel\":90}, #이게 하나의 ele1\n",
    "    {\"name\": \"서빛나리\",\"age\": 31,\"lovelevel\":88}, # ele2\n",
    "    {\"name\": \"이슬\",\"age\": 29,\"lovelevel\":79} # ele3\n",
    "]\n",
    "\n",
    "header_str1 = '{:10}{:10}{:10}'\n",
    "print(\"[태양이의 전여친 리스트]\")\n",
    "print(header_str1.format('이름','나이','애정도'))\n",
    "print('-'*40)\n",
    "\n",
    "data_str1 = '{}{}{}'\n",
    "for ele in items2 :\n",
    "    ele_name = ele['name']\n",
    "    ele_age = ele['age']\n",
    "    ele_lovelevel = ele['lovelevel']\n",
    "    \n",
    "    print(data_str1.format(ele_name, ele_age, ele_lovelevel))"
>>>>>>> a2151e4 (수업자료 정리)
   ]
  },
  {
   "cell_type": "markdown",
   "id": "e1667605-01a7-4fd6-ac09-6d42d92c2db8",
   "metadata": {},
   "source": [
    "### 추가공부\n",
    "| 함수                  | 설명                  | 예시                                        |\n",
    "| ------------------- | ------------------- | ----------------------------------------- |\n",
    "| lower()           | 모두 소문자로 변환          | \"Python\".lower() → \"python\"           |\n",
    "| upper()           | 모두 대문자로 변환          | \"python\".upper() → \"PYTHON\"           |\n",
    "| capitalize()      | 첫 글자만 대문자           | \"hello\".capitalize() → \"Hello\"        |\n",
    "| title()           | 각 단어의 첫 글자 대문자      | \"hello world\".title() → \"Hello World\" |\n",
    "| strip()           | 앞뒤 공백 제거            | \" hello \".strip() → \"hello\"           |\n",
    "| lstrip()          | 왼쪽 공백 제거            | \" hello\".lstrip()                       |\n",
    "| rstrip()          | 오른쪽 공백 제거           | \"hello \".rstrip()                       |\n",
    "| replace(old, new) | 문자열 바꾸기             | \"hello\".replace(\"l\", \"x\") → \"hexxo\"   |\n",
    "| split()           | 문자열 나누기 (기본: 공백)    | \"a b c\".split() → ['a', 'b', 'c']     |\n",
    "| join(list)        | 리스트를 문자열로 결합        | \" \".join(['a', 'b']) → \"a b\"          |\n",
    "| find(sub)         | 처음 등장하는 위치 (없으면 -1) | \"apple\".find(\"p\") → 1                 |\n",
    "| index(sub)        | 처음 등장하는 위치 (없으면 오류) | \"apple\".index(\"p\") → 1                |\n",
    "| count(sub)        | 부분 문자열 개수           | \"banana\".count(\"a\") → 3               |\n",
    "| startswith(sub)   | 해당 문자열로 시작?         | \"python\".startswith(\"py\") → True      |\n",
    "| endswith(sub)     | 해당 문자열로 끝남?         | \"python\".endswith(\"on\") → True        |\n",
    "| isalnum()         | 영문자+숫자인가?           | \"abc123\".isalnum() → True             |\n",
    "| isalpha()         | 영문자만인가?             | \"abc\".isalpha() → True                |\n",
    "| isdigit()         | 숫자만인가?              | \"123\".isdigit() → True                |\n",
    "| isspace()         | 공백문자만 있는가?          | \" \\t\\n\".isspace() → True              |"
   ]
  },
  {
   "cell_type": "code",
   "execution_count": null,
   "id": "7c29b461-4e8b-4b9a-93a8-73f6b977f4dd",
   "metadata": {},
   "outputs": [],
   "source": []
  },
  {
   "cell_type": "markdown",
   "id": "14b59692-7cdf-46bc-8551-b62c37481f82",
   "metadata": {},
   "source": [
    "# type error"
   ]
  },
  {
   "cell_type": "code",
   "execution_count": 54,
   "id": "b251bad1-4165-4476-98a6-db987b07e6c2",
   "metadata": {},
   "outputs": [
    {
     "ename": "TypeError",
     "evalue": "unsupported operand type(s) for +: 'int' and 'str'",
     "output_type": "error",
     "traceback": [
      "\u001b[31m---------------------------------------------------------------------------\u001b[39m",
      "\u001b[31mTypeError\u001b[39m                                 Traceback (most recent call last)",
      "\u001b[36mCell\u001b[39m\u001b[36m \u001b[39m\u001b[32mIn[54]\u001b[39m\u001b[32m, line 3\u001b[39m\n\u001b[32m      1\u001b[39m b = \u001b[32m2\u001b[39m\n\u001b[32m      2\u001b[39m c = \u001b[33m'\u001b[39m\u001b[33m3\u001b[39m\u001b[33m'\u001b[39m\n\u001b[32m----> \u001b[39m\u001b[32m3\u001b[39m b+c\n",
      "\u001b[31mTypeError\u001b[39m: unsupported operand type(s) for +: 'int' and 'str'"
     ]
    }
   ],
   "source": [
    "b = 2\n",
    "c = '3'\n",
<<<<<<< HEAD
    "b+c #type error"
=======
    "#b+c #type error"
>>>>>>> a2151e4 (수업자료 정리)
   ]
  },
  {
   "cell_type": "code",
   "execution_count": 55,
   "id": "4f673c51-cb37-43c3-a3ac-c15e88a00ead",
   "metadata": {},
   "outputs": [
    {
     "data": {
      "text/plain": [
       "5"
      ]
     },
     "execution_count": 55,
     "metadata": {},
     "output_type": "execute_result"
    }
   ],
   "source": [
    "b + int(c)"
   ]
  },
  {
   "cell_type": "code",
   "execution_count": null,
   "id": "70fc121c-ca03-4e28-b7e3-fae2df6afe8d",
   "metadata": {},
   "outputs": [],
   "source": [
    "c = '3a'\n",
    "b + int(c) #value error - C는 타입을 바꿀 수 없는 값이라는 오류내용"
   ]
  },
  {
   "cell_type": "code",
   "execution_count": 57,
   "id": "cd1fcfb8-b307-4a1d-8752-4e99a5bd2e7c",
   "metadata": {},
   "outputs": [
    {
     "data": {
      "text/plain": [
       "5"
      ]
     },
     "execution_count": 57,
     "metadata": {},
     "output_type": "execute_result"
    }
   ],
   "source": [
    "b + int(c[:1])"
   ]
<<<<<<< HEAD
=======
  },
  {
   "cell_type": "markdown",
   "id": "fa9df43e-2903-42dd-9d54-0a0c0c4e24aa",
   "metadata": {},
   "source": [
    "# 리스트(List)\n",
    "\n",
    "여러개의 값을 묶어서 하나의 변수로 다루는 자료형\n",
    "\n",
    "생성법\n",
    "1. [ ] 대괄호를 사용\n",
    "2. 데이터는 , 쉼표로 구분\n",
    "3. [ ] 빈 대괄호는 초기화\n",
    "4. 숫자, 문자, 부울 등 리슽트 같은 객체 모두 담을 수 있다.\n",
    "5. 순서 index를 가진다 0부터 시작\n",
    "6. 음수 인덱스도 가진다"
   ]
  },
  {
   "cell_type": "code",
   "execution_count": 142,
   "id": "479a4722-b291-4fa4-9d25-e3f12222bba2",
   "metadata": {},
   "outputs": [
    {
     "data": {
      "text/plain": [
       "30"
      ]
     },
     "execution_count": 142,
     "metadata": {},
     "output_type": "execute_result"
    }
   ],
   "source": [
    "쥐새끼 = ['고광훈','김서호','황인욱','윤정환','박태양']\n",
    "\n",
    "score = [30,50,90,80,70]\n",
    "score[0] #첫번째 학생의 점수 "
   ]
  },
  {
   "cell_type": "code",
   "execution_count": 143,
   "id": "e1e3f8df-e2ed-41a5-af10-936662f1923b",
   "metadata": {},
   "outputs": [
    {
     "data": {
      "text/plain": [
       "(list, int)"
      ]
     },
     "execution_count": 143,
     "metadata": {},
     "output_type": "execute_result"
    }
   ],
   "source": [
    "type(score), type(score[0])"
   ]
  },
  {
   "cell_type": "code",
   "execution_count": 31,
   "id": "2f9a13bf-0d30-47de-a337-ee794fcb27e9",
   "metadata": {
    "collapsed": true,
    "jupyter": {
     "outputs_hidden": true
    },
    "scrolled": true
   },
   "outputs": [
    {
     "data": {
      "text/plain": [
       "['__add__',\n",
       " '__class__',\n",
       " '__class_getitem__',\n",
       " '__contains__',\n",
       " '__delattr__',\n",
       " '__delitem__',\n",
       " '__dir__',\n",
       " '__doc__',\n",
       " '__eq__',\n",
       " '__format__',\n",
       " '__ge__',\n",
       " '__getattribute__',\n",
       " '__getitem__',\n",
       " '__getstate__',\n",
       " '__gt__',\n",
       " '__hash__',\n",
       " '__iadd__',\n",
       " '__imul__',\n",
       " '__init__',\n",
       " '__init_subclass__',\n",
       " '__iter__',\n",
       " '__le__',\n",
       " '__len__',\n",
       " '__lt__',\n",
       " '__mul__',\n",
       " '__ne__',\n",
       " '__new__',\n",
       " '__reduce__',\n",
       " '__reduce_ex__',\n",
       " '__repr__',\n",
       " '__reversed__',\n",
       " '__rmul__',\n",
       " '__setattr__',\n",
       " '__setitem__',\n",
       " '__sizeof__',\n",
       " '__str__',\n",
       " '__subclasshook__',\n",
       " 'append',\n",
       " 'clear',\n",
       " 'copy',\n",
       " 'count',\n",
       " 'extend',\n",
       " 'index',\n",
       " 'insert',\n",
       " 'pop',\n",
       " 'remove',\n",
       " 'reverse',\n",
       " 'sort']"
      ]
     },
     "execution_count": 31,
     "metadata": {},
     "output_type": "execute_result"
    }
   ],
   "source": [
    "dir(score)"
   ]
  },
  {
   "cell_type": "code",
   "execution_count": 145,
   "id": "f148df33-754d-43bc-9ea3-6b928f175657",
   "metadata": {},
   "outputs": [],
   "source": [
    "ra = range(2,20,2) # 함수 / 숫자의 배열, 순열"
   ]
  },
  {
   "cell_type": "code",
   "execution_count": 148,
   "id": "3615149b-0359-4c55-ba69-af457e420c7e",
   "metadata": {},
   "outputs": [
    {
     "data": {
      "text/plain": [
       "[2, 4, 6, 8, 10, 12, 14, 16, 18]"
      ]
     },
     "execution_count": 148,
     "metadata": {},
     "output_type": "execute_result"
    }
   ],
   "source": [
    "num_list = list(ra) #생성자\n",
    "num_list"
   ]
  },
  {
   "cell_type": "code",
   "execution_count": 149,
   "id": "a5876ed3-04bf-4ebc-a736-ede57e8b432e",
   "metadata": {},
   "outputs": [
    {
     "data": {
      "text/plain": [
       "18"
      ]
     },
     "execution_count": 149,
     "metadata": {},
     "output_type": "execute_result"
    }
   ],
   "source": [
    "num_list[-1]"
   ]
  },
  {
   "cell_type": "code",
   "execution_count": 150,
   "id": "bbce120e-e3a0-461a-8d2a-634027d1772d",
   "metadata": {},
   "outputs": [
    {
     "data": {
      "text/plain": [
       "9"
      ]
     },
     "execution_count": 150,
     "metadata": {},
     "output_type": "execute_result"
    }
   ],
   "source": [
    "#메소드 : 주인이 있는 함수 ra가 주인 ra에만 해당되는 함수임 \n",
    "ra.__len__() #len = 리스트 안에 몇 글자인지 찾는 함수"
   ]
  },
  {
   "cell_type": "code",
   "execution_count": 151,
   "id": "fad80ab0-05fc-46e8-b7b9-28fd3798184d",
   "metadata": {},
   "outputs": [
    {
     "data": {
      "text/plain": [
       "1"
      ]
     },
     "execution_count": 151,
     "metadata": {},
     "output_type": "execute_result"
    }
   ],
   "source": [
    "num_list.count(2) #2가 몇개인지 찾는 함수 "
   ]
  },
  {
   "cell_type": "markdown",
   "id": "28932583-608c-4f6b-8237-3b8dba3f0206",
   "metadata": {},
   "source": [
    "method와 funtion\n",
    "\n",
    "1. method : 객체의 한해서 동작하는 함수 > 객체명.함수()\n",
    "2. funtion : 함수 ( 매개변수 ) > 매개변수로 동작하는 함수\n",
    "\n",
    "dir() > funtion   \n",
    "list_obj.len() > method"
   ]
  },
  {
   "cell_type": "code",
   "execution_count": 3,
   "id": "8f76870e-cbb2-4441-ac71-24a0e4bbdc19",
   "metadata": {},
   "outputs": [],
   "source": [
    "str_1 = 'hello'\n",
    "#불가 -> str_1[o] = 'H' #typeerror > str Immutable"
   ]
  },
  {
   "cell_type": "code",
   "execution_count": 4,
   "id": "f680d627-9af9-426c-915e-4644c3381e3c",
   "metadata": {},
   "outputs": [
    {
     "data": {
      "text/plain": [
       "['h', 'e', 'l', 'l', 'o']"
      ]
     },
     "execution_count": 4,
     "metadata": {},
     "output_type": "execute_result"
    }
   ],
   "source": [
    "list(str_1) #문자열 > 문자열리스트"
   ]
  },
  {
   "cell_type": "code",
   "execution_count": 15,
   "id": "08735d30-b816-4a82-874d-3bb057fff830",
   "metadata": {},
   "outputs": [
    {
     "data": {
      "text/plain": [
       "['H', 'e', 'l', 'l', 'o']"
      ]
     },
     "execution_count": 15,
     "metadata": {},
     "output_type": "execute_result"
    }
   ],
   "source": [
    "str_2 = list(str_1)\n",
    "str_2[0] = 'H'\n",
    "str_2"
   ]
  },
  {
   "cell_type": "code",
   "execution_count": 13,
   "id": "4bae7fb6-1e89-4c94-9b62-aded8fb2b4e3",
   "metadata": {
    "scrolled": true
   },
   "outputs": [
    {
     "name": "stdout",
     "output_type": "stream",
     "text": [
      "Hello\n"
     ]
    }
   ],
   "source": [
    "#복습\n",
    "\n",
    "str_3 = ''.join(str_2)\n",
    "print(str_3)\n",
    "\n"
   ]
  },
  {
   "cell_type": "code",
   "execution_count": 22,
   "id": "f870162b-5c0e-4ea9-aab3-32f746e7d9e7",
   "metadata": {},
   "outputs": [
    {
     "name": "stdout",
     "output_type": "stream",
     "text": [
      "Hello\n"
     ]
    }
   ],
   "source": [
    "print(text.format(*str_2))"
   ]
  },
  {
   "cell_type": "code",
   "execution_count": 163,
   "id": "948f8458-30a8-4ba6-8c23-b91807ceccb1",
   "metadata": {
    "jupyter": {
     "source_hidden": true
    }
   },
   "outputs": [
    {
     "data": {
      "text/plain": [
       "'Hello'"
      ]
     },
     "execution_count": 163,
     "metadata": {},
     "output_type": "execute_result"
    }
   ],
   "source": [
    "str_3 ='{}{}{}{}{}'\n",
    "str_3.format(*str_2)\n",
    "\n"
   ]
  },
  {
   "cell_type": "code",
   "execution_count": 78,
   "id": "09b4600c-3682-434e-b150-de3b4519d669",
   "metadata": {
    "jupyter": {
     "source_hidden": true
    }
   },
   "outputs": [
    {
     "data": {
      "text/plain": [
       "'Hello'"
      ]
     },
     "execution_count": 78,
     "metadata": {},
     "output_type": "execute_result"
    }
   ],
   "source": [
    "result = ''.join(str_2)\n",
    "result"
   ]
  },
  {
   "cell_type": "code",
   "execution_count": 31,
   "id": "9a97cb3f-0d61-4f0c-b607-17e37c1c781c",
   "metadata": {},
   "outputs": [
    {
     "name": "stdout",
     "output_type": "stream",
     "text": [
      "27\n"
     ]
    }
   ],
   "source": [
    "song = '''아기 상어\n",
    "뚜 루루 뚜루\n",
    "귀여운\n",
    "뚜 루루 뚜루\n",
    "바닷속\n",
    "뚜 루루 뚜루\n",
    "아기 상어!\n",
    "\n",
    "엄마 상어\n",
    "뚜 루루 뚜루\n",
    "어여쁜\n",
    "뚜 루루 뚜루\n",
    "바닷속\n",
    "뚜 루루 뚜루\n",
    "엄마 상어!\n",
    "\n",
    "아빠 상어\n",
    "뚜 루루 뚜루\n",
    "힘이 센\n",
    "뚜 루루 뚜루\n",
    "바닷속\n",
    "뚜 루루 뚜루\n",
    "아빠 상어!\n",
    "\n",
    "할머니 상어\n",
    "뚜 루루 뚜루\n",
    "자상한\n",
    "뚜 루루 뚜루\n",
    "바닷속\n",
    "뚜 루루 뚜루\n",
    "할머니 상어!\n",
    "\n",
    "할아버지 상어\n",
    "뚜 루루 뚜루\n",
    "멋있는\n",
    "뚜 루루 뚜루\n",
    "바닷속\n",
    "뚜 루루 뚜루\n",
    "할아버지 상어!\n",
    "\n",
    "우리는\n",
    "뚜 루루 뚜루\n",
    "바다의\n",
    "뚜 루루 뚜루\n",
    "사냥꾼\n",
    "뚜 루루 뚜루\n",
    "상어가족!\n",
    "\n",
    "상어다\n",
    "뚜 루루 뚜루\n",
    "도망쳐\n",
    "뚜 루루 뚜루\n",
    "도망쳐\n",
    "뚜 루루 뚜루\n",
    "숨자 으악!\n",
    "\n",
    "살았다\n",
    "뚜 루루 뚜루\n",
    "살았다\n",
    "뚜 루루 뚜루\n",
    "오늘도\n",
    "뚜 루루 뚜루\n",
    "살았다\n",
    "휴!\n",
    "\n",
    "신난다\n",
    "뚜 루루 뚜루\n",
    "신난다\n",
    "뚜 루루 뚜루\n",
    "춤을 춰\n",
    "뚜 루루 뚜루\n",
    "노래 끝!\n",
    "오예\n",
    "'''\n",
    "\n",
    "result = song.count('뚜 루루')\n",
    "print(result)\n"
   ]
  },
  {
   "cell_type": "code",
   "execution_count": 83,
   "id": "d4fe9b00-bde0-4309-82d4-1e7f24335373",
   "metadata": {},
   "outputs": [
    {
     "data": {
      "text/plain": [
       "[['aaa', 'bbb', 'ccc'], [1, 2, 'aaa', 'bbb']]"
      ]
     },
     "execution_count": 83,
     "metadata": {},
     "output_type": "execute_result"
    }
   ],
   "source": [
    "#리스트 생성\n",
    "a = list()\n",
    "a = []\n",
    "b = [1,2,3,4,5]\n",
    "c = ['aaa','bbb','ccc']\n",
    "d = [1,2,'aaa','bbb']\n",
    "e = [c,d]\n",
    "\n",
    "e"
   ]
  },
  {
   "cell_type": "code",
   "execution_count": 85,
   "id": "b6a27caf-56fc-467c-9aba-467df8a202ed",
   "metadata": {},
   "outputs": [
    {
     "data": {
      "text/plain": [
       "['bbb']"
      ]
     },
     "execution_count": 85,
     "metadata": {},
     "output_type": "execute_result"
    }
   ],
   "source": [
    "e[1][3:]"
   ]
  },
  {
   "cell_type": "code",
   "execution_count": 15,
   "id": "12b7a247-f7cb-495d-9afb-b7f5ef4c62b5",
   "metadata": {},
   "outputs": [
    {
     "data": {
      "text/plain": [
       "[[1, 2], [3, 4]]"
      ]
     },
     "execution_count": 15,
     "metadata": {},
     "output_type": "execute_result"
    }
   ],
   "source": [
    "score =[[1,2],[3,4]]\n",
    "score"
   ]
  },
  {
   "cell_type": "markdown",
   "id": "49d0d6b2-7fb6-430b-848f-0879df72b859",
   "metadata": {
    "jp-MarkdownHeadingCollapsed": true
   },
   "source": [
    "### 복사\n",
    "1.얕은 복사 shallow copy    \n",
    "2.깊은 복사 deep copy"
   ]
  },
  {
   "cell_type": "code",
   "execution_count": 4,
   "id": "de63eeab-fd77-462f-8715-d8e4e083ca0e",
   "metadata": {},
   "outputs": [
    {
     "data": {
      "text/plain": [
       "[[100, 2], [3, 4]]"
      ]
     },
     "execution_count": 4,
     "metadata": {},
     "output_type": "execute_result"
    }
   ],
   "source": [
    "n_score = score[:] #얕은 카피 \n",
    "n_score[0][0] = 100\n",
    "n_score"
   ]
  },
  {
   "cell_type": "code",
   "execution_count": 16,
   "id": "97519e59-4774-48bb-babd-b2bfda526dc5",
   "metadata": {},
   "outputs": [
    {
     "data": {
      "text/plain": [
       "[[1, 2], [3, 4]]"
      ]
     },
     "execution_count": 16,
     "metadata": {},
     "output_type": "execute_result"
    }
   ],
   "source": [
    "score"
   ]
  },
  {
   "cell_type": "code",
   "execution_count": 18,
   "id": "8f6b5d56-03f6-473a-b0cf-737c6f28f683",
   "metadata": {},
   "outputs": [
    {
     "data": {
      "text/plain": [
       "[[1, 101], [3, 4]]"
      ]
     },
     "execution_count": 18,
     "metadata": {},
     "output_type": "execute_result"
    }
   ],
   "source": [
    "import copy\n",
    "copied = copy.deepcopy(score)\n",
    "copied[0][1] = 101\n",
    "copied"
   ]
  },
  {
   "cell_type": "code",
   "execution_count": 19,
   "id": "5e385f5e-acd5-4d65-a8f9-cd4f2ec39b6c",
   "metadata": {},
   "outputs": [
    {
     "data": {
      "text/plain": [
       "[[1, 2], [3, 4]]"
      ]
     },
     "execution_count": 19,
     "metadata": {},
     "output_type": "execute_result"
    }
   ],
   "source": [
    "score"
   ]
  },
  {
   "cell_type": "markdown",
   "id": "e0d3d2b8-94d4-4dec-b31f-fa5b659ee6ca",
   "metadata": {},
   "source": [
    "## 리스트의 연산\n",
    "\n",
    "- '+'__add__()\n",
    "- '*'__mul__()\n",
    "- del list[항목]\n",
    "- in list -> True/False"
   ]
  },
  {
   "cell_type": "code",
   "execution_count": 31,
   "id": "b3eedb79-358d-4e3b-9c45-fcc7acbe1b22",
   "metadata": {},
   "outputs": [
    {
     "data": {
      "text/plain": [
       "['해물라면', '샐러드', '떡볶이', '오므라이스', '볶음밥', '떡볶이2', '제육볶음', '주먹밥']"
      ]
     },
     "execution_count": 31,
     "metadata": {},
     "output_type": "execute_result"
    }
   ],
   "source": [
    "lunch1 = ['해물라면', '샐러드', '떡볶이']\n",
    "lunch2 = ['오므라이스', '볶음밥', '떡볶이2', '제육볶음', '주먹밥']\n",
    "lunch1 + lunch2"
   ]
  },
  {
   "cell_type": "code",
   "execution_count": 32,
   "id": "68d28c6a-c6f2-4248-b567-f951e9415d5d",
   "metadata": {},
   "outputs": [
    {
     "data": {
      "text/plain": [
       "['해물라면', '샐러드', '떡볶이', '해물라면', '샐러드', '떡볶이']"
      ]
     },
     "execution_count": 32,
     "metadata": {},
     "output_type": "execute_result"
    }
   ],
   "source": [
    "lunch1*2"
   ]
  },
  {
   "cell_type": "code",
   "execution_count": 33,
   "id": "ab5d394f-df76-4fe2-bda6-3c18d9d9298b",
   "metadata": {},
   "outputs": [],
   "source": [
    "del lunch1[0] #단항연산자"
   ]
  },
  {
   "cell_type": "code",
   "execution_count": 34,
   "id": "bbcb3351-1c66-4bb9-b111-527500fd0ce4",
   "metadata": {},
   "outputs": [
    {
     "data": {
      "text/plain": [
       "['샐러드', '떡볶이']"
      ]
     },
     "execution_count": 34,
     "metadata": {},
     "output_type": "execute_result"
    }
   ],
   "source": [
    "lunch1"
   ]
  },
  {
   "cell_type": "code",
   "execution_count": 39,
   "id": "f4817280-5e7d-4a31-bd5a-50bdc589f9a9",
   "metadata": {},
   "outputs": [
    {
     "data": {
      "text/plain": [
       "['샐러드', '떡볶이', '오므라이스', '볶음밥', '떡볶이2', '제육볶음', '주먹밥']"
      ]
     },
     "execution_count": 39,
     "metadata": {},
     "output_type": "execute_result"
    }
   ],
   "source": [
    "lun3 = lunch1+lunch2\n",
    "lun3"
   ]
  },
  {
   "cell_type": "code",
   "execution_count": 41,
   "id": "320c46f3-e3bf-4d6c-9265-c5ab83ba722c",
   "metadata": {},
   "outputs": [],
   "source": [
    "del lun3[1]"
   ]
  },
  {
   "cell_type": "code",
   "execution_count": 42,
   "id": "cc69095c-32b7-4dcc-987a-32ecb14c2522",
   "metadata": {},
   "outputs": [
    {
     "data": {
      "text/plain": [
       "['샐러드', '볶음밥', '떡볶이2', '제육볶음', '주먹밥']"
      ]
     },
     "execution_count": 42,
     "metadata": {},
     "output_type": "execute_result"
    }
   ],
   "source": [
    "lun3"
   ]
  },
  {
   "cell_type": "code",
   "execution_count": 44,
   "id": "63513cd9-984e-48a4-b3f3-a31647108eee",
   "metadata": {},
   "outputs": [
    {
     "data": {
      "text/plain": [
       "True"
      ]
     },
     "execution_count": 44,
     "metadata": {},
     "output_type": "execute_result"
    }
   ],
   "source": [
    "'샐러드' in lun3"
   ]
  },
  {
   "cell_type": "markdown",
   "id": "17cc17d3-e5bf-43b1-a15d-6d5422a6bcee",
   "metadata": {},
   "source": [
    "# 간식박스 프로그램"
   ]
  },
  {
   "cell_type": "code",
   "execution_count": 70,
   "id": "0ce34e0c-a36c-4eff-9dc5-9903bf197afa",
   "metadata": {},
   "outputs": [
    {
     "name": "stdin",
     "output_type": "stream",
     "text": [
      "먹고싶은 간식을 추가하세요. 단, 쉼표(,)로 연결하세요 땡콩\n"
     ]
    },
    {
     "data": {
      "text/plain": [
       "['초코파이', '홈런볼', '하리보젤리', '땡콩']"
      ]
     },
     "execution_count": 70,
     "metadata": {},
     "output_type": "execute_result"
    }
   ],
   "source": [
    "#간식박스 프로그램 1\n",
    "snack_box = ['초코파이','홈런볼','하리보젤리']\n",
    "n_sneck = input('먹고싶은 간식을 추가하세요. 단, 쉼표(,)로 연결하세요').split(',')\n",
    "snack_box += n_sneck\n",
    "snack_box\n"
   ]
  },
  {
   "cell_type": "code",
   "execution_count": 71,
   "id": "c82e301d-c078-4dd9-ba2b-80d40103849e",
   "metadata": {},
   "outputs": [
    {
     "name": "stdin",
     "output_type": "stream",
     "text": [
      "간식박스 몇 세트로 포장할까요? 예: 2 -> 2box) 2\n"
     ]
    },
    {
     "data": {
      "text/plain": [
       "['초코파이', '홈런볼', '하리보젤리', '땡콩', '초코파이', '홈런볼', '하리보젤리', '땡콩']"
      ]
     },
     "execution_count": 71,
     "metadata": {},
     "output_type": "execute_result"
    }
   ],
   "source": [
    "qty = int(input('간식박스 몇 세트로 포장할까요? 예: 2 -> 2box)') )\n",
    "snack_box *= qty\n",
    "snack_box"
   ]
  },
  {
   "cell_type": "code",
   "execution_count": 74,
   "id": "e4a9bc7d-c47a-4110-9052-0feb3c7cfa0c",
   "metadata": {},
   "outputs": [
    {
     "data": {
      "text/plain": [
       "['초코파이',\n",
       " '홈런볼',\n",
       " '하리보젤리',\n",
       " '땡콩',\n",
       " '초코파이',\n",
       " '홈런볼',\n",
       " '하리보젤리',\n",
       " '땡콩',\n",
       " '초코파이',\n",
       " '홈런볼',\n",
       " '하리보젤리',\n",
       " '땡콩',\n",
       " '초코파이',\n",
       " '홈런볼',\n",
       " '하리보젤리',\n",
       " '땡콩',\n",
       " '초코파이',\n",
       " '홈런볼',\n",
       " '하리보젤리',\n",
       " '땡콩',\n",
       " '초코파이',\n",
       " '홈런볼',\n",
       " '하리보젤리',\n",
       " '땡콩',\n",
       " '초코파이',\n",
       " '홈런볼',\n",
       " '하리보젤리',\n",
       " '땡콩',\n",
       " '초코파이',\n",
       " '홈런볼',\n",
       " '하리보젤리',\n",
       " '땡콩']"
      ]
     },
     "execution_count": 74,
     "metadata": {},
     "output_type": "execute_result"
    }
   ],
   "source": [
    "snack_box *= qty\n",
    "snack_box"
   ]
  },
  {
   "cell_type": "code",
   "execution_count": 75,
   "id": "2265fec2-2739-4678-ba57-324b07fe58c0",
   "metadata": {},
   "outputs": [
    {
     "name": "stdout",
     "output_type": "stream",
     "text": [
      "주문하신 간식상자는 초코파이,홈런볼,하리보젤리등 입니다. 확인해주세요.\n"
     ]
    }
   ],
   "source": [
    "print(f'주문하신 간식상자는 {snack_box[0]},{snack_box[1]},{snack_box[2]}등 입니다. 확인해주세요.')"
   ]
  },
  {
   "cell_type": "code",
   "execution_count": 63,
   "id": "f95605c8-37f4-466f-8966-eed56919c0eb",
   "metadata": {},
   "outputs": [
    {
     "name": "stdin",
     "output_type": "stream",
     "text": [
      "혹시 빼고싶은 간식이 있으면 번호를 입력하세요(0~14) 2\n"
     ]
    }
   ],
   "source": [
    "msg = f'혹시 빼고싶은 간식이 있으면 번호를 입력하세요(0~{len(snack_box)-1})'\n",
    "snack_no = int(input(msg))"
   ]
  },
  {
   "cell_type": "code",
   "execution_count": 65,
   "id": "7754df91-3763-49af-9b08-5edf17811d5e",
   "metadata": {},
   "outputs": [
    {
     "data": {
      "text/plain": [
       "['초코파이',\n",
       " '홈런볼',\n",
       " ' 견과류',\n",
       " '초코파이',\n",
       " '홈런볼',\n",
       " '하리보젤리',\n",
       " '땅콩',\n",
       " ' 견과류',\n",
       " '초코파이',\n",
       " '홈런볼',\n",
       " '하리보젤리',\n",
       " '땅콩',\n",
       " ' 견과류']"
      ]
     },
     "execution_count": 65,
     "metadata": {},
     "output_type": "execute_result"
    }
   ],
   "source": [
    "del snack_box[snack_no]\n",
    "snack_box"
   ]
  },
  {
   "cell_type": "code",
   "execution_count": 66,
   "id": "4a66d747-71c7-479f-be11-a2122da124a7",
   "metadata": {},
   "outputs": [
    {
     "name": "stdin",
     "output_type": "stream",
     "text": [
      "찾고 싶은 간식을 입력하세요 홈런볼\n"
     ]
    },
    {
     "name": "stdout",
     "output_type": "stream",
     "text": [
      "있어요\n"
     ]
    }
   ],
   "source": [
    "# 간식박스 관리프로그램 4\n",
    "# 찾고 싶은 간식번호를 입력하세요\n",
    "#있어요 or 없어요 출력 \n",
    "\n",
    "snack_name = input('찾고 싶은 간식을 입력하세요')\n",
    "if snack_name in snack_box :\n",
    "    print('있어요')\n",
    "else:\n",
    "    print('없어요')"
   ]
  },
  {
   "cell_type": "code",
   "execution_count": 69,
   "id": "7e510c36-a42d-4e05-bc5e-f519a978df1e",
   "metadata": {},
   "outputs": [
    {
     "name": "stdout",
     "output_type": "stream",
     "text": [
      "주문하신 간식박스는 뒤에서부터 다음과 같습니다.\n",
      "[' 견과류', '땅콩', '하리보젤리', '홈런볼', '초코파이', ' 견과류', '땅콩', '하리보젤리', '홈런볼', '초코파이', ' 견과류', '홈런볼', '초코파이'], 총13개 입니다.\n"
     ]
    }
   ],
   "source": [
    "#간식박스 관리 프로그램 5\n",
    "print('주문하신 간식박스는 뒤에서부터 다음과 같습니다.')\n",
    "print(f'{snack_box[::-1]}, 총{len(snack_box)}개 입니다.')"
   ]
  },
  {
   "cell_type": "markdown",
   "id": "b208f451-a72b-4fb8-8f23-40eb2d82f029",
   "metadata": {},
   "source": [
    "# list 메소드\n",
    "\n",
    "| 메서드                  | 사용 예시                    | 설명                |\n",
    "| -------------------- | ------------------------ | ----------------- |\n",
    "| append(x)          | lst.append(4)          | 맨 뒤에 x 추가       |\n",
    "| insert(i, x)       | lst.insert(1, \"a\")     | i 위치에 x 삽입    |\n",
    "| extend(iter)       | lst.extend([4, 5])     | 리스트에 여러 값 추가      |\n",
    "| remove(x)          | lst.remove(\"a\")        | x와 일치하는 첫 항목 삭제 |\n",
    "| pop()              | lst.pop()              | 마지막 항목 제거하고 반환    |\n",
    "| pop(i)             | lst.pop(0)             | i번째 항목 제거하고 반환  |\n",
    "| clear()            | lst.clear()            | 리스트 전체 비우기        |\n",
    "| index(x)           | lst.index(\"a\")         | x의 위치(인덱스) 반환   |\n",
    "| count(x)           | lst.count(\"a\")         | x의 개수 세기        |\n",
    "| sort()             | lst.sort()             | 오름차순 정렬 (원본 변경)   |\n",
    "| sort(reverse=True) | lst.sort(reverse=True) | 내림차순 정렬           |\n",
    "| reverse()          | lst.reverse()          | 항목 순서 뒤집기         |\n",
    "| copy()             | lst2 = lst.copy()      | 리스트 복사            |"
   ]
  },
  {
   "cell_type": "code",
   "execution_count": 103,
   "id": "9b2544e5-b095-4b76-98cb-e7dcb939cefe",
   "metadata": {},
   "outputs": [
    {
     "name": "stdout",
     "output_type": "stream",
     "text": [
      "['지훈', '땡콩', '고라파덕', '팅코', '이상해씨']\n"
     ]
    }
   ],
   "source": [
    "lst = ['지훈','땡콩','고라파덕','팅코']\n",
    "\n",
    "lst.append('이상해씨')\n",
    "print(lst)"
   ]
  },
  {
   "cell_type": "code",
   "execution_count": 111,
   "id": "cf3af098-5250-4edd-9f9c-7664dc929dec",
   "metadata": {},
   "outputs": [
    {
     "name": "stdout",
     "output_type": "stream",
     "text": [
      "['훈발롬', '훈발롬', '훈발롬', '지훈', '땡콩', '고라파덕', '팅코', '이상해씨']\n"
     ]
    }
   ],
   "source": [
    "lst.insert(0,'훈발롬')\n",
    "print(lst)"
   ]
  },
  {
   "cell_type": "code",
   "execution_count": 98,
   "id": "dd6ca731-1f47-4fae-a7b2-7a0affa18a24",
   "metadata": {},
   "outputs": [
    {
     "name": "stdout",
     "output_type": "stream",
     "text": [
      "['훈발롬', '지훈', '땡콩', '고라파덕', '팅코', '이상해씨', '루피', '루피', '마조리카', '루피']\n"
     ]
    }
   ],
   "source": [
    "lst.extend(['마조리카','루피'])\n",
    "print(lst)"
   ]
  },
  {
   "cell_type": "code",
   "execution_count": 99,
   "id": "f72339c5-f128-40a6-9a1f-fd11a66377ce",
   "metadata": {},
   "outputs": [
    {
     "name": "stdout",
     "output_type": "stream",
     "text": [
      "['훈발롬', '지훈', '땡콩', '고라파덕', '팅코', '이상해씨', '루피', '루피', '루피']\n"
     ]
    }
   ],
   "source": [
    "lst.remove(\"마조리카\")\n",
    "print(lst)"
   ]
  },
  {
   "cell_type": "code",
   "execution_count": 100,
   "id": "ee84dfd1-addc-498e-bff6-df4d72cbb540",
   "metadata": {},
   "outputs": [
    {
     "name": "stdout",
     "output_type": "stream",
     "text": [
      "['훈발롬', '지훈', '땡콩', '고라파덕', '팅코', '이상해씨', '루피', '루피']\n"
     ]
    }
   ],
   "source": [
    "lst.pop()\n",
    "print(lst)"
   ]
  },
  {
   "cell_type": "code",
   "execution_count": 101,
   "id": "69512d2d-67e8-4b69-a830-12859ed15d4b",
   "metadata": {},
   "outputs": [
    {
     "name": "stdout",
     "output_type": "stream",
     "text": [
      "['훈발롬', '지훈', '땡콩', '고라파덕', '팅코', '이상해씨', '루피']\n"
     ]
    }
   ],
   "source": [
    "lst.pop(7)\n",
    "print(lst)"
   ]
  },
  {
   "cell_type": "code",
   "execution_count": 102,
   "id": "fe507cb7-8b76-410d-9d78-fa73cb24651c",
   "metadata": {},
   "outputs": [
    {
     "name": "stdout",
     "output_type": "stream",
     "text": [
      "[]\n"
     ]
    }
   ],
   "source": [
    "lst.clear()\n",
    "print(lst)"
   ]
  },
  {
   "cell_type": "code",
   "execution_count": 107,
   "id": "e3e7763b-e411-4e4f-99fd-11f8c59915b3",
   "metadata": {},
   "outputs": [
    {
     "name": "stdout",
     "output_type": "stream",
     "text": [
      "1\n"
     ]
    }
   ],
   "source": [
    "lst_no = lst.index(\"땡콩\")\n",
    "print(lst_no)"
   ]
  },
  {
   "cell_type": "code",
   "execution_count": 108,
   "id": "74033649-83f0-4d31-bf9a-456276530e76",
   "metadata": {},
   "outputs": [
    {
     "name": "stdout",
     "output_type": "stream",
     "text": [
      "['지훈', '땡콩', '고라파덕', '팅코', '이상해씨']\n"
     ]
    }
   ],
   "source": [
    "lst.index(\"고라파덕\")\n",
    "print(lst)"
   ]
  },
  {
   "cell_type": "code",
   "execution_count": 114,
   "id": "237e4cb9-5884-4153-b5c6-fe01f89967d0",
   "metadata": {},
   "outputs": [
    {
     "name": "stdout",
     "output_type": "stream",
     "text": [
      "3\n"
     ]
    }
   ],
   "source": [
    "lst_count = lst.count(\"훈발롬\")\n",
    "print(lst_count)"
   ]
  },
  {
   "cell_type": "code",
   "execution_count": 115,
   "id": "8aef77cb-0952-4252-ae18-78a346aa7645",
   "metadata": {},
   "outputs": [
    {
     "name": "stdout",
     "output_type": "stream",
     "text": [
      "['고라파덕', '땡콩', '이상해씨', '지훈', '팅코', '훈발롬', '훈발롬', '훈발롬']\n"
     ]
    }
   ],
   "source": [
    "lst.sort()\n",
    "print(lst)"
   ]
  },
  {
   "cell_type": "code",
   "execution_count": 121,
   "id": "b8f3a002-498e-49cf-be47-40fcd8e86364",
   "metadata": {},
   "outputs": [
    {
     "name": "stdout",
     "output_type": "stream",
     "text": [
      "['훈발롬', '훈발롬', '훈발롬', '팅코', '지훈', '이상해씨', '땡콩', '고라파덕']\n"
     ]
    }
   ],
   "source": [
    "lst.sort(reverse=True)\n",
    "print(lst)"
   ]
  },
  {
   "cell_type": "code",
   "execution_count": 133,
   "id": "25982085-4377-426a-957a-53db659a1163",
   "metadata": {},
   "outputs": [
    {
     "name": "stdout",
     "output_type": "stream",
     "text": [
      "['훈발롬', '훈발롬', '훈발롬', '팅코', '지훈', '이상해씨', '땡콩', '고라파덕']\n"
     ]
    }
   ],
   "source": [
    "lst.reverse()\n",
    "print(lst)"
   ]
  },
  {
   "cell_type": "code",
   "execution_count": 136,
   "id": "72918b54-b82e-456a-aa7b-57cd5fa9a523",
   "metadata": {},
   "outputs": [
    {
     "name": "stdout",
     "output_type": "stream",
     "text": [
      "['훈발롬', '훈발롬', '훈발롬', '팅코', '지훈', '이상해씨', '땡콩', '고라파덕']\n"
     ]
    }
   ],
   "source": [
    "lst1 = lst.copy()\n",
    "print(lst1)"
   ]
  },
  {
   "cell_type": "code",
   "execution_count": 138,
   "id": "b1846772-d246-4ca2-96da-7ee7446609f1",
   "metadata": {},
   "outputs": [
    {
     "name": "stdout",
     "output_type": "stream",
     "text": [
      "['시밸럼', '훈발롬', '훈발롬', '훈발롬', '팅코', '지훈', '이상해씨', '땡콩', '고라파덕']\n"
     ]
    }
   ],
   "source": [
    "lst1.insert(0,'시밸럼')\n",
    "print(lst1)"
   ]
  },
  {
   "cell_type": "code",
   "execution_count": 140,
   "id": "bc255441-31a1-4748-9431-12d3b54ad08d",
   "metadata": {},
   "outputs": [
    {
     "name": "stdout",
     "output_type": "stream",
     "text": [
      "['훈발롬', '훈발롬', '훈발롬', '팅코', '지훈', '이상해씨', '땡콩', '고라파덕']\n"
     ]
    }
   ],
   "source": [
    "#lst.\n",
    "print(lst)"
   ]
  },
  {
   "cell_type": "markdown",
   "id": "16568f6d-3219-4b53-bf72-05aec1c0e63f",
   "metadata": {},
   "source": [
    "# 연산자\n",
    "\n",
    "- 비식별연산자   \n",
    "1. **수치연산** :\n",
    "   사칙연산 / add() -> 특별메소드를 정의하고 객체에서 쓸 수 있다\n",
    "   숫자일 때는 기본 연산\n",
    "   형변환이 자동으로 일어난다 ex) int + float > float, int/int > float   \n",
    "2. **대입연산**  : assign, 할당 '='\n",
    "   변수 = 값\n",
    "   자기 자신에게 대입하는 연산 > [+=, -=, *=, /=] > ()가 자동으로 적용\n",
    "5. **비교연산**\n",
    "   '=' 와 '=='\n",
    "   '!=' '>=' '<='\n",
    "   리스트의 비교 '==' > 내용이 같은가?\n",
    "   리스트의 비교 'is' > 주소가 같은가?\n",
    "   \n",
    "   리스트의 주소 'id'가 동일한가?\n",
    "7. **논리연산**   \n",
    "   and, or, not\n",
    "   &, &&, |,\n",
    "   \n",
    "- 식별 연산자\n",
    "  1.is, is not"
   ]
  },
  {
   "cell_type": "code",
   "execution_count": 95,
   "id": "48ecb55c-3d73-4fcf-ba58-f47719faa0d1",
   "metadata": {},
   "outputs": [
    {
     "data": {
      "text/plain": [
       "True"
      ]
     },
     "execution_count": 95,
     "metadata": {},
     "output_type": "execute_result"
    }
   ],
   "source": [
    "lunch1 = ['주먹밥', '치킨', '칼국수']\n",
    "lunch2 = ['주먹밥', '치킨', '칼국수']\n",
    "\n",
    "lunch1 == lunch2"
   ]
  },
  {
   "cell_type": "code",
   "execution_count": 96,
   "id": "2bae1e5e-c6c2-469d-9b23-23085ddb514d",
   "metadata": {},
   "outputs": [
    {
     "data": {
      "text/plain": [
       "False"
      ]
     },
     "execution_count": 96,
     "metadata": {},
     "output_type": "execute_result"
    }
   ],
   "source": [
    "id(lunch1) == id(lunch2) #주소를 비교"
   ]
  },
  {
   "cell_type": "code",
   "execution_count": 97,
   "id": "9418bb60-c8e7-4971-983e-dbe3bfcbe23a",
   "metadata": {},
   "outputs": [
    {
     "data": {
      "text/plain": [
       "False"
      ]
     },
     "execution_count": 97,
     "metadata": {},
     "output_type": "execute_result"
    }
   ],
   "source": [
    "lunch1 is lunch2 #주소를 비교"
   ]
  },
  {
   "cell_type": "code",
   "execution_count": 73,
   "id": "c00f1ff3-c4fb-47f1-97f7-769f456268e7",
   "metadata": {},
   "outputs": [],
   "source": [
    "students = [\n",
    "               {'num':'1','name':'김철수','kor':90,'eng':80,'math':85,'total':0,'avg':0.0,'order':0 },\n",
    "               {'num':'2','name':'박제동','kor':90,'eng':85,'math':90,'total':0,'avg':0.0,'order':0 },\n",
    "               {'num':'3','name':'홍길동','kor':80,'eng':80,'math':80,'total':0,'avg':0.0,'order':0 }\n",
    "           ]"
   ]
  },
  {
   "cell_type": "code",
   "execution_count": 67,
   "id": "78fd64b4-e332-4be6-ba35-e0e8be19bfd8",
   "metadata": {},
   "outputs": [
    {
     "name": "stdout",
     "output_type": "stream",
     "text": [
      "{'num': '1', 'name': '김철수', 'kor': 90, 'eng': 80, 'math': 85, 'total': 255, 'avg': 198.33333333333334, 'order': 0} \n",
      " {'num': '2', 'name': '박제동', 'kor': 90, 'eng': 85, 'math': 90, 'total': 265, 'avg': 205.0, 'order': 0} \n",
      " {'num': '3', 'name': '홍길동', 'kor': 80, 'eng': 80, 'math': 80, 'total': 240, 'avg': 186.66666666666666, 'order': 0}\n"
     ]
    }
   ],
   "source": [
    "students[0]['total'] = students[0]['kor'] + students[0]['eng'] + students[0]['math']\n",
    "students[0]['avg'] = students[0]['kor'] + students[0]['eng'] + students[0]['math'] / 3\n",
    "students[1]['total'] = students[1]['kor'] + students[1]['eng'] + students[1]['math']\n",
    "students[1]['avg'] = students[1]['kor'] + students[1]['eng'] + students[1]['math'] / 3\n",
    "students[2]['total'] = students[2]['kor'] + students[2]['eng'] + students[2]['math']\n",
    "students[2]['avg'] = students[2]['kor'] + students[2]['eng'] + students[2]['math'] / 3\n",
    "print(students[0],\"\\n\",\n",
    "      students[1],\"\\n\",\n",
    "      students[2]\n",
    "     )"
   ]
  },
  {
   "cell_type": "code",
   "execution_count": 79,
   "id": "5f651c7e-455b-4301-8d55-33cca27812e2",
   "metadata": {},
   "outputs": [
    {
     "name": "stdout",
     "output_type": "stream",
     "text": [
      "{'num': '1', 'name': '김철수', 'kor': 90, 'eng': 80, 'math': 85, 'total': 255, 'avg': 85.0, 'order': 0}\n",
      "{'num': '2', 'name': '박제동', 'kor': 90, 'eng': 85, 'math': 90, 'total': 265, 'avg': 88.33333333333333, 'order': 0}\n",
      "{'num': '3', 'name': '홍길동', 'kor': 80, 'eng': 80, 'math': 80, 'total': 240, 'avg': 80.0, 'order': 0}\n"
     ]
    }
   ],
   "source": [
    "for student in students :\n",
    "    student['total'] = (student['kor'] + \n",
    "    student['eng'] + \n",
    "    student['math'])\n",
    "    student['avg'] = (student['total']/3)\n",
    "    print(student)"
   ]
  },
  {
   "cell_type": "code",
   "execution_count": 91,
   "id": "dac780f5-3efe-413a-a003-78f0cd64a8bb",
   "metadata": {},
   "outputs": [
    {
     "name": "stdout",
     "output_type": "stream",
     "text": [
      "김철수 2\n",
      "박제동 1\n",
      "홍길동 3\n"
     ]
    }
   ],
   "source": [
    "for student in students :\n",
    "    rank = 1 \n",
    "    for other in students :\n",
    "        if other['total'] >  student['total'] :\n",
    "            rank += 1\n",
    "\n",
    "    student['order'] = rank\n",
    "    print(student['name'], student['order'])"
   ]
  },
  {
   "cell_type": "code",
   "execution_count": 92,
   "id": "01ddb398-3981-4d15-b4ce-1acaf0533cc8",
   "metadata": {},
   "outputs": [
    {
     "name": "stdout",
     "output_type": "stream",
     "text": [
      "김철수 255 85.0 2\n",
      "박제동 265 88.33333333333333 1\n",
      "홍길동 240 80.0 3\n"
     ]
    }
   ],
   "source": [
    "for student in students :\n",
    "    print(student['name'],student['total'],student['avg'], student['order'])"
   ]
  },
  {
   "cell_type": "code",
   "execution_count": 105,
   "id": "ec12128a-fcaa-41ae-ac81-d87641882018",
   "metadata": {},
   "outputs": [],
   "source": [
    "rim_aka = ['땡콩', '루피', '팅코', '고라파덕', '큰공주']\n"
   ]
  },
  {
   "cell_type": "code",
   "execution_count": 106,
   "id": "b791cfde-a7f0-4f96-933d-66919eab6c55",
   "metadata": {},
   "outputs": [
    {
     "name": "stdout",
     "output_type": "stream",
     "text": [
      "<class 'str'> \n",
      " ['고라파덕', '땡콩', '루피', '큰공주', '팅코'] \n",
      " ['__add__', '__class__', '__class_getitem__', '__contains__', '__delattr__', '__delitem__', '__dir__', '__doc__', '__eq__', '__format__', '__ge__', '__getattribute__', '__getitem__', '__getstate__', '__gt__', '__hash__', '__iadd__', '__imul__', '__init__', '__init_subclass__', '__iter__', '__le__', '__len__', '__lt__', '__mul__', '__ne__', '__new__', '__reduce__', '__reduce_ex__', '__repr__', '__reversed__', '__rmul__', '__setattr__', '__setitem__', '__sizeof__', '__str__', '__subclasshook__', 'append', 'clear', 'copy', 'count', 'extend', 'index', 'insert', 'pop', 'remove', 'reverse', 'sort'] \n",
      " 2228720021632 \n",
      " 5\n"
     ]
    }
   ],
   "source": [
    "print(\n",
    "type(rim_aka[0]),'\\n',\n",
    "sorted(rim_aka),'\\n',\n",
    "dir(rim_aka),'\\n',\n",
    "id(rim_aka),'\\n',\n",
    "len(rim_aka)\n",
    ")"
   ]
  },
  {
   "cell_type": "code",
   "execution_count": 108,
   "id": "dcd6e66a-b921-4a7c-9ace-7a0b561834de",
   "metadata": {},
   "outputs": [
    {
     "data": {
      "text/plain": [
       "[5, 4, 3, 2, 1]"
      ]
     },
     "execution_count": 108,
     "metadata": {},
     "output_type": "execute_result"
    }
   ],
   "source": [
    "lista = [1,3,5,4,2]\n",
    "\n",
    "sorted(lista,reverse=True)"
   ]
  },
  {
   "cell_type": "code",
   "execution_count": 113,
   "id": "e098775c-0c23-4fef-9c4f-0ba52ab0ca42",
   "metadata": {},
   "outputs": [
    {
     "name": "stdout",
     "output_type": "stream",
     "text": [
      "Life is too short , Life is too short\n"
     ]
    }
   ],
   "source": [
    "words = ['Life','is','too','short']\n",
    "print(*words, \",\",' '.join(words))"
   ]
  },
  {
   "cell_type": "code",
   "execution_count": 141,
   "id": "78c9ecc1-c133-47db-ac2a-c6182c66f735",
   "metadata": {},
   "outputs": [
    {
     "name": "stdout",
     "output_type": "stream",
     "text": [
      "[3, 5, 7, 9, 1]\n"
     ]
    }
   ],
   "source": [
    "li = [1, 3, 5, 7, 9] \n",
    "li.append(li.pop(0))\n",
    "print(li)\n",
    "\n",
    "li += [1]"
   ]
  },
  {
   "cell_type": "markdown",
   "id": "37b63ac9-2cdc-4bf4-bb78-b6ab8b18232c",
   "metadata": {},
   "source": [
    "# 출력에 대한 꿀팁\n",
    "\n",
    "원본이 바뀌면 출력이 안나옴\n",
    "원본이 바뀌지 않은 것들은 출력되어 나옴"
   ]
  },
  {
   "cell_type": "markdown",
   "id": "300f760a-eaa4-41d6-9b90-cfc00d81d531",
   "metadata": {},
   "source": [
    "# 복합자료형"
   ]
  },
  {
   "cell_type": "code",
   "execution_count": 142,
   "id": "566373af-0de0-468c-8197-e2b4e3ba29d8",
   "metadata": {},
   "outputs": [
    {
     "data": {
      "text/plain": [
       "{'이름': 'alice', '나이': 25, '도시': '서울'}"
      ]
     },
     "execution_count": 142,
     "metadata": {},
     "output_type": "execute_result"
    }
   ],
   "source": [
    "person = {'이름':'alice', '나이':25, '도시':'서울'}\n",
    "person"
   ]
  },
  {
   "cell_type": "code",
   "execution_count": 146,
   "id": "ae4ab0a8-7b96-438b-a38f-6eb96cbf63a3",
   "metadata": {},
   "outputs": [
    {
     "data": {
      "text/plain": [
       "{'이름': '신떙콩', '나이': 25, '도시': '안양'}"
      ]
     },
     "execution_count": 146,
     "metadata": {},
     "output_type": "execute_result"
    }
   ],
   "source": [
    "tt_kong = dict(이름='신떙콩', 나이=25, 도시='안양')\n",
    "tt_kong"
   ]
  },
  {
   "cell_type": "code",
   "execution_count": 173,
   "id": "1a16c681-c0ff-431b-9ddd-fd64eabf51f9",
   "metadata": {},
   "outputs": [],
   "source": [
    "person2 = dict(성함='신고라파덕', 연령=26, 거주지='경기도')"
   ]
  },
  {
   "cell_type": "code",
   "execution_count": 152,
   "id": "b9a0ea04-7272-42a6-9b54-9d8aa14cd164",
   "metadata": {},
   "outputs": [
    {
     "data": {
      "text/plain": [
       "dict"
      ]
     },
     "execution_count": 152,
     "metadata": {},
     "output_type": "execute_result"
    }
   ],
   "source": [
    "type(person)"
   ]
  },
  {
   "cell_type": "code",
   "execution_count": 150,
   "id": "adb653de-7e00-4690-ac29-d2303af4d39d",
   "metadata": {},
   "outputs": [
    {
     "data": {
      "text/plain": [
       "dict"
      ]
     },
     "execution_count": 150,
     "metadata": {},
     "output_type": "execute_result"
    }
   ],
   "source": [
    "type(tt_kong)"
   ]
  },
  {
   "cell_type": "code",
   "execution_count": 161,
   "id": "ea69eb26-60fa-464c-bd17-7390b198d7fb",
   "metadata": {},
   "outputs": [],
   "source": [
    "ps = person.items()"
   ]
  },
  {
   "cell_type": "code",
   "execution_count": 162,
   "id": "156abdaf-9d4e-406d-b4b8-ff29d41357f3",
   "metadata": {},
   "outputs": [
    {
     "name": "stdout",
     "output_type": "stream",
     "text": [
      "('이름', 'alice')\n",
      "('나이', 25)\n",
      "('도시', '서울')\n"
     ]
    }
   ],
   "source": [
    "for p in ps :\n",
    "    print(p)"
   ]
  },
  {
   "cell_type": "code",
   "execution_count": 158,
   "id": "e2b4ebe1-f9a3-4d78-88af-bc2be673a52a",
   "metadata": {},
   "outputs": [],
   "source": [
    "key = person.keys()"
   ]
  },
  {
   "cell_type": "code",
   "execution_count": 159,
   "id": "e5c23394-2cba-4956-a5a4-8d19006bac46",
   "metadata": {},
   "outputs": [
    {
     "name": "stdout",
     "output_type": "stream",
     "text": [
      "이름\n",
      "나이\n",
      "도시\n"
     ]
    }
   ],
   "source": [
    "for k in key :\n",
    "    print(k)"
   ]
  },
  {
   "cell_type": "code",
   "execution_count": 168,
   "id": "9bff0ffb-a7fc-42f4-9662-adb5c849f0b5",
   "metadata": {},
   "outputs": [
    {
     "name": "stdout",
     "output_type": "stream",
     "text": [
      "dict_values(['alice', 25, '서울'])\n"
     ]
    }
   ],
   "source": [
    "pv = person.values()\n",
    "print(pv)"
   ]
  },
  {
   "cell_type": "code",
   "execution_count": 167,
   "id": "7a0f0ff7-fc17-434f-8b2a-04e821a69fe9",
   "metadata": {},
   "outputs": [
    {
     "name": "stdout",
     "output_type": "stream",
     "text": [
      "alice\n",
      "25\n",
      "서울\n"
     ]
    }
   ],
   "source": [
    "for v in pv :\n",
    "    print(v)"
   ]
  },
  {
   "cell_type": "markdown",
   "id": "091c2671-49dd-4138-b652-ceefaccfabb7",
   "metadata": {},
   "source": [
    "**update**\n",
    "\n",
    "- 키가 같으면 값만 교체\n",
    "- 키가 다르면 키값과 값이 추가\n"
   ]
  },
  {
   "cell_type": "code",
   "execution_count": 175,
   "id": "d6ecb8e8-44bf-4e39-892b-d126e06c5586",
   "metadata": {},
   "outputs": [
    {
     "name": "stdout",
     "output_type": "stream",
     "text": [
      "{'이름': '신떙콩', '나이': 25, '도시': '안양', '성함': '신고라파덕', '연령': 26, '거주지': '경기도'}\n"
     ]
    }
   ],
   "source": [
    "person.update(person2)\n",
    "print(person)"
   ]
  },
  {
   "cell_type": "markdown",
   "id": "236eb4da-2bcc-4e81-8d92-0c7d04b8a13f",
   "metadata": {},
   "source": [
    "### 리스트 버전"
   ]
  },
  {
   "cell_type": "code",
   "execution_count": 12,
   "id": "aa32a8a6-0127-4f18-92bb-b5d4fcb095f2",
   "metadata": {},
   "outputs": [
    {
     "name": "stdout",
     "output_type": "stream",
     "text": [
      "****************************************\n",
      "어서오세요 hun&co에 온 걸 환영한다\n",
      "1. 카미 3000\n",
      "2. 지상 4000\n",
      "3. 낙원 5000\n",
      "4. 레몬 6000\n"
     ]
    },
    {
     "name": "stdin",
     "output_type": "stream",
     "text": [
      "주문할 메뉴 번호를 입력하세요 :  1\n",
      "주문할 수량을 숫자로 입력하세요 :  2\n"
     ]
    },
    {
     "name": "stdout",
     "output_type": "stream",
     "text": [
      "주문하신 메뉴는 카미이며 2개 구매하셔서 총6000원 입니다\n"
     ]
    }
   ],
   "source": [
    "st_name = 'hun&co'\n",
    "m_list = ['카미','지상','낙원','레몬']\n",
    "pr_list = [3000,4000,5000,6000]\n",
    "\n",
    "print('*'*40)\n",
    "print(f'어서오세요 {st_name}에 온 걸 환영한다')\n",
    "\n",
    "for i in range(len(m_list)) :    \n",
    "    print(f'{i+1}. {m_list[i]} {pr_list[i]}')\n",
    "\n",
    "oder_num = int(input('주문할 메뉴 번호를 입력하세요 : '))-1\n",
    "qty = int(input('주문할 수량을 숫자로 입력하세요 : ' ))\n",
    "amt = qty*pr_list[oder_num]\n",
    "\n",
    "#주문결과 출력\n",
    "print(f'주문하신 메뉴는 {m_list[oder_num]}이며 {qty}개 구매하셔서 총{amt}원 입니다')"
   ]
  },
  {
   "cell_type": "code",
   "execution_count": 13,
   "id": "1fb50389-e6f8-4774-9436-506e36e0a7b7",
   "metadata": {},
   "outputs": [
    {
     "name": "stdout",
     "output_type": "stream",
     "text": [
      "****************************************\n",
      "어서오세요 hun&co에 온 걸 환영한다\n",
      "1. 카미 3000\n",
      "2. 지상 4000\n",
      "3. 낙원 5000\n",
      "4. 레몬 6000\n"
     ]
    },
    {
     "name": "stdin",
     "output_type": "stream",
     "text": [
      "주문할 메뉴 번호를 입력하세요 :  1\n",
      "주문할 수량을 숫자로 입력하세요 :  2\n",
      "주문을 끝내시겠습니까?(y/n) n\n",
      "주문할 메뉴 번호를 입력하세요 :  2\n",
      "주문할 수량을 숫자로 입력하세요 :  3\n",
      "주문을 끝내시겠습니까?(y/n) y\n"
     ]
    },
    {
     "name": "stdout",
     "output_type": "stream",
     "text": [
      "주문하신 메뉴는 지상이며 3개 구매하셔서 총12000원 입니다\n"
     ]
    }
   ],
   "source": [
    "#심화 \n",
    "#리스트\n",
    "orders = []\n",
    "orders.append({\n",
    "st_name = 'hun&co'\n",
    "m_list = ['카미','지상','낙원','레몬']\n",
    "p_list = [3000,4000,5000,6000]\n",
    "})\n",
    "\n",
    "\n",
    "#간판\n",
    "print('*'*40)\n",
    "print(f'어서오세요 {st_name}에 온 걸 환영한다')\n",
    "\n",
    "#메뉴판\n",
    "for i in range(len(m_list)) :    \n",
    "    print(f'{i+1}. {m_list[i]} {p_list[i]}')\n",
    "\n",
    "\n",
    "#입력문\n",
    "while True:\n",
    "    oder_num = int(input('주문할 메뉴 번호를 입력하세요 : '))-1\n",
    "    qty = int(input('주문할 수량을 숫자로 입력하세요 : ' ))\n",
    "    amt = qty*p_list[oder_num]\n",
    "    exit_an = input('주문을 끝내시겠습니까?(y/n)')\n",
    "    if exit_an == 'y':\n",
    "        break\n",
    "\n",
    "print('\\n====주문내역====')\n",
    "total_price = 0\n",
    "for order in orders:\n",
    "    \n",
    "\n",
    "#주문결과 출력\n",
    "print(f'주문하신 메뉴는 {m_list[oder_num]}이며 {qty}개 구매하셔서 총{amt}원 입니다')"
   ]
  },
  {
   "cell_type": "code",
   "execution_count": 9,
   "id": "3a1c4e01-9449-41f1-9b1d-9acbf0100350",
   "metadata": {},
   "outputs": [
    {
     "name": "stdin",
     "output_type": "stream",
     "text": [
      "주문할 메뉴 번호를 입력하세요 :  2\n",
      "주문할 수량을 숫자로 입력하세요 :  1\n"
     ]
    },
    {
     "ename": "NameError",
     "evalue": "name 'Pr_list' is not defined",
     "output_type": "error",
     "traceback": [
      "\u001b[31m---------------------------------------------------------------------------\u001b[39m",
      "\u001b[31mNameError\u001b[39m                                 Traceback (most recent call last)",
      "\u001b[36mCell\u001b[39m\u001b[36m \u001b[39m\u001b[32mIn[9]\u001b[39m\u001b[32m, line 3\u001b[39m\n\u001b[32m      1\u001b[39m oder_name = \u001b[38;5;28mint\u001b[39m(\u001b[38;5;28minput\u001b[39m(\u001b[33m'\u001b[39m\u001b[33m주문할 메뉴 번호를 입력하세요 : \u001b[39m\u001b[33m'\u001b[39m))-\u001b[32m1\u001b[39m\n\u001b[32m      2\u001b[39m qty = \u001b[38;5;28mint\u001b[39m(\u001b[38;5;28minput\u001b[39m(\u001b[33m'\u001b[39m\u001b[33m주문할 수량을 숫자로 입력하세요 : \u001b[39m\u001b[33m'\u001b[39m ))\n\u001b[32m----> \u001b[39m\u001b[32m3\u001b[39m amt = qty*Pr_list[oder_name]\n",
      "\u001b[31mNameError\u001b[39m: name 'Pr_list' is not defined"
     ]
    }
   ],
   "source": [
    "oder_name = int(input('주문할 메뉴 번호를 입력하세요 : '))-1\n",
    "qty = int(input('주문할 수량을 숫자로 입력하세요 : ' ))\n",
    "amt = qty*Pr_list[oder_name]"
   ]
  },
  {
   "cell_type": "markdown",
   "id": "fa20e1d1-9b03-4316-8c37-f248bc52e22f",
   "metadata": {},
   "source": [
    "### 딕셔너리 버전"
   ]
  },
  {
   "cell_type": "code",
   "execution_count": 19,
   "id": "15954e65-9447-46d0-b2a0-a62085b4b58a",
   "metadata": {},
   "outputs": [
    {
     "name": "stdout",
     "output_type": "stream",
     "text": [
      "****************************************\n",
      "어서오세요 hun&co에 온 걸 환영한다\n",
      "1. 카미 3000\n",
      "2. 지상 4000\n",
      "3. 낙원 5000\n",
      "4. 레몬 6000\n"
     ]
    },
    {
     "name": "stdin",
     "output_type": "stream",
     "text": [
      "주문할 메뉴 번호를 입력하세요 :  3\n",
      "주문할 수량을 숫자로 입력하세요 :  3\n"
     ]
    },
    {
     "name": "stdout",
     "output_type": "stream",
     "text": [
      "주문하신 메뉴는 낙원이며 3개 구매하셔서 총15000원 입니다\n"
     ]
    }
   ],
   "source": [
    "#환영인사\n",
    "st_name = 'hun&co'\n",
    "print('*'*40)\n",
    "print(f'어서오세요 {st_name}에 온 걸 환영한다')\n",
    "\n",
    "#데이터\n",
    "m_list = [\n",
    "    {'name' : '카미', 'price' : 3000},\n",
    "    {'name' : '지상', 'price' : 4000},\n",
    "    {'name' : '낙원', 'price' : 5000},\n",
    "    {'name' : '레몬', 'price' : 6000}\n",
    "    ]\n",
    "\n",
    "#메뉴 목록 출력\n",
    "for i, menu in enumerate(m_list) :   \n",
    "    # print(i+1,menu)\n",
    "    print(f'{i+1}. {menu['name']} {menu['price']}')\n",
    "\n",
    "oder_num = int(input('주문할 메뉴 번호를 입력하세요 : '))-1\n",
    "qty = int(input('주문할 수량을 숫자로 입력하세요 : ' ))\n",
    "amt = qty*m_list[oder_num]['price']\n",
    "name = qty*m_list[oder_num]['name']\n",
    "\n",
    "#주문결과 출력\n",
    "print(f'주문하신 메뉴는 {m_list[oder_num]['name']}이며 {qty}개 구매하셔서 총{amt}원 입니다')"
   ]
  },
  {
   "cell_type": "code",
   "execution_count": 19,
   "id": "7bf1b899-72ab-4209-bbfc-c06e96f8ead4",
   "metadata": {},
   "outputs": [
    {
     "name": "stdout",
     "output_type": "stream",
     "text": [
      "****************************************\n",
      "어서오세요 hun&co에 온 걸 환영한다\n",
      "1. 카미 3000\n",
      "2. 지상 4000\n",
      "3. 낙원 5000\n",
      "4. 레몬 6000\n"
     ]
    },
    {
     "name": "stdin",
     "output_type": "stream",
     "text": [
      "주문할 메뉴 번호를 입력하세요 :  3\n",
      "주문할 수량을 숫자로 입력하세요 :  3\n"
     ]
    },
    {
     "name": "stdout",
     "output_type": "stream",
     "text": [
      "주문하신 메뉴는 낙원이며 3개 구매하셔서 총15000원 입니다\n"
     ]
    }
   ],
   "source": [
    "#환영인사\n",
    "st_name = 'hun&co'\n",
    "print('*'*40)\n",
    "print(f'어서오세요 {st_name}에 온 걸 환영한다')\n",
    "\n",
    "#데이터\n",
    "m_list = [\n",
    "    {'name' : '카미', 'price' : 3000},\n",
    "    {'name' : '지상', 'price' : 4000},\n",
    "    {'name' : '낙원', 'price' : 5000},\n",
    "    {'name' : '레몬', 'price' : 6000}\n",
    "    ]\n",
    "\n",
    "#메뉴 목록 출력\n",
    "for i, menu in enumerate(m_list) :   \n",
    "    # print(i+1,menu)\n",
    "    print(f'{i+1}. {menu['name']} {menu['price']}')\n",
    "\n",
    "oder_num = int(input('주문할 메뉴 번호를 입력하세요 : '))-1\n",
    "qty = int(input('주문할 수량을 숫자로 입력하세요 : ' ))\n",
    "amt = qty*m_list[oder_num]['price']\n",
    "name = qty*m_list[oder_num]['name']\n",
    "\n",
    "#주문결과 출력\n",
    "print(f'주문하신 메뉴는 {m_list[oder_num]['name']}이며 {qty}개 구매하셔서 총{amt}원 입니다')"
   ]
>>>>>>> a2151e4 (수업자료 정리)
  }
 ],
 "metadata": {
  "kernelspec": {
   "display_name": "Python 3 (ipykernel)",
   "language": "python",
   "name": "python3"
  },
  "language_info": {
   "codemirror_mode": {
    "name": "ipython",
    "version": 3
   },
   "file_extension": ".py",
   "mimetype": "text/x-python",
   "name": "python",
   "nbconvert_exporter": "python",
   "pygments_lexer": "ipython3",
   "version": "3.12.9"
  }
 },
 "nbformat": 4,
 "nbformat_minor": 5
}
