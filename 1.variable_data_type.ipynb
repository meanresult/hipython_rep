{
 "cells": [
  {
   "cell_type": "markdown",
   "id": "26a18e72-423e-46d9-ab3e-06ae6bdb8edb",
   "metadata": {},
   "source": [
    "# 시작"
   ]
  },
  {
   "cell_type": "markdown",
   "id": "06dddff5-1041-401a-b255-47f66e5387af",
   "metadata": {},
   "source": [
    "유니코드 문자 표준\n",
    "영어는 ascii -> 유니코드\n",
    "한국어도 유니코드\n",
    "\n",
    "유니코드: 글자의 크기에 따라 utf-8, [utf-16, utf-32]\n",
    "\n",
    "파이썬의 문자열 str -> unicode 기반이다.\n",
    "\n",
    "euc-kr (옛날 코드는 UTF로 안써서 우리나라 파일인데 옛날 건데 한국말이 깨졌다 그러면 이걸로 인코딩)\n",
    "CP949 : ms 윈도우즈의 한글코드(안되면 이걸로)"
   ]
  },
  {
   "cell_type": "code",
   "execution_count": 1,
   "id": "91d73769-03a1-4a7d-8f5a-e3aa18ca7138",
   "metadata": {},
   "outputs": [
    {
     "name": "stdout",
     "output_type": "stream",
     "text": [
      "파이썬\n",
      "54028\n"
     ]
    }
   ],
   "source": [
    "text = '파이썬'\n",
    "print(text)\n",
    "print( ord('파'))"
   ]
  },
  {
   "cell_type": "code",
   "execution_count": 19,
   "id": "8355cd89-ea31-4bef-8442-459147c8547d",
   "metadata": {},
   "outputs": [
    {
     "data": {
      "text/plain": [
       "b'\\xc6\\xc4\\xc0\\xcc\\xbd\\xe3'"
      ]
     },
     "execution_count": 19,
     "metadata": {},
     "output_type": "execute_result"
    }
   ],
   "source": [
    "#인코딩\n",
    "enc_text = text.encode('euc-kr')\n",
    "enc_text"
   ]
  },
  {
   "cell_type": "code",
   "execution_count": 20,
   "id": "c43a1bdc-cfa0-46d2-bf9c-7c894699899d",
   "metadata": {},
   "outputs": [
    {
     "data": {
      "text/plain": [
       "'파이썬'"
      ]
     },
     "execution_count": 20,
     "metadata": {},
     "output_type": "execute_result"
    }
   ],
   "source": [
    "dec_text = enc_text.decode('euc-kr')\n",
    "dec_text"
   ]
  },
  {
   "cell_type": "code",
   "execution_count": 6,
   "id": "0a96fcc7-30e4-49cf-94d7-9c4f6d8ba8c5",
   "metadata": {},
   "outputs": [
    {
     "name": "stdout",
     "output_type": "stream",
     "text": [
      "hello ttenk kong\n"
     ]
    }
   ],
   "source": [
    "print('hello ttenk kong')"
   ]
  },
  {
   "cell_type": "code",
   "execution_count": 13,
   "id": "7ff1ed69-9851-429e-ac62-7c989ca34897",
   "metadata": {},
   "outputs": [
    {
     "name": "stdin",
     "output_type": "stream",
     "text": [
      " 한\n",
      " 지훈\n"
     ]
    },
    {
     "data": {
      "text/plain": [
       "'한지훈'"
      ]
     },
     "execution_count": 13,
     "metadata": {},
     "output_type": "execute_result"
    }
   ],
   "source": [
    "# 변수 = 함수\n",
    "# 안녕하세요\n",
    "# 바보세요\n",
    "age = input()\n",
    "name = input()\n",
    "age + name"
   ]
  },
  {
   "cell_type": "code",
   "execution_count": 13,
   "id": "e83e95cb-6ac3-465a-a7bf-acf340db0e41",
   "metadata": {},
   "outputs": [
    {
     "name": "stdin",
     "output_type": "stream",
     "text": [
      " 한\n",
      " 지훈\n"
     ]
    },
    {
     "data": {
      "text/plain": [
       "'한지훈'"
      ]
     },
     "execution_count": 13,
     "metadata": {},
     "output_type": "execute_result"
    }
   ],
   "source": [
    "# 변수 = 함수\n",
    "# 안녕하세요\n",
    "# 바보세요\n",
    "age = input()\n",
    "name = input()\n",
    "age + name"
   ]
  },
  {
   "cell_type": "code",
   "execution_count": 29,
   "id": "7146a83e-f429-48ef-b0c6-3b47aa6d6ce9",
   "metadata": {},
   "outputs": [
    {
     "name": "stdout",
     "output_type": "stream",
     "text": [
      "양수입니다\n"
     ]
    }
   ],
   "source": [
    "def calculate_sum(a, b):\n",
    "    result = a + b\n",
    "    return result\n",
    "\n",
    "if calculate_sum(3,4)> 0:\n",
    "    print(\"양수입니다\")"
   ]
  },
  {
   "cell_type": "code",
   "execution_count": 29,
   "id": "44529390-2e56-4874-9b67-ffc3c921369e",
   "metadata": {},
   "outputs": [
    {
     "name": "stdout",
     "output_type": "stream",
     "text": [
      "양수입니다\n"
     ]
    }
   ],
   "source": [
    "def calculate_sum(a, b):\n",
    "    result = a + b\n",
    "    return result\n",
    "\n",
    "if calculate_sum(3,4)> 0:\n",
    "    print(\"양수입니다\")"
   ]
  },
  {
   "cell_type": "markdown",
   "id": "071033ef-47b1-4c7c-b907-5d29a5f8db95",
   "metadata": {},
   "source": [
    "# 주석\n",
    "안녕하세요 코딩의 재앙 한지훈님등장이다"
   ]
  },
  {
   "cell_type": "markdown",
   "id": "48cf0b00-d9e8-4347-83c9-a083ff3c4cee",
   "metadata": {},
   "source": [
    "# 변수"
   ]
  },
  {
   "cell_type": "markdown",
   "id": "1065ff16-857b-47d0-872b-d87c4150d59f",
   "metadata": {},
   "source": [
    "# 표준 입력과 표준 출력"
   ]
  },
  {
   "cell_type": "code",
   "execution_count": 34,
   "id": "98579cae-c6f0-4daa-97df-4748e12fe99b",
   "metadata": {},
   "outputs": [
    {
     "data": {
      "text/plain": [
       "10"
      ]
     },
     "execution_count": 34,
     "metadata": {},
     "output_type": "execute_result"
    }
   ],
   "source": [
    "12345\n",
    "10\n",
    "# ipython 라이브러리 기본 기능\n",
    "# print(12345) 표준출력 기능을 내장하고 있다."
   ]
  },
  {
   "cell_type": "code",
   "execution_count": 48,
   "id": "aecb6047-fa75-4a19-882a-748dff892ffd",
   "metadata": {},
   "outputs": [
    {
     "data": {
      "text/plain": [
       "'한지훈한지훈한지훈'"
      ]
     },
     "execution_count": 48,
     "metadata": {},
     "output_type": "execute_result"
    }
   ],
   "source": [
    "# type(\"12345\") = type('123') = str -> 텍스트 : 더하기 x 곱하기 o \n",
    "# typr(123) = int -> 숫자\n",
    "\n",
    "#EX\n",
    "'한지훈'*3"
   ]
  },
  {
   "cell_type": "code",
   "execution_count": 54,
   "id": "c312b0d9-9cf2-4892-8b69-b7ca955f1fcf",
   "metadata": {},
   "outputs": [
    {
     "name": "stdin",
     "output_type": "stream",
     "text": [
      "당신의 이름을 입력하세요 안재이\n"
     ]
    }
   ],
   "source": [
    "name = input('당신의 이름을 입력하세요') #뭔가를 받을 수 있음 "
   ]
  },
  {
   "cell_type": "code",
   "execution_count": 83,
   "id": "643370b4-a7a2-4463-a1a6-4c53dfbbd1a0",
   "metadata": {},
   "outputs": [
    {
     "name": "stdin",
     "output_type": "stream",
     "text": [
      "당신의 나이를 입력하세요 24\n"
     ]
    },
    {
     "data": {
      "text/plain": [
       "24"
      ]
     },
     "execution_count": 83,
     "metadata": {},
     "output_type": "execute_result"
    }
   ],
   "source": [
    "age = int(input('당신의 나이를 입력하세요')) #뭔가를 받을 수 있음 \n",
    "age"
   ]
  },
  {
   "cell_type": "code",
   "execution_count": 84,
   "id": "3df8e876-da4c-428b-af5a-9de7596db3f3",
   "metadata": {},
   "outputs": [],
   "source": [
    "#age = int(age)"
   ]
  },
  {
   "cell_type": "code",
   "execution_count": 56,
   "id": "4aa12a3b-b9e5-4972-8cdb-820136e93f7e",
   "metadata": {},
   "outputs": [
    {
     "data": {
      "text/plain": [
       "'안재이'"
      ]
     },
     "execution_count": 56,
     "metadata": {},
     "output_type": "execute_result"
    }
   ],
   "source": [
    "name"
   ]
  },
  {
   "cell_type": "code",
   "execution_count": 85,
   "id": "d5c86f59-041d-4037-a326-0ea48c3efb84",
   "metadata": {},
   "outputs": [
    {
     "name": "stdout",
     "output_type": "stream",
     "text": [
      "24 안재이\n"
     ]
    },
    {
     "data": {
      "text/plain": [
       "24"
      ]
     },
     "execution_count": 85,
     "metadata": {},
     "output_type": "execute_result"
    }
   ],
   "source": [
    "print(age, name)\n",
    "age, name\n",
    "age"
   ]
  },
  {
   "cell_type": "code",
   "execution_count": 71,
   "id": "e3fef053-8869-4a0b-945c-49a984a09a11",
   "metadata": {},
   "outputs": [
    {
     "name": "stdout",
     "output_type": "stream",
     "text": [
      "나는 안재이이고 나이는 10,000살입니다.\n"
     ]
    }
   ],
   "source": [
    "print('나는 '+name+'이고 나이는 '+age+'입니다.')"
   ]
  },
  {
   "cell_type": "code",
   "execution_count": 86,
   "id": "fbf2724b-66bd-49ac-b590-f7ea06cd9c31",
   "metadata": {},
   "outputs": [
    {
     "data": {
      "text/plain": [
       "34"
      ]
     },
     "execution_count": 86,
     "metadata": {},
     "output_type": "execute_result"
    }
   ],
   "source": [
    "age + 10"
   ]
  },
  {
   "cell_type": "markdown",
   "id": "02a07bc9-29a7-4933-afea-164366952d55",
   "metadata": {},
   "source": [
    "# 연습"
   ]
  },
  {
   "cell_type": "code",
   "execution_count": 87,
   "id": "ed9abe28-69d4-47d8-906c-5f7354e6cf27",
   "metadata": {},
   "outputs": [
    {
     "name": "stdout",
     "output_type": "stream",
     "text": [
      "한: 방에 웃음 짓고 \n",
      "지: 혜를 더해 가며\n",
      "훈: 훈히 나아가자\n"
     ]
    }
   ],
   "source": [
    "# 자기 이름으로 삼행시 짓기\n",
    "\n",
    "print('한: 방에 웃음 짓고 ')\n",
    "print('지: 혜를 더해 가며')\n",
    "print('훈: 훈히 나아가자')"
   ]
  },
  {
   "cell_type": "code",
   "execution_count": 95,
   "id": "c81015fd-0ec5-44b4-82c6-5355b2320969",
   "metadata": {},
   "outputs": [
    {
     "name": "stdin",
     "output_type": "stream",
     "text": [
      "한:  한지훈은\n",
      "지:  ㅈ ㅣ 랄맞은 별명이 있다\n",
      "훈:  \"훈발롬\"\n"
     ]
    },
    {
     "name": "stdout",
     "output_type": "stream",
     "text": [
      "한지훈은! ㅈ ㅣ 랄맞은 별명이 있다! \"훈발롬\"\n"
     ]
    }
   ],
   "source": [
    "line1 = input('한: ')\n",
    "line2 = input('지: ')\n",
    "line3 = input('훈: ')\n",
    "print(line1, line2, line3, sep='! ')"
   ]
  },
  {
   "cell_type": "code",
   "execution_count": 96,
   "id": "f6a6e6db-8fe1-4e11-b6d4-b3b4f30987d5",
   "metadata": {},
   "outputs": [
    {
     "name": "stdout",
     "output_type": "stream",
     "text": [
      "한지훈은\n",
      "ㅈ ㅣ 랄맞은 별명이 있다\n",
      "\"훈발롬\"\n"
     ]
    }
   ],
   "source": [
    "print(line1, line2, line3, sep='\\n')"
   ]
  },
  {
   "cell_type": "code",
   "execution_count": 97,
   "id": "94fc9c48-8f05-471c-a006-0ca9c52d1ea3",
   "metadata": {},
   "outputs": [
    {
     "name": "stdout",
     "output_type": "stream",
     "text": [
      "한지훈은\tㅈ ㅣ 랄맞은 별명이 있다\t\"훈발롬\"\n"
     ]
    }
   ],
   "source": [
    "print(line1, line2, line3, sep='\\t')"
   ]
  },
  {
   "cell_type": "code",
   "execution_count": 127,
   "id": "72fd64c8-3b3c-4492-89b9-0ad0e0ff272d",
   "metadata": {},
   "outputs": [
    {
     "name": "stdout",
     "output_type": "stream",
     "text": [
      "한지훈은\n",
      "ㅈ ㅣ 랄맞은 별명이 있다\n",
      "\"훈발롬\"\n"
     ]
    },
    {
     "data": {
      "text/plain": [
       "'한지훈은\\nㅈ ㅣ 랄맞은 별명이 있다\\n\"훈발롬\"'"
      ]
     },
     "execution_count": 127,
     "metadata": {},
     "output_type": "execute_result"
    }
   ],
   "source": [
    "삼행시 = line1+'\\n'+line2+'\\n'+line3\n",
    "print(삼행시) #print는 이스케이프 함수도 인식해준다\n",
    "삼행시 #이스케이프 함수 인식 못함ㅠ "
   ]
  },
  {
   "cell_type": "markdown",
   "id": "70317693-052a-4096-ba30-ab49c92ea89d",
   "metadata": {},
   "source": [
    "# 변수"
   ]
  },
  {
   "cell_type": "markdown",
   "id": "deffa302-f6a6-4a10-9fc3-da6728f1b4a0",
   "metadata": {},
   "source": [
    "#변수는 type safe : 변수를 선언할 때 타입(유형)을 지정하지 않아도 되는 특성   \n",
    "변수명 = 값"
   ]
  },
  {
   "cell_type": "markdown",
   "id": "72889af1-8bdf-4998-b3fc-5af3f64f9750",
   "metadata": {},
   "source": [
    "      \n",
    "## 변수의 명명규칙\n",
    "1. 문자, 숫자, 밑줄을 가지고 만든다\n",
    "2. 숫자로 시작하면 안된다\n",
    "3. 대소문자를 구분한다\n",
    "4. 공백 x\n",
    "5. 특수기호, 공백x, 예약어 쓸 수 없다   \n",
    "   False = 10 -> 안됨   \n",
    "   fales = 10 -> 가능"
   ]
  },
  {
   "cell_type": "code",
   "execution_count": 121,
   "id": "abf2085e-fe07-4741-ac81-c22ed2b0a0f2",
   "metadata": {},
   "outputs": [
    {
     "data": {
      "text/plain": [
       "(10, 'hello', 3.141592)"
      ]
     },
     "execution_count": 121,
     "metadata": {},
     "output_type": "execute_result"
    }
   ],
   "source": [
    "x = 10\n",
    "y = 'hello'\n",
    "z = 3.141592\n",
    "x,y,z"
   ]
  },
  {
   "cell_type": "code",
   "execution_count": 122,
   "id": "9d211b68-4a46-4408-b014-e49f31349340",
   "metadata": {},
   "outputs": [
    {
     "name": "stdout",
     "output_type": "stream",
     "text": [
      "<class 'int'> <class 'str'> <class 'float'>\n"
     ]
    }
   ],
   "source": [
    "print(type(x),type(y),type(z))"
   ]
  },
  {
   "cell_type": "code",
   "execution_count": 129,
   "id": "10bbd8e9-bcee-454e-a815-6e34f070cf77",
   "metadata": {},
   "outputs": [
    {
     "data": {
      "text/plain": [
       "(10, 20, 30)"
      ]
     },
     "execution_count": 129,
     "metadata": {},
     "output_type": "execute_result"
    }
   ],
   "source": [
    "#언팩킹\n",
    "a,b,c= 10,20,30\n",
    "a,b,c"
   ]
  },
  {
   "cell_type": "code",
   "execution_count": 130,
   "id": "c2bebbbb-0e21-41a5-a98b-50dacc5c17e8",
   "metadata": {},
   "outputs": [
    {
     "name": "stdout",
     "output_type": "stream",
     "text": [
      "10 20 30\n"
     ]
    }
   ],
   "source": [
    "print(a,b,c)"
   ]
  },
  {
   "cell_type": "code",
   "execution_count": 131,
   "id": "faa3c62b-d07e-4b4d-bb6a-0223595aaee3",
   "metadata": {},
   "outputs": [
    {
     "data": {
      "text/plain": [
       "(40, 40, 40)"
      ]
     },
     "execution_count": 131,
     "metadata": {},
     "output_type": "execute_result"
    }
   ],
   "source": [
    "a=b=c=40\n",
    "a,b,c"
   ]
  },
  {
   "cell_type": "code",
   "execution_count": 135,
   "id": "4c6b0cd6-275c-4643-a24a-f1c2766f93a8",
   "metadata": {},
   "outputs": [
    {
     "data": {
      "text/plain": [
       "(True, None)"
      ]
     },
     "execution_count": 135,
     "metadata": {},
     "output_type": "execute_result"
    }
   ],
   "source": [
    "d = True # bool형\n",
    "e = None #type이 없음 NoneType\n",
    "d,e"
   ]
  },
  {
   "cell_type": "code",
   "execution_count": 139,
   "id": "9d2c3cc7-38fe-46b8-a3a8-7b1ddc8c653d",
   "metadata": {},
   "outputs": [
    {
     "name": "stdout",
     "output_type": "stream",
     "text": [
      "10 10\n"
     ]
    },
    {
     "data": {
      "text/plain": [
       "(140737074178776, 140737074178776)"
      ]
     },
     "execution_count": 139,
     "metadata": {},
     "output_type": "execute_result"
    }
   ],
   "source": [
    "a = 10\n",
    "b = a\n",
    "print(a,b)\n",
    "id(a), id(b)"
   ]
  },
  {
   "cell_type": "code",
   "execution_count": 140,
   "id": "825fe11d-7e4a-4182-9f08-d0bd1cddaf85",
   "metadata": {},
   "outputs": [
    {
     "name": "stdout",
     "output_type": "stream",
     "text": [
      "20 10\n"
     ]
    },
    {
     "data": {
      "text/plain": [
       "(140737074179096, 140737074178776)"
      ]
     },
     "execution_count": 140,
     "metadata": {},
     "output_type": "execute_result"
    }
   ],
   "source": [
    "a = 20\n",
    "print(a,b)\n",
    "id(a), id(b)"
   ]
  },
  {
   "cell_type": "code",
   "execution_count": 4,
   "id": "bebb1118-2d35-4ff8-9e1a-209387a49b7f",
   "metadata": {},
   "outputs": [
    {
     "name": "stdout",
     "output_type": "stream",
     "text": [
      "10 10\n"
     ]
    },
    {
     "data": {
      "text/plain": [
       "(140737074178776, 140737074178776, 140737074179096)"
      ]
     },
     "execution_count": 4,
     "metadata": {},
     "output_type": "execute_result"
    }
   ],
   "source": [
    "a = 10\n",
    "c = 20 \n",
    "b = 10 # -> 10의 값을 재활용 중이다 \n",
    "print(a,b)\n",
    "id(a), id(b), id(c)"
   ]
  },
  {
   "cell_type": "code",
   "execution_count": 5,
   "id": "0e2a1250-767a-4160-9766-4c1bf0ca80cb",
   "metadata": {},
   "outputs": [
    {
     "name": "stdout",
     "output_type": "stream",
     "text": [
      "10 10\n"
     ]
    },
    {
     "data": {
      "text/plain": [
       "(140737074178776, 140737074178776)"
      ]
     },
     "execution_count": 5,
     "metadata": {},
     "output_type": "execute_result"
    }
   ],
   "source": [
    "aa = 10\n",
    "bb = aa\n",
    "print(aa,bb)\n",
    "id(aa),id(bb)"
   ]
  },
  {
   "cell_type": "code",
   "execution_count": null,
   "id": "341fb79d-d84b-4756-92e9-df66e78689be",
   "metadata": {},
   "outputs": [],
   "source": [
    "#의미 부여하기 어려운 변수명\n",
    "x = 100\n",
    "y = 100\n",
    "\n",
    "#의미있는 변수명\n",
    "age = 20\n",
    "name = '신해림'\n",
    "user_name = 'tteng kkong'\n",
    "admin_name = 'prinssese'\n",
    "\n",
    "#대문자 upper-case 상수에만 사용\n",
    "#ex) PI=3.1415912\n",
    "#ex) MAX_CONNECTTIONS = 10 최대 연결 수\n",
    "#ex) MIN_VALUE = 0 최솟값"
   ]
  },
  {
   "cell_type": "markdown",
   "id": "1645bce2-9393-4568-addd-2c4684affa46",
   "metadata": {},
   "source": [
    "## NAME_SPACE\n",
    "\n",
    "변수가 최초로 정의된 영역에 따라 유효범위가 결정됩니다\n",
    "- 지역변수 : 함수 영역 내에서 선언한 변수\n",
    "- 전역변수 : 함수 영역 밖에서 선언한 변수\n",
    "- 정적변수 : "
   ]
  },
  {
   "cell_type": "code",
   "execution_count": 14,
   "id": "a75a109e-7ac0-4b87-be57-a91a95a1687a",
   "metadata": {},
   "outputs": [
    {
     "name": "stdout",
     "output_type": "stream",
     "text": [
      "여기는 함수의 영역입니다. 100\n",
      "None\n",
      "여기는 함수의 영역입니다. 100\n"
     ]
    }
   ],
   "source": [
    "# 지역변수 -> 함수 안에서 만들면 밖으로 못나옴 함수가 울타리라 생각하면 쉬움\n",
    "def local_example():\n",
    "    local_var = 100\n",
    "    print('여기는 함수의 영역입니다.',local_var)\n",
    "\n",
    "print(local_example())\n",
    "local_example()"
   ]
  },
  {
   "cell_type": "code",
   "execution_count": 16,
   "id": "98d907f4-460b-476b-93c9-8880a9218f8c",
   "metadata": {},
   "outputs": [
    {
     "name": "stdout",
     "output_type": "stream",
     "text": [
      "나는 전역이다\n"
     ]
    }
   ],
   "source": [
    "# 전역 변수 -> 울타리 없이 만든 거라 어디서든 사용 가능 \n",
    "global_var = '나는 전역이다'\n",
    "print(global_var)"
   ]
  },
  {
   "cell_type": "code",
   "execution_count": 20,
   "id": "38d041e3-b0f5-49f8-9b37-b6f014b88c2e",
   "metadata": {},
   "outputs": [
    {
     "name": "stdout",
     "output_type": "stream",
     "text": [
      "나는 전역이다 100\n"
     ]
    }
   ],
   "source": [
    "def global_example():\n",
    "    local_var = 100\n",
    "    print(global_var, local_var)\n",
    "global_example()"
   ]
  },
  {
   "cell_type": "code",
   "execution_count": 26,
   "id": "7d105b5c-b946-43e5-83cd-498bf7899103",
   "metadata": {},
   "outputs": [
    {
     "name": "stdout",
     "output_type": "stream",
     "text": [
      "3\n"
     ]
    },
    {
     "data": {
      "text/plain": [
       "3"
      ]
     },
     "execution_count": 26,
     "metadata": {},
     "output_type": "execute_result"
    }
   ],
   "source": [
    "jeehun = 3\n",
    "def hanjeehun():\n",
    "    global jeehun #gloval jeehun = 100 변수와 할당을 동시할 수 없음 \n",
    "    print(jeehun)\n",
    "\n",
    "hanjeehun()\n",
    "jeehun"
   ]
  },
  {
   "cell_type": "code",
   "execution_count": 163,
   "id": "2310d2b4-074b-40a7-ba21-ddb3b5431882",
   "metadata": {},
   "outputs": [
    {
     "name": "stdout",
     "output_type": "stream",
     "text": [
      "카운터 :  1\n",
      "카운터 :  2\n",
      "카운터 :  3\n"
     ]
    }
   ],
   "source": [
    "#변수 영역 연습\n",
    "\n",
    "counter = 0 #global\n",
    "\n",
    "def increment_counter():#counter = counter +1\n",
    "    global counter \n",
    "    counter += 1\n",
    "    print('카운터 : ',counter)\n",
    "\n",
    "increment_counter()\n",
    "increment_counter()\n",
    "increment_counter()\n"
   ]
  },
  {
   "cell_type": "code",
   "execution_count": 162,
   "id": "fd9a308a-bdc9-4e1e-8b3e-64e76f296c5f",
   "metadata": {},
   "outputs": [
    {
     "name": "stdout",
     "output_type": "stream",
     "text": [
      "카운터 :  92\n"
     ]
    }
   ],
   "source": [
    "increment_counter()"
   ]
  },
  {
   "cell_type": "markdown",
   "id": "a0286413-2742-4010-b5fc-bed484969cbb",
   "metadata": {
    "jp-MarkdownHeadingCollapsed": true
   },
   "source": [
    "# 교재 변수 연습"
   ]
  },
  {
   "cell_type": "code",
   "execution_count": 207,
   "id": "13ad5848-5ffb-43cd-96db-94605e40eb04",
   "metadata": {},
   "outputs": [
    {
     "data": {
      "text/plain": [
       "['chuchu', '박지혜', '서빛나리']"
      ]
     },
     "execution_count": 207,
     "metadata": {},
     "output_type": "execute_result"
    }
   ],
   "source": [
    "#리스트를 연동하는 게 아니라 복사하고 싶을 때 (기본적으론 연동됨)\n",
    "#연동\n",
    "barktaeyang = ['박봅슬','박지혜','서빛나리']\n",
    "girlfriend = barktaeyang\n",
    "barktaeyang[0] = 'chuchu' # 안에 요소들을 바꿀 때는 안에 요소가 아니라 리스트 순서로 바꿔야 함  0,1,2 등)\n",
    "girlfriend\n"
   ]
  },
  {
   "cell_type": "code",
   "execution_count": null,
   "id": "8db396d7-f19b-42f0-aec0-de9b0912eae8",
   "metadata": {},
   "outputs": [],
   "source": [
    "#복붙\n",
    "d=[1,2,3]\n",
    "f = d[:] #순서가 중요함 d가 먼저 나오면 안됨 정의하고자 하는 걸 먼저 적어야 함 \n",
    "d[2]=4 #여기서 1은 순서를 말함 0,1,2가 순서인데 1-0 / 2-1 / 3-2\n",
    "f,d"
   ]
  },
  {
   "cell_type": "markdown",
   "id": "478625ad-cd40-4e15-8634-9bd92307e42d",
   "metadata": {},
   "source": [
    "국어,영어,수학 = (80,75,55)\n",
    "print(국어)"
   ]
  },
  {
   "cell_type": "code",
   "execution_count": 211,
   "id": "4cf4b1aa-3bfb-44c7-bd8c-787422ff2fbc",
   "metadata": {},
   "outputs": [],
   "source": [
    "과목=국어,영어,수학 = (80,75,55)"
   ]
  },
  {
   "cell_type": "markdown",
   "id": "3a8a20ee-3e8d-4c22-82ba-86812073919f",
   "metadata": {},
   "source": [
    "#자료형 \n",
    "\n",
    "- 기본 자료형 : 숫자열형 int, 문자열형 str, 부울형\n",
    "- 복합 자료형 : 리스트, 셋, 튜플, 딕셔너리\n",
    "\n",
    "자료형 ㅣ 설명 ㅣ 예시 ㅣ\n",
    "ㅣ-----ㅣ-----ㅣ-----ㅣ\n",
    "정수형 (int)\n",
    "정수를 저장하는 자료형\n",
    "1, -5, 100\n",
    "실수형 (float)\n",
    "소수점이 있는 숫자를 저장하는 자료형\n",
    "3.14, -0.001, 2.0\n",
    "문자열 (str)\n",
    "텍스트를 저장하는 자료형\n",
    "\"Hello\", '파이썬'\n",
    "논리형 (bool)\n",
    "참/거짓 값을 저장하는 자료형\n",
    "True, Fals\n",
    "\n"
   ]
  },
  {
   "cell_type": "markdown",
   "id": "d271f20b-5a6c-45cc-bf2d-653a625b7472",
   "metadata": {},
   "source": [
    "- 수정 불가능한 데이터 타입 : 수치형, 부울형, 문자열, 튜플\n",
    "- 수정 가능한 데이터 타입: 리스트, 딕셔너리, 셋\n"
   ]
  },
  {
   "cell_type": "code",
   "execution_count": 213,
   "id": "fb985ade-56e4-4269-a549-35b8d52091ae",
   "metadata": {},
   "outputs": [
    {
     "data": {
      "text/plain": [
       "(20, int)"
      ]
     },
     "execution_count": 213,
     "metadata": {},
     "output_type": "execute_result"
    }
   ],
   "source": [
    "#수치형 - int\n",
    "20, type(20)"
   ]
  },
  {
   "cell_type": "markdown",
   "id": "d473701e-9a2c-4500-89c8-ca83faa335c1",
   "metadata": {},
   "source": [
    "int\n",
    "1.진법:10진수, 2진수, 8진수, 16진수\n",
    "2.입력하는 방법은 다르지만, print()결과는 동일하다"
   ]
  },
  {
   "cell_type": "code",
   "execution_count": 234,
   "id": "73ba9b1a-6f70-4e96-8003-87cb9f7dd3d4",
   "metadata": {},
   "outputs": [
    {
     "data": {
      "text/plain": [
       "5"
      ]
     },
     "execution_count": 234,
     "metadata": {},
     "output_type": "execute_result"
    }
   ],
   "source": [
    "a = 10\n",
    "b = 0b0101 #2진수 - 0/1로 표현하는 방법 ->0101=2^3*0 + 2^2*1 + 2^1*0 + 2^0*1=\n",
    "b"
   ]
  },
  {
   "cell_type": "code",
   "execution_count": 236,
   "id": "a84d348b-afee-4f05-9f29-70132f6e2f82",
   "metadata": {},
   "outputs": [
    {
     "data": {
      "text/plain": [
       "(512, 512)"
      ]
     },
     "execution_count": 236,
     "metadata": {},
     "output_type": "execute_result"
    }
   ],
   "source": [
    "c = 0o1000 #0o 8진수 , 10 -> 8^1*1+8^0*0 11->8^1+8^1 / 100=64 / 1000\n",
    "c, 64*8"
   ]
  },
  {
   "cell_type": "code",
   "execution_count": 216,
   "id": "efa601f4-4a34-4df4-b284-a914a3cb7520",
   "metadata": {},
   "outputs": [
    {
     "data": {
      "text/plain": [
       "8"
      ]
     },
     "execution_count": 216,
     "metadata": {},
     "output_type": "execute_result"
    }
   ],
   "source": [
    "d = 0b1000\n",
    "d"
   ]
  },
  {
   "cell_type": "code",
   "execution_count": 248,
   "id": "42df98a8-6d6f-4504-b3f0-f67f96d7828f",
   "metadata": {},
   "outputs": [
    {
     "data": {
      "text/plain": [
       "(413, 413)"
      ]
     },
     "execution_count": 248,
     "metadata": {},
     "output_type": "execute_result"
    }
   ],
   "source": [
    "e = 0x19d #> 1*16^2+6*16^1+d(13)*16^0(1) 19d = d(13)*16^1 + 9*16^1 + 1*16^2\n",
    "(16**2)*1 + (16**1)*9 + (16**0)*13, e #제곱하려면 ^대신 * 두개쓸 것 "
   ]
  },
  {
   "cell_type": "code",
   "execution_count": 247,
   "id": "ce4803d6-3a96-4b0c-b02d-8bc2c2659af6",
   "metadata": {},
   "outputs": [
    {
     "data": {
      "text/plain": [
       "256"
      ]
     },
     "execution_count": 247,
     "metadata": {},
     "output_type": "execute_result"
    }
   ],
   "source": [
    "1*(16**2)"
   ]
  },
  {
   "cell_type": "code",
   "execution_count": 223,
   "id": "43b67165-27c6-43c3-ab99-9748755ea729",
   "metadata": {},
   "outputs": [
    {
     "data": {
      "text/plain": [
       "(3.14, float)"
      ]
     },
     "execution_count": 223,
     "metadata": {},
     "output_type": "execute_result"
    }
   ],
   "source": [
    "#flot\n",
    "b = 3.14\n",
    "b, type(b)"
   ]
  },
  {
   "cell_type": "markdown",
   "id": "b996dac1-81b3-4c67-af03-aa67b6966e71",
   "metadata": {},
   "source": [
    "### 지수의 표기\n",
    "숫자e2 -> 10^2의 곱 = 10**2\n",
    "숫자e-2 -> 10^-2의 곱 = 10**-2"
   ]
  },
  {
   "cell_type": "code",
   "execution_count": 230,
   "id": "4969617f-a5b0-4564-95be-9fd7e8cd9519",
   "metadata": {},
   "outputs": [
    {
     "data": {
      "text/plain": [
       "(1000.0, 1000)"
      ]
     },
     "execution_count": 230,
     "metadata": {},
     "output_type": "execute_result"
    }
   ],
   "source": [
    "fa = 10e2\n",
    "fa, 10**3"
   ]
  },
  {
   "cell_type": "code",
   "execution_count": 255,
   "id": "81f8bbf9-8767-4b99-b55d-0487017d3d63",
   "metadata": {},
   "outputs": [
    {
     "data": {
      "text/plain": [
       "(200.0, 200)"
      ]
     },
     "execution_count": 255,
     "metadata": {},
     "output_type": "execute_result"
    }
   ],
   "source": [
    "fb = 2e2 #e를 10**이라 생각하면됨 2*10**2\n",
    "fb, 2*10**2"
   ]
  },
  {
   "cell_type": "code",
   "execution_count": 231,
   "id": "c283b489-99ae-4509-866f-05f637e57b9f",
   "metadata": {},
   "outputs": [
    {
     "data": {
      "text/plain": [
       "3141500000.0"
      ]
     },
     "execution_count": 231,
     "metadata": {},
     "output_type": "execute_result"
    }
   ],
   "source": [
    "fc = 3.1415e9\n",
    "fc"
   ]
  },
  {
   "cell_type": "markdown",
   "id": "e751a493-a7e9-43e8-814c-00a21da52c06",
   "metadata": {
    "jp-MarkdownHeadingCollapsed": true
   },
   "source": [
    "# 불리언 BOOLEAN 값 - True, False\n",
    "논리연산, 비교연산"
   ]
  },
  {
   "cell_type": "code",
   "execution_count": 232,
   "id": "1479a656-4e2d-4442-a3ee-5314a8115c8a",
   "metadata": {},
   "outputs": [
    {
     "data": {
      "text/plain": [
       "(bool, str)"
      ]
     },
     "execution_count": 232,
     "metadata": {},
     "output_type": "execute_result"
    }
   ],
   "source": [
    "ba = True\n",
    "bb = 'true'\n",
    "type(ba), type(bb)"
   ]
  },
  {
   "cell_type": "code",
   "execution_count": 233,
   "id": "72a86d1e-d8c2-4f37-b339-9c70b5a70fe2",
   "metadata": {},
   "outputs": [
    {
     "data": {
      "text/plain": [
       "True"
      ]
     },
     "execution_count": 233,
     "metadata": {},
     "output_type": "execute_result"
    }
   ],
   "source": [
    "ba == 1"
   ]
  },
  {
   "cell_type": "code",
   "execution_count": 258,
   "id": "bec94741-5378-4a94-ac8f-4091dd1abec4",
   "metadata": {},
   "outputs": [
    {
     "data": {
      "text/plain": [
       "1"
      ]
     },
     "execution_count": 258,
     "metadata": {},
     "output_type": "execute_result"
    }
   ],
   "source": [
    "#논리 연산자 - and or not\n",
    "\n",
    "bc = 1\n",
    "ba and bc"
   ]
  },
  {
   "cell_type": "code",
   "execution_count": 3,
   "id": "da2a08d1-2fbe-4969-8b13-395d0f1acbed",
   "metadata": {},
   "outputs": [],
   "source": [
    "#사칙연산 + - * / , //(값) , %(나머지)\n",
    "\n",
    "a = 2\n",
    "b = 3"
   ]
  },
  {
   "cell_type": "code",
   "execution_count": 5,
   "id": "4fa9feba-e764-474a-8602-6d927180da3a",
   "metadata": {},
   "outputs": [
    {
     "data": {
      "text/plain": [
       "(0.6666666666666666, 0, 2)"
      ]
     },
     "execution_count": 5,
     "metadata": {},
     "output_type": "execute_result"
    }
   ],
   "source": [
    "a+b\n",
    "a-b\n",
    "a*b\n",
    "a/b, a//b, a%b #몫, 나머지"
   ]
  },
  {
   "cell_type": "code",
   "execution_count": 15,
   "id": "286b3a75-0240-4949-bba2-7a6b72a5a82e",
   "metadata": {},
   "outputs": [
    {
     "data": {
      "text/plain": [
       "False"
      ]
     },
     "execution_count": 15,
     "metadata": {},
     "output_type": "execute_result"
    }
   ],
   "source": [
    "#비교 연산자\n",
    "1+2 == 3\n",
    "1+2 != 3\n",
    "1+3 <= 4"
   ]
  },
  {
   "cell_type": "code",
   "execution_count": 18,
   "id": "818a10df-5a2b-4256-b0cc-7164d8173b9d",
   "metadata": {},
   "outputs": [
    {
     "data": {
      "text/plain": [
       "True"
      ]
     },
     "execution_count": 18,
     "metadata": {},
     "output_type": "execute_result"
    }
   ],
   "source": [
    "#비교연산자와 논리연산자의 결합\n",
    "10%2 == 0 and 12%3 == 0"
   ]
  },
  {
   "cell_type": "code",
   "execution_count": 19,
   "id": "3efe9c7b-6a52-4e98-ba0f-f673c9d1fed9",
   "metadata": {},
   "outputs": [
    {
     "data": {
      "text/plain": [
       "('1234', '5678', 1393759606832, 1393784591760)"
      ]
     },
     "execution_count": 19,
     "metadata": {},
     "output_type": "execute_result"
    }
   ],
   "source": [
    "a = '1234'\n",
    "b = '5678'\n",
    "a,b, id(a), id(b)"
   ]
  },
  {
   "cell_type": "code",
   "execution_count": 20,
   "id": "39761474-5ef5-4af4-a8ee-0002ef4306aa",
   "metadata": {},
   "outputs": [
    {
     "data": {
      "text/plain": [
       "(10, 12)"
      ]
     },
     "execution_count": 20,
     "metadata": {},
     "output_type": "execute_result"
    }
   ],
   "source": [
    "#대입연산자\n",
    "a = 10\n",
    "b = a+2\n",
    "a,b"
   ]
  },
  {
   "cell_type": "code",
   "execution_count": 22,
   "id": "6d58f021-68b3-4f47-9bd2-33d70779b10e",
   "metadata": {},
   "outputs": [
    {
     "data": {
      "text/plain": [
       "21"
      ]
     },
     "execution_count": 22,
     "metadata": {},
     "output_type": "execute_result"
    }
   ],
   "source": [
    "a = 20\n",
    "a += 1 #a = a+1\n",
    "a"
   ]
  },
  {
   "cell_type": "code",
   "execution_count": 123,
   "id": "00539f4a-4a90-46cc-b11e-556b01d27530",
   "metadata": {},
   "outputs": [
    {
     "data": {
      "text/plain": [
       "-73"
      ]
     },
     "execution_count": 123,
     "metadata": {},
     "output_type": "execute_result"
    }
   ],
   "source": [
    "a -= 1 \n",
    "a"
   ]
  },
  {
   "cell_type": "code",
   "execution_count": 43,
   "id": "653e18bd-1230-4928-9fcf-5ee3339b16fb",
   "metadata": {},
   "outputs": [
    {
     "data": {
      "text/plain": [
       "7"
      ]
     },
     "execution_count": 43,
     "metadata": {},
     "output_type": "execute_result"
    }
   ],
   "source": [
    "a = 3\n",
    "b = 2\n",
    "a += 2 + b\n",
    "a"
   ]
  },
  {
   "cell_type": "markdown",
   "id": "3c508e79-d36d-4881-b9d6-de8cf7bcdd27",
   "metadata": {},
   "source": [
    "# 문자열 str\n",
    "' ', \" \", \"\"\" \"\"\", ''' ''' docstring\n"
   ]
  },
  {
   "cell_type": "code",
   "execution_count": 126,
   "id": "d104ed5e-128c-45be-a714-016f07fc21df",
   "metadata": {},
   "outputs": [
    {
     "data": {
      "text/plain": [
       "'hellopython'"
      ]
     },
     "execution_count": 126,
     "metadata": {},
     "output_type": "execute_result"
    }
   ],
   "source": [
    "a = 'hello'\n",
    "b = 'python'\n",
    "c = '*'\n",
    "c*10\n",
    "a+b # 더하기는 문자열끼리 "
   ]
  },
  {
   "cell_type": "code",
   "execution_count": 128,
   "id": "a0ed8a3f-afdd-4b17-b860-363c5df1778a",
   "metadata": {},
   "outputs": [
    {
     "data": {
      "text/plain": [
       "\"kim's family\""
      ]
     },
     "execution_count": 128,
     "metadata": {},
     "output_type": "execute_result"
    }
   ],
   "source": [
    "d = \"kim's family\"\n",
    "d"
   ]
  },
  {
   "cell_type": "code",
   "execution_count": 129,
   "id": "01e83144-cfa7-49cc-99a6-b4a53d8fd37c",
   "metadata": {},
   "outputs": [
    {
     "data": {
      "text/plain": [
       "True"
      ]
     },
     "execution_count": 129,
     "metadata": {},
     "output_type": "execute_result"
    }
   ],
   "source": [
    "e = '1'\n",
    "e == '1'"
   ]
  },
  {
   "cell_type": "markdown",
   "id": "c7f785a6-f374-4f5a-ba23-270ae8d90722",
   "metadata": {},
   "source": [
    "## 인덱스"
   ]
  },
  {
   "cell_type": "code",
   "execution_count": 145,
   "id": "e08e17c2-dc9e-46ba-93ad-526ea6b1eb65",
   "metadata": {},
   "outputs": [
    {
     "data": {
      "text/plain": [
       "'30010331Rabcd'"
      ]
     },
     "execution_count": 145,
     "metadata": {},
     "output_type": "execute_result"
    }
   ],
   "source": [
    "#문자열은 리스트, 열거형\n",
    "a='20010331Rabcd' #13개의 글자의 목록\n",
    "'3' + a[1:]  #숫자 자리수 > 인덱스"
   ]
  },
  {
   "cell_type": "code",
   "execution_count": 134,
   "id": "e8935a60-070b-47bb-8b4a-dca675b782d6",
   "metadata": {},
   "outputs": [
    {
     "data": {
      "text/plain": [
       "'200'"
      ]
     },
     "execution_count": 134,
     "metadata": {},
     "output_type": "execute_result"
    }
   ],
   "source": [
    "a[0:3] #해석 0부터 3개 가져와 (콜론), 슬라이싱 slice"
   ]
  },
  {
   "cell_type": "code",
   "execution_count": 138,
   "id": "57fc1ba6-e007-48bf-8498-f0f5711ff221",
   "metadata": {},
   "outputs": [
    {
     "data": {
      "text/plain": [
       "'Rab'"
      ]
     },
     "execution_count": 138,
     "metadata": {},
     "output_type": "execute_result"
    }
   ],
   "source": [
    "#rab a='20010331Rabcd'\n",
    "a[8:11]"
   ]
  },
  {
   "cell_type": "code",
   "execution_count": 141,
   "id": "e63dae6c-b867-46d1-a4f2-a09b49755f68",
   "metadata": {},
   "outputs": [
    {
     "data": {
      "text/plain": [
       "'abcd'"
      ]
     },
     "execution_count": 141,
     "metadata": {},
     "output_type": "execute_result"
    }
   ],
   "source": [
    "a[9:13]"
   ]
  },
  {
   "cell_type": "code",
   "execution_count": 142,
   "id": "a1862280-cfa8-47f5-89d9-844ac755d5f4",
   "metadata": {},
   "outputs": [
    {
     "data": {
      "text/plain": [
       "True"
      ]
     },
     "execution_count": 142,
     "metadata": {},
     "output_type": "execute_result"
    }
   ],
   "source": [
    "s='abc'\n",
    "a=s\n",
    "a is s"
   ]
  },
  {
   "cell_type": "code",
   "execution_count": null,
   "id": "2707c95d-5c42-4719-95e3-987dcb3b4ea3",
   "metadata": {},
   "outputs": [],
   "source": [
    "b = s[:] # [:] 전부 가져와 십새기야 \n",
    "a is b"
   ]
  },
  {
   "cell_type": "code",
   "execution_count": 144,
   "id": "dc3e2914-6694-416f-9eab-77f453b13868",
   "metadata": {},
   "outputs": [
    {
     "data": {
      "text/plain": [
       "True"
      ]
     },
     "execution_count": 144,
     "metadata": {},
     "output_type": "execute_result"
    }
   ],
   "source": [
    "s1 = '1'*1000\n",
    "b = s1[:]\n",
    "s1 == b"
   ]
  },
  {
   "cell_type": "markdown",
   "id": "d7bed589-89f2-4cf3-bc60-525391665183",
   "metadata": {},
   "source": [
    "doc_string = '''docstring \\n\n",
    "start\\n\n",
    "end\\n\n",
    "'''\n",
    "\n",
    "print(doc_string)"
   ]
  },
  {
   "cell_type": "code",
   "execution_count": 22,
   "id": "66d02e79-4fa5-4aa5-aa1f-30a1102e5c87",
   "metadata": {},
   "outputs": [
    {
     "name": "stdout",
     "output_type": "stream",
     "text": [
      "docstring \n",
      "\n",
      "start\n",
      "\n",
      "end\n",
      "\n",
      "\n"
     ]
    },
    {
     "data": {
      "text/plain": [
       "'docstring \\n\\nstart\\n\\nend\\n\\n'"
      ]
     },
     "execution_count": 22,
     "metadata": {},
     "output_type": "execute_result"
    }
   ],
   "source": [
    "#docsting은 큰따옴표(\") 또는 작은따옴표(')를 3개 붙이면 안에서 줄바꿈했을 때 '\\n'를 사용하지 않고도 줄바꿈 할 수 있음\n",
    "#주로 언제씀? -> 문서의 주석을 달 때 많이 사용한다고 함\n",
    "#'shift' + 'tab' 설명서 나오게 함 \n",
    "doc_string = '''docstring \\n\n",
    "start\\n\n",
    "end\\n\n",
    "'''\n",
    "\n",
    "print(doc_string)\n",
    "doc_string"
   ]
  },
  {
   "cell_type": "code",
   "execution_count": 24,
   "id": "ebbbb2c6-581c-4623-b140-54d282854767",
   "metadata": {
    "collapsed": true,
    "jupyter": {
     "outputs_hidden": true
    }
   },
   "outputs": [
    {
     "data": {
      "text/plain": [
       "['__add__',\n",
       " '__class__',\n",
       " '__contains__',\n",
       " '__delattr__',\n",
       " '__dir__',\n",
       " '__doc__',\n",
       " '__eq__',\n",
       " '__format__',\n",
       " '__ge__',\n",
       " '__getattribute__',\n",
       " '__getitem__',\n",
       " '__getnewargs__',\n",
       " '__getstate__',\n",
       " '__gt__',\n",
       " '__hash__',\n",
       " '__init__',\n",
       " '__init_subclass__',\n",
       " '__iter__',\n",
       " '__le__',\n",
       " '__len__',\n",
       " '__lt__',\n",
       " '__mod__',\n",
       " '__mul__',\n",
       " '__ne__',\n",
       " '__new__',\n",
       " '__reduce__',\n",
       " '__reduce_ex__',\n",
       " '__repr__',\n",
       " '__rmod__',\n",
       " '__rmul__',\n",
       " '__setattr__',\n",
       " '__sizeof__',\n",
       " '__str__',\n",
       " '__subclasshook__',\n",
       " 'capitalize',\n",
       " 'casefold',\n",
       " 'center',\n",
       " 'count',\n",
       " 'encode',\n",
       " 'endswith',\n",
       " 'expandtabs',\n",
       " 'find',\n",
       " 'format',\n",
       " 'format_map',\n",
       " 'index',\n",
       " 'isalnum',\n",
       " 'isalpha',\n",
       " 'isascii',\n",
       " 'isdecimal',\n",
       " 'isdigit',\n",
       " 'isidentifier',\n",
       " 'islower',\n",
       " 'isnumeric',\n",
       " 'isprintable',\n",
       " 'isspace',\n",
       " 'istitle',\n",
       " 'isupper',\n",
       " 'join',\n",
       " 'ljust',\n",
       " 'lower',\n",
       " 'lstrip',\n",
       " 'maketrans',\n",
       " 'partition',\n",
       " 'removeprefix',\n",
       " 'removesuffix',\n",
       " 'replace',\n",
       " 'rfind',\n",
       " 'rindex',\n",
       " 'rjust',\n",
       " 'rpartition',\n",
       " 'rsplit',\n",
       " 'rstrip',\n",
       " 'split',\n",
       " 'splitlines',\n",
       " 'startswith',\n",
       " 'strip',\n",
       " 'swapcase',\n",
       " 'title',\n",
       " 'translate',\n",
       " 'upper',\n",
       " 'zfill']"
      ]
     },
     "execution_count": 24,
     "metadata": {},
     "output_type": "execute_result"
    }
   ],
   "source": [
    "dir(text)"
   ]
  },
  {
   "cell_type": "code",
   "execution_count": 44,
   "id": "237f2bc8-284f-4771-abb9-ed7c4a78ca3a",
   "metadata": {},
   "outputs": [
    {
     "name": "stdout",
     "output_type": "stream",
     "text": [
      "파이썬\n"
     ]
    },
    {
     "data": {
      "text/plain": [
       "'파이썬파이썬파이썬파이썬'"
      ]
     },
     "execution_count": 44,
     "metadata": {},
     "output_type": "execute_result"
    }
   ],
   "source": [
    "print(text)\n",
    "text.count(\"파이\")\n",
    "text*4"
   ]
  },
  {
   "cell_type": "markdown",
   "id": "3b55130e-a151-45a3-a741-2fbe5e0fca1c",
   "metadata": {},
   "source": [
    "# excape 문자\n",
    "#사용법 \\n, \\' 특수문자를 그냥 그냥 텍스트로 인식하게 한다. \n",
    "\n",
    "### \\ '역슬래시'\n",
    "\n",
    "| 이스케이프 문자 | 의미             |\n",
    "| -------- | -------------- |\n",
    "| `\\n`     | 줄바꿈(새 줄)       |\n",
    "| `\\t`     | 탭(tab)         |\n",
    "| `\\r`     | 캐리지 리턴(줄 처음으로) |\n",
    "| `\\\\`     | 백슬래시 자체를 출력    |\n",
    "\n"
   ]
  },
  {
   "cell_type": "code",
   "execution_count": 40,
   "id": "3a7e3b1f-90ad-4ee5-89ad-8c9939b56453",
   "metadata": {},
   "outputs": [
    {
     "name": "stdout",
     "output_type": "stream",
     "text": [
      "hello\n",
      "world\n"
     ]
    }
   ],
   "source": [
    "print('hello\\nworld')\n"
   ]
  },
  {
   "cell_type": "markdown",
   "id": "cb039a11-ec9e-4f3c-8b32-0ce276b12066",
   "metadata": {
    "jp-MarkdownHeadingCollapsed": true
   },
   "source": [
    "### raw-strint 그냥 문자열 기능"
   ]
  },
  {
   "cell_type": "markdown",
   "id": "c3cf906c-8b77-4b04-9df0-d35f50409366",
   "metadata": {},
   "source": [
    "raw-string : 모두다 문자열이다 r'str?\\'\n",
    "f-string : 형식코드가 내포된 문자열 f'str{text}' # {}중괄호로 표시한 것들은 코드로 해석해 "
   ]
  },
  {
   "cell_type": "code",
   "execution_count": 50,
   "id": "9759b4f6-a49f-409d-9375-37c0df6333a5",
   "metadata": {},
   "outputs": [
    {
     "data": {
      "text/plain": [
       "'12\\\\4'"
      ]
     },
     "execution_count": 50,
     "metadata": {},
     "output_type": "execute_result"
    }
   ],
   "source": [
    "str_1 = '12\\\\4' # 12\\x04\n",
    "str_1\n",
    "\n"
   ]
  },
  {
   "cell_type": "code",
   "execution_count": 51,
   "id": "e52ea67b-7136-4b08-a4eb-5c7772f1fb9f",
   "metadata": {},
   "outputs": [
    {
     "data": {
      "text/plain": [
       "'12\\\\4'"
      ]
     },
     "execution_count": 51,
     "metadata": {},
     "output_type": "execute_result"
    }
   ],
   "source": [
    "raw_str = r'12\\4'\n",
    "raw_str"
   ]
  },
  {
   "cell_type": "code",
   "execution_count": 53,
   "id": "8075bc7d-4b05-45ab-aefd-8d4eba6df30c",
   "metadata": {},
   "outputs": [
    {
     "name": "stdout",
     "output_type": "stream",
     "text": [
      "hello\\nworld\n"
     ]
    }
   ],
   "source": [
    "raw_str_1= r'hello\\nworld'\n",
    "print(raw_str_1)"
   ]
  },
  {
   "cell_type": "markdown",
   "id": "ea6e57f6-a3c9-4b2b-8a6b-dee2a5812e00",
   "metadata": {
    "jp-MarkdownHeadingCollapsed": true
   },
   "source": [
    "### f'string \n",
    "f' {수식}문자열이에요 {변수}'"
   ]
  },
  {
   "cell_type": "code",
   "execution_count": 59,
   "id": "5621c9d5-3063-4937-8ab1-5bf380ccbb9c",
   "metadata": {},
   "outputs": [
    {
     "name": "stdout",
     "output_type": "stream",
     "text": [
      "제 이름은 jeehun  내 나이는 25  입니다\n"
     ]
    }
   ],
   "source": [
    "name = 'jeehun'\n",
    "age = 25\n",
    "print('제 이름은', name, ' 내 나이는', age,' 입니다')"
   ]
  },
  {
   "cell_type": "code",
   "execution_count": 60,
   "id": "fef80c7c-88ee-4b15-b76b-57e9d7d0436d",
   "metadata": {},
   "outputs": [
    {
     "name": "stdout",
     "output_type": "stream",
     "text": [
      "제 이름은 jeehun이고 내 나이는 25입니다\n"
     ]
    }
   ],
   "source": [
    "name = 'jeehun'\n",
    "age = 25\n",
    "print(f'제 이름은 {name}이고 내 나이는 {age}입니다')"
   ]
  },
  {
   "cell_type": "code",
   "execution_count": 63,
   "id": "03c15f75-19f9-4ac3-bec0-684d73ce6def",
   "metadata": {},
   "outputs": [
    {
     "name": "stdin",
     "output_type": "stream",
     "text": [
      " 한지훈\n",
      " 31살\n"
     ]
    },
    {
     "name": "stdout",
     "output_type": "stream",
     "text": [
      "나는 대한민국의 재앙 킹갓제네럴백수 한지훈이다 시발ㄹ럼들아. 내 연식은 31살이다\n"
     ]
    }
   ],
   "source": [
    "#이름과 자기소개를 입력받아서 출력하는 프로그램을 작성\n",
    "\n",
    "name = input()\n",
    "age = input()\n",
    "print(f'나는 대한민국의 재앙 킹갓제네럴백수 {name}이다 시발ㄹ럼들아. 내 연식은 {age}이다')"
   ]
  },
  {
   "cell_type": "markdown",
   "id": "d6ac1ee9-a19d-4558-8d8f-a470fe0ea306",
   "metadata": {},
   "source": [
    "### 추가공부 문자열.fotmat()"
   ]
  },
  {
   "cell_type": "code",
   "execution_count": 66,
   "id": "990e05a6-97c1-4f65-aa98-c9ceca9ab1a6",
   "metadata": {},
   "outputs": [
    {
     "data": {
      "text/plain": [
       "'99.99dollars are worth us$100'"
      ]
     },
     "execution_count": 66,
     "metadata": {},
     "output_type": "execute_result"
    }
   ],
   "source": [
    "#dir(f_str_1)\n",
    "format_str = '{}{} are worth us${}' #template\n",
    "format_str.format(99.99,'dollars', 100)"
   ]
  },
  {
   "cell_type": "code",
   "execution_count": 66,
   "id": "9545938f-85a8-40c1-b78f-4bf3263be741",
   "metadata": {},
   "outputs": [
    {
     "data": {
      "text/plain": [
       "'99.99dollars are worth us$100'"
      ]
     },
     "execution_count": 66,
     "metadata": {},
     "output_type": "execute_result"
    }
   ],
   "source": [
    "#dir(f_str_1)\n",
    "format_str = '{0:.4f}{1:s} are worth us${2:d}' #template\n",
    "format_str.format(99.99,'dollars', 100)\n",
    "\n",
    "# {0:.4f}: 첫 번째 값(인덱스 0)을 소수점 아래 4자리까지 실수로 표현\n",
    "# {1:s}: 두 번째 값(인덱스 1)을 문자열로 출력\n",
    "# {2:d}: 세 번째 값(인덱스 2)을 10진수 정수로 출력"
   ]
  },
  {
   "cell_type": "code",
   "execution_count": 70,
   "id": "d652e368-ae30-485d-bb3f-bf0158593963",
   "metadata": {},
   "outputs": [
    {
     "name": "stdin",
     "output_type": "stream",
     "text": [
      "주문할 메뉴를 입력하세요 햄버거\n",
      "한 개 가격이 얼마인가요? 3000\n",
      "몇 개나 주문하세요?  2\n"
     ]
    },
    {
     "name": "stdout",
     "output_type": "stream",
     "text": [
      " 햄버거메뉴의 2개 가격은 총 6,000입니다.\n"
     ]
    }
   ],
   "source": [
    "menu = input('주문할 메뉴를 입력하세요')\n",
    "price = int(input('한 개 가격이 얼마인가요?')) #input은 그냥 받으면 문자열로 받게 됨 그래서 숫자열로 바꿔줘야 함 \n",
    "count = int(input('몇 개나 주문하세요? '))\n",
    "\n",
    "total = price*count\n",
    "msg = ' {}메뉴의 {}개 가격은 총 {:,}입니다.'\n",
    "print(msg.format(menu,count,total))"
   ]
  },
  {
   "cell_type": "code",
   "execution_count": 80,
   "id": "93f30f18-5820-4760-a2bb-bea22f456760",
   "metadata": {},
   "outputs": [
    {
     "name": "stdout",
     "output_type": "stream",
     "text": [
      "상품명       가격        수량        총액        \n",
      "----------------------------------------\n",
      "아메리카노          3,000원         2개     6,000원\n",
      "카페라떼           4,000원         1개     4,000원\n",
      "샌드위치           5,500원         3개    16,500원\n"
     ]
    }
   ],
   "source": [
    "items = [\n",
    "    {\"name\": \"아메리카노\", \"price\": 3000, \"qty\": 2},\n",
    "    {\"name\": \"카페라떼\", \"price\": 4000, \"qty\": 1},\n",
    "    {\"name\": \"샌드위치\", \"price\": 5500, \"qty\": 3}\n",
    "]\n",
    "\n",
    "header_str = '{:10}{:10}{:10}{:10}' # 상단 헤더에 대한 코드 \n",
    "print(header_str.format('상품명','가격','수량','총액'))\n",
    "print('-'*40)\n",
    "data_str = '{:10}{:10,}원{:10}개{:10,}원' # 밑에 데이터에 대한 코드 \n",
    "for item in items :\n",
    "    item_name = item['name']\n",
    "    item_price = item['price']\n",
    "    item_qty = item['qty']\n",
    "    total_price = item_price*item_qty\n",
    "    \n",
    "    print(data_str.format(item_name, item_price, item_qty, total_price))\n",
    "\n",
    "\n"
   ]
  },
  {
   "cell_type": "code",
   "execution_count": 91,
   "id": "e47edc44-8c77-48d7-a3e5-3d978a2bf4a0",
   "metadata": {},
   "outputs": [
    {
     "name": "stdout",
     "output_type": "stream",
     "text": [
      "이름        나이        애정도       \n",
      "----------------------------------------\n"
     ]
    },
    {
     "ename": "KeyError",
     "evalue": "'age'",
     "output_type": "error",
     "traceback": [
      "\u001b[31m---------------------------------------------------------------------------\u001b[39m",
      "\u001b[31mKeyError\u001b[39m                                  Traceback (most recent call last)",
      "\u001b[36mCell\u001b[39m\u001b[36m \u001b[39m\u001b[32mIn[91]\u001b[39m\u001b[32m, line 14\u001b[39m\n\u001b[32m     12\u001b[39m \u001b[38;5;28;01mfor\u001b[39;00m ele \u001b[38;5;129;01min\u001b[39;00m items :\n\u001b[32m     13\u001b[39m     ele_name = ele[\u001b[33m'\u001b[39m\u001b[33mname\u001b[39m\u001b[33m'\u001b[39m]\n\u001b[32m---> \u001b[39m\u001b[32m14\u001b[39m     ele_age = ele[\u001b[33m'\u001b[39m\u001b[33mage\u001b[39m\u001b[33m'\u001b[39m]\n\u001b[32m     15\u001b[39m     ele_lovelevel = [\u001b[33m'\u001b[39m\u001b[33mlovelevel\u001b[39m\u001b[33m'\u001b[39m]\n\u001b[32m     16\u001b[39m     \u001b[38;5;28mprint\u001b[39m(data_str1.format(ele_name,ele_age,ele_lovelevel))\n",
      "\u001b[31mKeyError\u001b[39m: 'age'"
     ]
    }
   ],
   "source": [
    "items: [\n",
    "    {\"name\": \"박보슬\", \"age\":31,\"lovelevel\":90}, #이게 하나의 ele1\n",
    "    {\"name\": \"서빛나리\",\"age\":31,\"lovelevel\":88}, # ele2\n",
    "    {\"name\": \"이슬\",\"age\":29,\"lovelevel\":79} # ele3\n",
    "    ]\n",
    "\n",
    "header_str1 = '{:10}{:10}{:10}'\n",
    "print(header_str1.format('이름','나이','애정도'))\n",
    "print('-'*40)\n",
    "\n",
    "data_str1 = '{}{}살{}러브파워'\n",
    "for ele in items :\n",
    "    ele_name = ele['name']\n",
    "    ele_age = ele['age']\n",
    "    ele_lovelevel = ['lovelevel']\n",
    "    print(data_str1.format(ele_name,ele_age,ele_lovelevel))"
   ]
  },
  {
   "cell_type": "markdown",
   "id": "e1667605-01a7-4fd6-ac09-6d42d92c2db8",
   "metadata": {},
   "source": [
    "### 추가공부\n",
    "| 함수                  | 설명                  | 예시                                        |\n",
    "| ------------------- | ------------------- | ----------------------------------------- |\n",
    "| lower()           | 모두 소문자로 변환          | \"Python\".lower() → \"python\"           |\n",
    "| upper()           | 모두 대문자로 변환          | \"python\".upper() → \"PYTHON\"           |\n",
    "| capitalize()      | 첫 글자만 대문자           | \"hello\".capitalize() → \"Hello\"        |\n",
    "| title()           | 각 단어의 첫 글자 대문자      | \"hello world\".title() → \"Hello World\" |\n",
    "| strip()           | 앞뒤 공백 제거            | \" hello \".strip() → \"hello\"           |\n",
    "| lstrip()          | 왼쪽 공백 제거            | \" hello\".lstrip()                       |\n",
    "| rstrip()          | 오른쪽 공백 제거           | \"hello \".rstrip()                       |\n",
    "| replace(old, new) | 문자열 바꾸기             | \"hello\".replace(\"l\", \"x\") → \"hexxo\"   |\n",
    "| split()           | 문자열 나누기 (기본: 공백)    | \"a b c\".split() → ['a', 'b', 'c']     |\n",
    "| join(list)        | 리스트를 문자열로 결합        | \" \".join(['a', 'b']) → \"a b\"          |\n",
    "| find(sub)         | 처음 등장하는 위치 (없으면 -1) | \"apple\".find(\"p\") → 1                 |\n",
    "| index(sub)        | 처음 등장하는 위치 (없으면 오류) | \"apple\".index(\"p\") → 1                |\n",
    "| count(sub)        | 부분 문자열 개수           | \"banana\".count(\"a\") → 3               |\n",
    "| startswith(sub)   | 해당 문자열로 시작?         | \"python\".startswith(\"py\") → True      |\n",
    "| endswith(sub)     | 해당 문자열로 끝남?         | \"python\".endswith(\"on\") → True        |\n",
    "| isalnum()         | 영문자+숫자인가?           | \"abc123\".isalnum() → True             |\n",
    "| isalpha()         | 영문자만인가?             | \"abc\".isalpha() → True                |\n",
    "| isdigit()         | 숫자만인가?              | \"123\".isdigit() → True                |\n",
    "| isspace()         | 공백문자만 있는가?          | \" \\t\\n\".isspace() → True              |"
   ]
  },
  {
   "cell_type": "code",
   "execution_count": null,
   "id": "7c29b461-4e8b-4b9a-93a8-73f6b977f4dd",
   "metadata": {},
   "outputs": [],
   "source": []
  },
  {
   "cell_type": "markdown",
   "id": "14b59692-7cdf-46bc-8551-b62c37481f82",
   "metadata": {},
   "source": [
    "# type error"
   ]
  },
  {
   "cell_type": "code",
   "execution_count": 54,
   "id": "b251bad1-4165-4476-98a6-db987b07e6c2",
   "metadata": {},
   "outputs": [
    {
     "ename": "TypeError",
     "evalue": "unsupported operand type(s) for +: 'int' and 'str'",
     "output_type": "error",
     "traceback": [
      "\u001b[31m---------------------------------------------------------------------------\u001b[39m",
      "\u001b[31mTypeError\u001b[39m                                 Traceback (most recent call last)",
      "\u001b[36mCell\u001b[39m\u001b[36m \u001b[39m\u001b[32mIn[54]\u001b[39m\u001b[32m, line 3\u001b[39m\n\u001b[32m      1\u001b[39m b = \u001b[32m2\u001b[39m\n\u001b[32m      2\u001b[39m c = \u001b[33m'\u001b[39m\u001b[33m3\u001b[39m\u001b[33m'\u001b[39m\n\u001b[32m----> \u001b[39m\u001b[32m3\u001b[39m b+c\n",
      "\u001b[31mTypeError\u001b[39m: unsupported operand type(s) for +: 'int' and 'str'"
     ]
    }
   ],
   "source": [
    "b = 2\n",
    "c = '3'\n",
    "b+c #type error"
   ]
  },
  {
   "cell_type": "code",
   "execution_count": 55,
   "id": "4f673c51-cb37-43c3-a3ac-c15e88a00ead",
   "metadata": {},
   "outputs": [
    {
     "data": {
      "text/plain": [
       "5"
      ]
     },
     "execution_count": 55,
     "metadata": {},
     "output_type": "execute_result"
    }
   ],
   "source": [
    "b + int(c)"
   ]
  },
  {
   "cell_type": "code",
   "execution_count": null,
   "id": "70fc121c-ca03-4e28-b7e3-fae2df6afe8d",
   "metadata": {},
   "outputs": [],
   "source": [
    "c = '3a'\n",
    "b + int(c) #value error - C는 타입을 바꿀 수 없는 값이라는 오류내용"
   ]
  },
  {
   "cell_type": "code",
   "execution_count": 57,
   "id": "cd1fcfb8-b307-4a1d-8752-4e99a5bd2e7c",
   "metadata": {},
   "outputs": [
    {
     "data": {
      "text/plain": [
       "5"
      ]
     },
     "execution_count": 57,
     "metadata": {},
     "output_type": "execute_result"
    }
   ],
   "source": [
    "b + int(c[:1])"
   ]
  }
 ],
 "metadata": {
  "kernelspec": {
   "display_name": "Python 3 (ipykernel)",
   "language": "python",
   "name": "python3"
  },
  "language_info": {
   "codemirror_mode": {
    "name": "ipython",
    "version": 3
   },
   "file_extension": ".py",
   "mimetype": "text/x-python",
   "name": "python",
   "nbconvert_exporter": "python",
   "pygments_lexer": "ipython3",
   "version": "3.12.9"
  }
 },
 "nbformat": 4,
 "nbformat_minor": 5
}
