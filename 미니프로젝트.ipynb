{
 "cells": [
  {
   "cell_type": "code",
   "execution_count": 7,
   "id": "b2e2b4c3-5f0b-45e6-8c25-733c2111dc9f",
   "metadata": {
    "scrolled": true
   },
   "outputs": [
    {
     "name": "stdout",
     "output_type": "stream",
     "text": [
      "========================================\n",
      "              🍧또!젤라또🍧              \n",
      "========================================\n",
      "어서오세요 아이스크림을 또 주는 또젤라또입니다\n",
      "\n",
      "1. 또젤라또 (3,000원)\n",
      "2. 또또젤라또 (5,000원)\n",
      "3. 또또또젤라또 (7,000원)\n",
      "========================================\n"
     ]
    }
   ],
   "source": [
    "# 터미널 기반 키오스크 메뉴 출력 예시\n",
    "store_name = '🍧또!젤라또🍧'\n",
    "\n",
    "def print_kiosk_menu():\n",
    "    # 상호명\n",
    "    print(\"=\"*40)\n",
    "    print(f'{store_name:^35}')\n",
    "    print(\"=\"*40)\n",
    "\n",
    "    # 인사말\n",
    "    print(\"어서오세요 아이스크림을 또 주는 또젤라또입니다\\n\")\n",
    "\n",
    "    # 메뉴\n",
    "    print(\"1. 또젤라또 (3,000원)\")\n",
    "    print(\"2. 또또젤라또 (5,000원)\")\n",
    "    print(\"3. 또또또젤라또 (7,000원)\")\n",
    "    print(\"=\"*40)\n",
    "\n",
    "# 메인 실행\n",
    "if __name__ == \"__main__\":\n",
    "    print_kiosk_menu()\n"
   ]
  },
  {
   "cell_type": "markdown",
   "id": "1635accf-86be-42f6-b21e-e4ad10bcce26",
   "metadata": {},
   "source": [
    "이름은 최대한 이걸로 부탁드려요 혹시나 연장 되야하면 밑에 단어에 _ 언더바나 - 하이픈 이용해주세요.\n",
    "\n",
    "주문 - order     (예시) order_하고싶은 이름 order-하고싶은 이름           \n",
    "선택   -  select\n",
    "포인트 - point"
   ]
  },
  {
   "cell_type": "code",
   "execution_count": 38,
   "id": "5e959aa8-6bd1-4e8e-a213-7a984a10c475",
   "metadata": {},
   "outputs": [],
   "source": [
    "menu_list = [\n",
    "    {'name':'또젤라또','count':'1가지맛', 'price':3000},\n",
    "    {'name':'또또젤라또','count':'2가지맛', 'price':5000},\n",
    "    {'name':'또또또젤라또','count':'3가지맛', 'price':7000}\n",
    "]\n",
    "\n",
    "flavor_list = [\n",
    "    {'flavor':'달콤초코봄바람'},\n",
    "    {'flavor':'새콤달콤딸기정원'},\n",
    "    {'flavor':'요거트빛파도'},\n",
    "    {'flavor':'말차소풍'},\n",
    "    {'flavor':'체리팝송'},\n",
    "    {'flavor':'포도에몽'},\n",
    "    {'flavor':'바닐라하모니'},\n",
    "    {'flavor':'쿠키크러쉬'},\n",
    "    {'flavor':'소금바다우유'},\n",
    "    {'flavor':'블루베리썸머'},\n",
    "    {'flavor':'스윗피치'},\n",
    "    {'flavor':'레몬샤워'},\n",
    "]"
   ]
  },
  {
   "cell_type": "code",
   "execution_count": 45,
   "id": "9babc6b8-3217-4bf1-81c8-ae9c23cdee29",
   "metadata": {},
   "outputs": [
    {
     "name": "stdout",
     "output_type": "stream",
     "text": [
      "=============================================\n",
      "                🍧또!젤라또🍧                 \n",
      "=============================================\n",
      "어서오세요 아이스크림을 또 주는 또젤라또입니다\n",
      "\n",
      "1. 또젤라또           1가지맛      3,000원\n",
      "2. 또또젤라또          2가지맛      5,000원\n",
      "3. 또또또젤라또         3가지맛      7,000원\n",
      "=============================================\n"
     ]
    },
    {
     "name": "stdin",
     "output_type": "stream",
     "text": [
      "주문할 메뉴 번호를 입력해주세요: 2\n"
     ]
    }
   ],
   "source": [
    "# [1]\n",
    "store_name = '🍧또!젤라또🍧'\n",
    "\n",
    "menu_list = [\n",
    "    {'name':'또젤라또','count':'1가지맛', 'price':3000},\n",
    "    {'name':'또또젤라또','count':'2가지맛', 'price':5000},\n",
    "    {'name':'또또또젤라또','count':'3가지맛', 'price':7000}\n",
    "]\n",
    "\n",
    "flavor_list = [\n",
    "    {'flavor':'달콤초코봄바람'},\n",
    "    {'flavor':'새콤달콤딸기정원'},\n",
    "    {'flavor':'요거트빛파도'},\n",
    "    {'flavor':'말차소풍'},\n",
    "    {'flavor':'체리팝송'},\n",
    "    {'flavor':'포도에몽'},\n",
    "    {'flavor':'바닐라하모니'},\n",
    "    {'flavor':'쿠키크러쉬'},\n",
    "    {'flavor':'소금바다우유'},\n",
    "    {'flavor':'블루베리썸머'},\n",
    "    {'flavor':'스윗피치'},\n",
    "    {'flavor':'레몬샤워'},\n",
    "]\n",
    "\n",
    "\n",
    "print(\"=\"*45)\n",
    "print(f'{store_name:^40}')\n",
    "print(\"=\"*45)\n",
    "\n",
    "print(\"어서오세요 아이스크림을 또 주는 또젤라또입니다\\n\")\n",
    "\n",
    "for i, menu in enumerate(menu_list):\n",
    "    print(f'{i + 1}. {menu['name']:<6} {menu['count']:>12} {menu['price']:>10,}원')\n",
    "print(\"=\"*45)\n",
    "\n",
    "order_num = int(input('주문할 메뉴 번호를 입력해주세요:')) - 1"
   ]
  },
  {
   "cell_type": "code",
   "execution_count": 46,
   "id": "16b61b5c-c7d5-422d-b3d6-07ea03753de6",
   "metadata": {},
   "outputs": [
    {
     "name": "stdout",
     "output_type": "stream",
     "text": [
      "\n",
      "선택하신 사이즈는 '또또젤라또' 입니다.\n",
      "맛을 골라주세요: \n",
      "2가지 맛을 골라주세요.\n",
      "                                       (숫자를 입력해주세요.)\n",
      "\n",
      "(예: 1 , 3 , 5)\n",
      "\n",
      "1. 달콤초코봄바람\n",
      "2. 새콤달콤딸기정원\n",
      "3. 요거트빛파도\n",
      "4. 말차소풍\n",
      "5. 체리팝송\n",
      "6. 포도에몽\n",
      "7. 바닐라하모니\n",
      "8. 쿠키크러쉬\n",
      "9. 소금바다우유\n",
      "10. 블루베리썸머\n",
      "11. 스윗피치\n",
      "12. 레몬샤워\n"
     ]
    },
    {
     "name": "stdin",
     "output_type": "stream",
     "text": [
      "\n",
      "맛 번호들을 쉼표로 입력하세요:  1,2\n"
     ]
    },
    {
     "data": {
      "text/plain": [
       "[0, 1]"
      ]
     },
     "execution_count": 46,
     "metadata": {},
     "output_type": "execute_result"
    }
   ],
   "source": [
    "#[2]\n",
    "selected_menu = menu_list[order_num]\n",
    "\n",
    "# 선택한 사이즈 안내 메시지\n",
    "flavor_count = int(selected_menu['count'][0])\n",
    "print(f\"\\n선택하신 사이즈는 '{selected_menu['name']}' 입니다.\")\n",
    "print(\"맛을 골라주세요: \")\n",
    "\n",
    "# 선택한 수에 따라 정확히 안내 메시지 출력\n",
    "if flavor_count == 1:\n",
    "    print(\"1가지 맛을 골라주세요.\")\n",
    "elif flavor_count == 2:\n",
    "    print(\"2가지 맛을 골라주세요.\")\n",
    "elif flavor_count == 3:\n",
    "    print(\"3가지 맛을 골라주세요.\")\n",
    "\n",
    "print(\" \" * 39 + \"(숫자를 입력해주세요.)\")\n",
    "print(\"\\n(예: 1 , 3 , 5)\\n\")\n",
    "\n",
    "# 메뉴 리스트 보여주기\n",
    "for i, fla in enumerate(flavor_list):\n",
    "    print(f\"{i+1}. {fla['flavor']}\")\n",
    "\n",
    "# 맛 번호 입력\n",
    "while True:\n",
    "    flavor_input = input(\"\\n맛 번호들을 쉼표로 입력하세요: \")\n",
    "    parts = flavor_input.split(',')\n",
    "    flavor_nums = []\n",
    "\n",
    "    for p in parts:\n",
    "        p = p.strip()\n",
    "        if p.isdigit():\n",
    "            flavor_nums.append(int(p) - 1)\n",
    "\n",
    "    if len(flavor_nums) != flavor_count:\n",
    "        print(f\"\\n {flavor_count}가지 맛을 선택해야 합니다. 다시 입력해주세요.\")\n",
    "        continue\n",
    "    break\n",
    "\n",
    "flavor_nums\n"
   ]
  },
  {
   "cell_type": "code",
   "execution_count": 54,
   "id": "7279ddf9-80ba-4c76-9460-2967152bbd83",
   "metadata": {},
   "outputs": [
    {
     "name": "stdout",
     "output_type": "stream",
     "text": [
      "선택하신 제품은 또또젤라또\n",
      " 1달콤초코봄바람\n",
      " 2새콤달콤딸기정원\n",
      "맛입니다\n"
     ]
    },
    {
     "name": "stdin",
     "output_type": "stream",
     "text": [
      "더 주문하시겠습니까?(Y/N) n\n"
     ]
    }
   ],
   "source": [
    "\n",
    "\n",
    "\n",
    "oder_num = [1,2,3]\n",
    "select_name = menu_list[1]['name']\n",
    "print(f'선택하신 제품은 {select_name}')\n",
    "for i in flavor_nums :\n",
    "    print(f' {i+1}{flavor_list[i]['flavor']}')\n",
    "print('맛입니다')\n",
    "\n",
    "\n",
    "order_q = input(f'더 주문하시겠습니까?(Y/N)')\n"
   ]
  },
  {
   "cell_type": "code",
   "execution_count": 57,
   "id": "6b6dc881-43df-4eec-8159-c4f5d5206c70",
   "metadata": {},
   "outputs": [
    {
     "ename": "IndentationError",
     "evalue": "expected an indented block after 'if' statement on line 2 (1923613325.py, line 4)",
     "output_type": "error",
     "traceback": [
      "  \u001b[36mCell\u001b[39m\u001b[36m \u001b[39m\u001b[32mIn[57]\u001b[39m\u001b[32m, line 4\u001b[39m\n\u001b[31m    \u001b[39m\u001b[31melse:\u001b[39m\n    ^\n\u001b[31mIndentationError\u001b[39m\u001b[31m:\u001b[39m expected an indented block after 'if' statement on line 2\n"
     ]
    }
   ],
   "source": [
    "order_q = input(f'더 주문하시겠습니까?(Y/N)')\n",
    "if y in order_q :\n",
    "    #주문화면으로 가기\n",
    "else:\n",
    "    #결제 페이지로 가기 \n",
    "    print(f'주문하신 제품은 {select_name}')\n",
    "    print(favor_list[])\n",
    "    print(favor_list[])\n",
    "    print(favor_list[])\n",
    "    print('맛으로')\n",
    "    print(f'총 금액은 {}원 입니다.')\n",
    "\n",
    "\n",
    "    "
   ]
  },
  {
   "cell_type": "code",
   "execution_count": null,
   "id": "25166e66-611f-4e02-bd83-36dcf20a4c0d",
   "metadata": {},
   "outputs": [],
   "source": [
    "point_q = input('포인트 적립하시겠습니까? (Y,N)')\n",
    "if y in point_q :\n",
    "    #포인트 적립하기\n",
    "    print()\n",
    "else: \n",
    "    #결제하기"
   ]
  }
 ],
 "metadata": {
  "kernelspec": {
   "display_name": "Python 3 (ipykernel)",
   "language": "python",
   "name": "python3"
  },
  "language_info": {
   "codemirror_mode": {
    "name": "ipython",
    "version": 3
   },
   "file_extension": ".py",
   "mimetype": "text/x-python",
   "name": "python",
   "nbconvert_exporter": "python",
   "pygments_lexer": "ipython3",
   "version": "3.12.9"
  }
 },
 "nbformat": 4,
 "nbformat_minor": 5
}
