{
 "cells": [
  {
   "cell_type": "markdown",
   "id": "9073ac21-8d8b-4190-b624-4ddb887d9cdf",
   "metadata": {},
   "source": [
    "모듈은 파이썬 파일이다. 확장자가 .py여야 한다."
   ]
  },
  {
   "cell_type": "code",
   "execution_count": 2,
   "id": "a9611085-7e61-48d9-a77c-4c30d8ebc6d0",
   "metadata": {},
   "outputs": [
    {
     "name": "stdout",
     "output_type": "stream",
     "text": [
      "jeehun\n"
     ]
    }
   ],
   "source": [
    "import first as fr # 모듈을 실행했다면 이미 메모리로 올라감 \n",
    "fr.my_func3()"
   ]
  },
  {
   "cell_type": "code",
   "execution_count": 3,
   "id": "94d2d6ff-652e-4199-a84e-a35ab23b1a86",
   "metadata": {},
   "outputs": [
    {
     "ename": "AttributeError",
     "evalue": "module 'first' has no attribute 'my_func2'",
     "output_type": "error",
     "traceback": [
      "\u001b[31m---------------------------------------------------------------------------\u001b[39m",
      "\u001b[31mAttributeError\u001b[39m                            Traceback (most recent call last)",
      "\u001b[36mCell\u001b[39m\u001b[36m \u001b[39m\u001b[32mIn[3]\u001b[39m\u001b[32m, line 2\u001b[39m\n\u001b[32m      1\u001b[39m \u001b[38;5;28;01mimport\u001b[39;00m\u001b[38;5;250m \u001b[39m\u001b[34;01mfirst\u001b[39;00m\u001b[38;5;250m \u001b[39m\u001b[38;5;28;01mas\u001b[39;00m\u001b[38;5;250m \u001b[39m\u001b[34;01mfr\u001b[39;00m\n\u001b[32m----> \u001b[39m\u001b[32m2\u001b[39m fr.my_func2()\n",
      "\u001b[31mAttributeError\u001b[39m: module 'first' has no attribute 'my_func2'"
     ]
    }
   ],
   "source": [
    "import first as fr\n",
    "fr.my_func2()"
   ]
  },
  {
   "cell_type": "markdown",
   "id": "a7184265-990b-47f6-b9ca-0e34217f1d2c",
   "metadata": {},
   "source": [
    "# 모듈의 실행 vs 모듈의 import 구분\n",
    "\n",
    "- 모듈 단곡 실행시에만 호출되는 코드<brb>\n",
    "\n",
    "'''\n",
    "if __name__ == '__main__':\n",
    "else:\n",
    "변수설정\n",
    "'''<br>\n",
    "\n",
    "- import 할 때는 실행되지 않는다"
   ]
  },
  {
   "cell_type": "markdown",
   "id": "66c852a3-2d08-4c97-9d74-453536162a3f",
   "metadata": {},
   "source": [
    "# 패키지 : 모듈의 묶음\n",
    "\n",
    "윈도우, 리눅스 : 디렉토리/폴더\n",
    "\n",
    "import 폴더명,모듈명"
   ]
  },
  {
   "cell_type": "code",
   "execution_count": 5,
   "id": "0c5792f6-cc18-4606-9a51-26a477fa486b",
   "metadata": {},
   "outputs": [
    {
     "name": "stderr",
     "output_type": "stream",
     "text": [
      "UsageError: %%writefile is a cell magic, but the cell body is empty.\n"
     ]
    }
   ],
   "source": [
    "%%writefile my_first_package.magic_calc.basic_ops.py"
   ]
  }
 ],
 "metadata": {
  "kernelspec": {
   "display_name": "Python 3 (ipykernel)",
   "language": "python",
   "name": "python3"
  },
  "language_info": {
   "codemirror_mode": {
    "name": "ipython",
    "version": 3
   },
   "file_extension": ".py",
   "mimetype": "text/x-python",
   "name": "python",
   "nbconvert_exporter": "python",
   "pygments_lexer": "ipython3",
   "version": "3.12.9"
  }
 },
 "nbformat": 4,
 "nbformat_minor": 5
}
