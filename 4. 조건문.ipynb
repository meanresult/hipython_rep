{
 "cells": [
  {
   "cell_type": "code",
   "execution_count": 1,
   "id": "0d710769-d321-4c6d-848b-2529155239c5",
   "metadata": {},
   "outputs": [
    {
     "data": {
      "text/plain": [
       "False"
      ]
     },
     "execution_count": 1,
     "metadata": {},
     "output_type": "execute_result"
    }
   ],
   "source": [
    "# 연산자\n",
    "2+3 #산술연산자\n",
    "a=2 #대입연산자\n",
    "a>2 #비교연산자"
   ]
  },
  {
   "cell_type": "code",
   "execution_count": 2,
   "id": "893cadf6-e879-451e-8ee9-1f986017d415",
   "metadata": {},
   "outputs": [
    {
     "data": {
      "text/plain": [
       "(2, 2, 2, 2)"
      ]
     },
     "execution_count": 2,
     "metadata": {},
     "output_type": "execute_result"
    }
   ],
   "source": [
    "b=c=d=a\n",
    "b,c,d,a"
   ]
  },
  {
   "cell_type": "code",
   "execution_count": 4,
   "id": "2f547deb-07f8-4c8e-9e27-5e88bb0193f5",
   "metadata": {},
   "outputs": [
    {
     "data": {
      "text/plain": [
       "True"
      ]
     },
     "execution_count": 4,
     "metadata": {},
     "output_type": "execute_result"
    }
   ],
   "source": [
    "id(b) == id(c)"
   ]
  },
  {
   "cell_type": "markdown",
   "id": "17143fa4-2883-4174-8a9e-03fbae96b333",
   "metadata": {},
   "source": [
    "# 조건문 \n",
    "-  비교연산자를 이용한 부울값이 출력되어야 한다.\n",
    "-  ':' 이후 영역표시는 들여쓰기로 맞춰야 한다 "
   ]
  },
  {
   "cell_type": "code",
   "execution_count": 6,
   "id": "602a5441-1e3e-4cc1-8cd3-c75f49f7a4d5",
   "metadata": {},
   "outputs": [
    {
     "name": "stdout",
     "output_type": "stream",
     "text": [
      "pass\n"
     ]
    }
   ],
   "source": [
    "kor_score = 95\n",
    "\n",
    "#단독 if \n",
    "if kor_score>90 : #True일때만 실행\n",
    "    print('pass')"
   ]
  },
  {
   "cell_type": "code",
   "execution_count": 8,
   "id": "e4d20fa4-2b47-4f0d-bef7-d3d3b8d0ac42",
   "metadata": {},
   "outputs": [
    {
     "name": "stdout",
     "output_type": "stream",
     "text": [
      "pass\n"
     ]
    }
   ],
   "source": [
    "# 한줄 작성\n",
    "if kor_score > 90 : print('pass')"
   ]
  },
  {
   "cell_type": "code",
   "execution_count": 9,
   "id": "bde1602e-3aa6-469c-8158-51d0d0c0964b",
   "metadata": {},
   "outputs": [
    {
     "name": "stdout",
     "output_type": "stream",
     "text": [
      "fail\n"
     ]
    }
   ],
   "source": [
    "if kor_score < 90 :\n",
    "    print('pass')\n",
    "else :\n",
    "    print('fail')"
   ]
  },
  {
   "cell_type": "code",
   "execution_count": 13,
   "id": "a9a88ba8-b5e1-41ab-b071-819f24d4ef30",
   "metadata": {},
   "outputs": [
    {
     "name": "stdout",
     "output_type": "stream",
     "text": [
      "pass\n"
     ]
    }
   ],
   "source": [
    "#한줄로 작성\n",
    "#true일때 실행문 if 조건식 else 'False일 때 실행문;\n",
    "\n",
    "# 에러 if kor_score < 90 : print('pass') else : print('fail')\n",
    "\n",
    "print('pass') if kor_score > 90 else print('fail') # 'true 실행문' + if + 조건식 + else + 'False 실행문' "
   ]
  },
  {
   "cell_type": "code",
   "execution_count": 15,
   "id": "6b089399-9cfd-4160-b005-b8631ab64be5",
   "metadata": {},
   "outputs": [],
   "source": [
    "#삼항 연산자 공부하기\n",
    "# a>b ? print(\"a가 크네\"), print('b가 크네')"
   ]
  },
  {
   "cell_type": "code",
   "execution_count": 20,
   "id": "28e65536-57fc-43b2-b293-486a00128b9c",
   "metadata": {},
   "outputs": [
    {
     "name": "stdin",
     "output_type": "stream",
     "text": [
      "점수를 입력하세요, 숫자로 시발럼아 40\n"
     ]
    },
    {
     "name": "stdout",
     "output_type": "stream",
     "text": [
      "가\n"
     ]
    }
   ],
   "source": [
    "# 중첩 if (nested if)\n",
    "\n",
    "score = int(input('점수를 입력하세요, 숫자로 시발럼아'))\n",
    "\n",
    "if score >= 90:\n",
    "    print('수')\n",
    "else :\n",
    "    if score >= 80 :\n",
    "        print('우')\n",
    "    else :\n",
    "        if score >= 70 :\n",
    "            print('미')\n",
    "        else :\n",
    "            if score >= 60:\n",
    "                print('양')\n",
    "            else :\n",
    "                print('가')"
   ]
  },
  {
   "cell_type": "code",
   "execution_count": 25,
   "id": "c13534f6-a6d8-41b9-8a24-08b62d939af2",
   "metadata": {},
   "outputs": [
    {
     "name": "stdin",
     "output_type": "stream",
     "text": [
      "점수를 입력하세요, 숫자로 시발럼아 80\n"
     ]
    },
    {
     "name": "stdout",
     "output_type": "stream",
     "text": [
      "우\n"
     ]
    }
   ],
   "source": [
    "score = int(input('점수를 입력하세요, 숫자로 시발럼아'))\n",
    "\n",
    "if score >= 90:\n",
    "    print('수')\n",
    "\n",
    "elif score >= 80 :\n",
    "    print('우')\n",
    "\n",
    "elif score >= 70 :\n",
    "    print('미')\n",
    "\n",
    "elif score >= 60:\n",
    "    print('양')\n",
    "else :\n",
    "    pirnt('가')"
   ]
  },
  {
   "cell_type": "code",
   "execution_count": 38,
   "id": "9cfd9c14-d5ae-42e0-9043-fb37f7711e71",
   "metadata": {},
   "outputs": [
    {
     "name": "stdin",
     "output_type": "stream",
     "text": [
      "수식을 입력해 시발럼아. (예, 20*40)  20 ; 30\n"
     ]
    },
    {
     "data": {
      "text/plain": [
       "('20', ';', '30')"
      ]
     },
     "execution_count": 38,
     "metadata": {},
     "output_type": "execute_result"
    }
   ],
   "source": [
    "formula = input('수식을 입력해 시발럼아. (예, 20*40) ')\n",
    "num1, opr, num2 = formula.split()\n",
    "num1, opr, num2"
   ]
  },
  {
   "cell_type": "code",
   "execution_count": 46,
   "id": "84488351-9af6-466f-83f7-438a3f011841",
   "metadata": {},
   "outputs": [
    {
     "name": "stdout",
     "output_type": "stream",
     "text": [
      "지원할 수 없는 연산자입니다.\n"
     ]
    }
   ],
   "source": [
    "#1번재 방법\n",
    "\n",
    "num1 = float(num1)\n",
    "num2 = float(num2)\n",
    "\n",
    "opr_list = ['+', '-', '*']\n",
    "\n",
    "if opr =='*':\n",
    "    result = num1 * num2\n",
    "elif opr == '-' :\n",
    "    result = num1 - num2\n",
    "elif opr == '+' :\n",
    "    result = num1 + num2\n",
    "else :\n",
    "    result = None \n",
    "    \n",
    "if result == None: \n",
    "    print(\"지원할 수 없는 연산자입니다.\")\n",
    "else :\n",
    "    print(f'{num1} {opr} {num2} = {result}')"
   ]
  },
  {
   "cell_type": "code",
   "execution_count": 69,
   "id": "87eac673-eebb-47f2-abb5-3faec39d2025",
   "metadata": {},
   "outputs": [
    {
     "name": "stdin",
     "output_type": "stream",
     "text": [
      "수식을 입력해 시발럼아. (예, 20*40)  45 * 80\n"
     ]
    },
    {
     "name": "stdout",
     "output_type": "stream",
     "text": [
      "45.0 * 80.0 = 3600.0\n"
     ]
    }
   ],
   "source": [
    "#1번재 방법\n",
    "\n",
    "formula = input('수식을 입력해 시발럼아. (예, 20*40) ')\n",
    "num1, opr, num2 = formula.split()\n",
    "num1, opr, num2\n",
    "\n",
    "num1 = float(num1)\n",
    "num2 = float(num2)\n",
    "\n",
    "opr_list = ['+', '-', '*']\n",
    "\n",
    "if opr not in  opr_list :\n",
    "    print('지원하지 않는 연산자입니다.')\n",
    "else :\n",
    "    if opr =='*':\n",
    "        result = num1 * num2\n",
    "    elif opr == '-' :\n",
    "        result = num1 - num2\n",
    "    elif opr == '+' :\n",
    "        result = num1 + num2\n",
    "    else :\n",
    "        result = None \n",
    "    \n",
    "    print(f'{num1} {opr} {num2} = {result}')"
   ]
  },
  {
   "cell_type": "markdown",
   "id": "0e955943-70a7-4111-8d22-6573897fdc08",
   "metadata": {},
   "source": [
    "# 1줄로 쓰기"
   ]
  },
  {
   "cell_type": "code",
   "execution_count": 49,
   "id": "618f2c4e-0d5a-4fd2-bf8e-9af179f0e00b",
   "metadata": {},
   "outputs": [
    {
     "name": "stdout",
     "output_type": "stream",
     "text": [
      "홀수\n"
     ]
    }
   ],
   "source": [
    "num = 7\n",
    "#if num % 2 :print('짝수') else print('홀수')\n",
    "\n",
    "print( '짤수' if num % 2 == 0 else '홀수')"
   ]
  },
  {
   "cell_type": "code",
   "execution_count": 53,
   "id": "ad3a0bde-3e06-4665-9b35-f6973c681a2e",
   "metadata": {},
   "outputs": [
    {
     "name": "stdin",
     "output_type": "stream",
     "text": [
      "졸려? y/n y\n"
     ]
    },
    {
     "name": "stdout",
     "output_type": "stream",
     "text": [
      "쉽시다\n"
     ]
    }
   ],
   "source": [
    "#졸려 = true - 쉽시다, 아니면 화이팅\n",
    "\n",
    "text = input('졸려? y/n')\n",
    "\n",
    "print ('쉽시다' if text =='y' else '화이팅')"
   ]
  },
  {
   "cell_type": "code",
   "execution_count": 54,
   "id": "73595e18-1de9-4445-89ad-3e5a1255b128",
   "metadata": {},
   "outputs": [
    {
     "name": "stdout",
     "output_type": "stream",
     "text": [
      "화이팅\n"
     ]
    }
   ],
   "source": [
    "#강사님 답\n",
    "\n",
    "졸려 = False\n",
    "action = '쉽시다' if 졸려 == True else '화이팅'\n",
    "# or action = '쉽시다' if 졸려 == True else '화이팅'\n",
    "print(action)"
   ]
  },
  {
   "cell_type": "code",
   "execution_count": 55,
   "id": "f80188ae-69a6-4c74-9fcf-9b8fc7adf97e",
   "metadata": {},
   "outputs": [
    {
     "name": "stdin",
     "output_type": "stream",
     "text": [
      "신땡콩은 공주야? (y/n) y\n"
     ]
    }
   ],
   "source": [
    "q = input('신땡콩은 공주야? (y/n)')\n"
   ]
  },
  {
   "cell_type": "code",
   "execution_count": 57,
   "id": "4f35cc76-d36a-4a9a-ad07-74e11774ba00",
   "metadata": {},
   "outputs": [
    {
     "data": {
      "text/plain": [
       "'패'"
      ]
     },
     "execution_count": 57,
     "metadata": {},
     "output_type": "execute_result"
    }
   ],
   "source": [
    "player = '가위'\n",
    "computer = '바위'\n",
    "#result = '승', '패', '무승부'\n",
    "\n",
    "'승' if player == '가위' and computer == '보' else '무승부' if player == computer else '패'"
   ]
  },
  {
   "cell_type": "code",
   "execution_count": 70,
   "id": "8b3ef343-1507-4e7b-bca3-c1c7ab666f87",
   "metadata": {},
   "outputs": [
    {
     "name": "stdin",
     "output_type": "stream",
     "text": [
      "점수를 입력해 시발럼아 87\n"
     ]
    },
    {
     "data": {
      "text/plain": [
       "'B'"
      ]
     },
     "execution_count": 70,
     "metadata": {},
     "output_type": "execute_result"
    }
   ],
   "source": [
    "# 학점 A,B,C,D 출력하는 1줄 조건식 90,80,70,나머지\n",
    "\n",
    "score2 = int(input('점수를 입력해 시발럼아'))\n",
    "result = 'A' if score2 >= 90 else 'B' \\\n",
    "if score2 >= 80 else 'C' \\\n",
    "if score2 >= 70  else 'D' \n",
    "\n",
    "result"
   ]
  },
  {
   "cell_type": "code",
   "execution_count": 63,
   "id": "bdc4daff-c26a-42a0-a429-23ece63b37d6",
   "metadata": {},
   "outputs": [
    {
     "name": "stdout",
     "output_type": "stream",
     "text": [
      "현재 검사 중인 숫자: 1\n",
      "현재 검사 중인 숫자: 3\n",
      "현재 검사 중인 숫자: 5\n",
      "현재 검사 중인 숫자: 7\n",
      "9를 찾았습니다!\n"
     ]
    }
   ],
   "source": [
    "numbers = [1, 3, 5, 7, 9, 11, 13, 15]\n",
    "search_number = 9\n",
    "\n",
    "for num in numbers:\n",
    "    if num == search_number:\n",
    "        print(f\"{search_number}를 찾았습니다!\")\n",
    "        break\n",
    "    print(f\"현재 검사 중인 숫자: {num}\")\n"
   ]
  },
  {
   "cell_type": "code",
   "execution_count": 64,
   "id": "c91b5a76-c542-4db6-81c4-c069a0658cd3",
   "metadata": {},
   "outputs": [
    {
     "name": "stdout",
     "output_type": "stream",
     "text": [
      "2\n",
      "4\n",
      "6\n",
      "8\n",
      "10\n"
     ]
    }
   ],
   "source": [
    "for i in range(1, 11):\n",
    "    if i % 2 != 0:  # 홀수인 경우\n",
    "        continue\n",
    "    print(i)  # 짝수만 출력"
   ]
  },
  {
   "cell_type": "code",
   "execution_count": 66,
   "id": "63057468-0cb1-41e0-bd4c-27d95deb2c2e",
   "metadata": {},
   "outputs": [],
   "source": [
    "condition = True\n",
    "\n",
    "if condition:\n",
    "    pass  # 나중에 구현할 예정\n",
    "else:\n",
    "    print(\"else 구문 실행\")"
   ]
  }
 ],
 "metadata": {
  "kernelspec": {
   "display_name": "Python 3 (ipykernel)",
   "language": "python",
   "name": "python3"
  },
  "language_info": {
   "codemirror_mode": {
    "name": "ipython",
    "version": 3
   },
   "file_extension": ".py",
   "mimetype": "text/x-python",
   "name": "python",
   "nbconvert_exporter": "python",
   "pygments_lexer": "ipython3",
   "version": "3.12.9"
  }
 },
 "nbformat": 4,
 "nbformat_minor": 5
}
