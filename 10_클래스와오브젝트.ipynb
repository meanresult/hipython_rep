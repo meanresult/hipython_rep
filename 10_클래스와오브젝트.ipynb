{
 "cells": [
  {
   "cell_type": "markdown",
   "id": "3231bd22-9b1f-429f-aacd-ad0ef3e062f0",
   "metadata": {},
   "source": [
    "# 파이썬으로 객체지향프로그래밍 OOP\n",
    "\n",
    "Object Oriented Programming\n",
    "\n",
    "파이썬으로 만드는 응용프로그램\n",
    "- 변수 : 전역, 지역\n",
    "- 함수 : 기능을 구현하는 도구\n",
    "- 모듈 : 함수의 모음, 변수의 모음 > .py\n",
    "- CRUD의 구현 : Create, Read, Update, Delete\n",
    "\n",
    "클래스 : 변수 + 함수를 하나로 묶어 주는 구조 개념\n",
    "객체 : 클래스를 이용해서 다수의 객체를 생성\n",
    "\n",
    "객체지향 프로그램 : 객체를 이용하는 프로그램\n",
    "\n",
    "## 모듈과의 차이점은?\n",
    " - class는 모듈보다 더 작게 만들 수 있음 ( 뭔소린지 모르겠엄 ㅋㅋ ) \n",
    " - 비슷한 것들을 만들 때는 Class로 만들어서 복사 후 수정가능 (코드 활용적인 부분에 좋음)"
   ]
  },
  {
   "cell_type": "markdown",
   "id": "87c07797-c9ec-4c34-bfa1-3a7fb4c9952b",
   "metadata": {},
   "source": [
    "## 객체를 만드는 법\n",
    "\n",
    "1. 클래스를 만들기\n",
    "2. 클래스를 이용해 객체를 생성\n",
    "3. 객체의 함수 : 메소드를 호출"
   ]
  },
  {
   "cell_type": "code",
   "execution_count": null,
   "id": "b9f3965b-58f9-43cf-9713-d0a9a87e3dfd",
   "metadata": {},
   "outputs": [],
   "source": []
  },
  {
   "cell_type": "code",
   "execution_count": 14,
   "id": "f0435a0c-c329-4b38-9a96-07cece007d4a",
   "metadata": {},
   "outputs": [],
   "source": [
    "class 신땡콩():\n",
    "    #생성자와 속성 / __init__ = 생성자 , self.color = 속성 \n",
    "    def __init__(self, color,size): # 템플릿 생성 및 템플릿 속성 생성\n",
    "        self.color = color # 객체마다 각각의 속성을 담을 수 있음 인스턴스 변수 \n",
    "        self.size = size \n",
    "\n",
    "    #오버로딩\n",
    "    # def __init__(self, color,size):\n",
    "    #     self.color = color\n",
    "        \n",
    "    def move(self): # 템플릿 내 함수 \n",
    "        print(f'{self.size}의 {self.color} 신땡콩이 걸어갑니다.')\n",
    "    pass\n",
    "    "
   ]
  },
  {
   "cell_type": "code",
   "execution_count": 15,
   "id": "a19da985-eaae-4573-bdd0-396532bc09b0",
   "metadata": {},
   "outputs": [
    {
     "name": "stdout",
     "output_type": "stream",
     "text": [
      "XL의 빨간 신땡콩이 걸어갑니다.\n",
      "L의 파란 신땡콩이 걸어갑니다.\n"
     ]
    }
   ],
   "source": [
    "kong = 신땡콩('빨간','XL') # 객체 생성 \n",
    "kong2 = 신땡콩('파란','L')\n",
    "kong3 = 신땡콩('노란','S')\n",
    "kong.move() #객체 메소드를 호출 \n",
    "kong2.move()"
   ]
  },
  {
   "cell_type": "code",
   "execution_count": 6,
   "id": "94c06c9b-0425-460a-a2ab-22281afc3cda",
   "metadata": {},
   "outputs": [],
   "source": [
    "class digimon:\n",
    "    instance_cnt = 0\n",
    "    \n",
    "    def __init__(self, jong_type, level):\n",
    "        self.jong_type = jong_type\n",
    "        self.level = level\n",
    "        digimon.instance_cnt += 1\n",
    "        print(f'{digimon.instance_cnt}째 디지몬이 생성되었습니다')\n",
    "\n",
    "    def uncover(self):\n",
    "        print(f'{self.jong_type}의 {self.level} 디지몬이 나타났다! ')\n",
    "    pass"
   ]
  },
  {
   "cell_type": "code",
   "execution_count": 7,
   "id": "f7179279-b0a5-42b6-a4c8-314ce625828f",
   "metadata": {},
   "outputs": [
    {
     "name": "stdout",
     "output_type": "stream",
     "text": [
      "1째 디지몬이 생성되었습니다\n",
      "백신형의 궁극체 디지몬이 나타났다! \n"
     ]
    }
   ],
   "source": [
    "di1 = digimon('백신형','궁극체')\n",
    "di1.uncover()\n"
   ]
  },
  {
   "cell_type": "markdown",
   "id": "d670bc2d-7b04-4b6f-9045-fafa718160c3",
   "metadata": {},
   "source": [
    "# 클래스의 속성 - 변수\n",
    "\n",
    "1. 인스턴스 변수\n",
    "2. 클래스 변수"
   ]
  },
  {
   "cell_type": "code",
   "execution_count": 29,
   "id": "f065ea9d-94d2-4995-a8d2-7ca913149924",
   "metadata": {},
   "outputs": [],
   "source": [
    "class Car():\n",
    "    #클래스 변수\n",
    "    instance_cnt = 0\n",
    "\n",
    "    def __init__(self, size):\n",
    "        self.size = size\n",
    "        Car.instance_cnt += 1\n",
    "        print(f'자동차가{Car.instance_cnt}대 생성되었습니다.')\n",
    "\n",
    "    def move(self):\n",
    "        print(f'{self.size}의 자동차가 움직입니다.')"
   ]
  },
  {
   "cell_type": "code",
   "execution_count": 30,
   "id": "7815e580-41e1-471c-a5eb-2dcf043e002f",
   "metadata": {},
   "outputs": [
    {
     "name": "stdout",
     "output_type": "stream",
     "text": [
      "자동차가1대 생성되었습니다.\n",
      "자동차가2대 생성되었습니다.\n",
      "자동차가3대 생성되었습니다.\n",
      "준중형의 자동차가 움직입니다.\n"
     ]
    }
   ],
   "source": [
    "cr1= Car('준중형')\n",
    "cr2= Car('소형')\n",
    "cr3= Car('대형')\n",
    "\n",
    "cr1.move()"
   ]
  },
  {
   "cell_type": "markdown",
   "id": "cf605491-84ab-4e3d-95cc-3476bc80dd7e",
   "metadata": {},
   "source": [
    "# method\n",
    "\n",
    "1. 인스턴스 메소드 : self\n",
    "2. 스태틱(정적) 메소드 :@staticmethod\n",
    "3. 클래스 메소드 : @classmethod"
   ]
  },
  {
   "cell_type": "code",
   "execution_count": 8,
   "id": "b3b7ae67-00c0-484c-8126-7de607d320db",
   "metadata": {},
   "outputs": [],
   "source": [
    "class Calculator:\n",
    "    def __init__(self, x, y): #instance method  객체 생성\n",
    "        self.x = x\n",
    "        self.y = y\n",
    "\n",
    "    def add(self): #instance method 객체의 스태틱 메소드 움직이는ㄴ 거\n",
    "        return self.x + self.y\n",
    "\n",
    "    def multiply(self): #instance method\n",
    "        return self.x * self.y\n"
   ]
  },
  {
   "cell_type": "code",
   "execution_count": 15,
   "id": "732f41d1-2111-48b2-aabe-d284188f9901",
   "metadata": {},
   "outputs": [
    {
     "data": {
      "text/plain": [
       "6"
      ]
     },
     "execution_count": 15,
     "metadata": {},
     "output_type": "execute_result"
    }
   ],
   "source": [
    "\n",
    "cal = Calculator(2,3) #__init__() 생성자 함수를 자동으로 호출 \n",
    "cal.add() #instance method의 호출 > 객체의 참조. 메소드()\n",
    "cal.multiply()"
   ]
  },
  {
   "cell_type": "code",
   "execution_count": 50,
   "id": "e84f838a-578d-4426-93f9-358219ab48bb",
   "metadata": {},
   "outputs": [],
   "source": [
    "class Car():\n",
    "    def auot_cruise(self): #instance\n",
    "        print('자율주행중')\n",
    "        \n",
    "    instance_cnt = 0\n",
    "\n",
    "    def __init__(self, size):\n",
    "        self.size = size\n",
    "        Car.instance_cnt += 1\n",
    "        print(f'자동차가{Car.instance_cnt}대 생성되었습니다.')\n",
    "\n",
    "    @staticmethod # 스태틱 메소드를 사용하면 Self를 사용 안해도됨 / 인스턴스 밖에서 필요 없는 것 \n",
    "    def check_type(code) : #static\n",
    "        if code > 10 :\n",
    "            print('전기신땡콩')\n",
    "        elif 10<= code <= 20:\n",
    "            print('하이브리드신땡콩')\n",
    "        elif code <= 20 :\n",
    "            print('가솔린신땡콩')\n",
    "        else:\n",
    "            print('디젤신땡콩')\n",
    "    @classmethod # 컴퓨터한테 클래스메소드라는 걸 알려줌 그럼 아래 CLS 넣어줘야 함 \n",
    "    def count_instance(cls) : #instance\n",
    "        print(f'자동차 대수 : {cls.instance_cnt}')"
   ]
  },
  {
   "cell_type": "code",
   "execution_count": 41,
   "id": "9fb8ebc2-e0ec-4195-971b-88542f48cbca",
   "metadata": {},
   "outputs": [
    {
     "name": "stdout",
     "output_type": "stream",
     "text": [
      "자동차가2대 생성되었습니다.\n",
      "전기신땡콩\n"
     ]
    }
   ],
   "source": [
    "c1 = Car('중형')\n",
    "c1.check_type(25)"
   ]
  },
  {
   "cell_type": "code",
   "execution_count": 42,
   "id": "b1c6677a-9be2-41f9-b844-8df725897067",
   "metadata": {},
   "outputs": [
    {
     "name": "stdout",
     "output_type": "stream",
     "text": [
      "자동차 대수 : 2\n"
     ]
    }
   ],
   "source": [
    "Car.count_instance()"
   ]
  },
  {
   "cell_type": "code",
   "execution_count": null,
   "id": "76821993-5497-43d3-80df-32c69f73916d",
   "metadata": {},
   "outputs": [],
   "source": [
    "students = [\n",
    "               {'num':'1','name':'김철수','kor':90,'eng':80,'math':85,'total':0,'avg':0.0,'order':0 },\n",
    "               {'num':'2','name':'박제동','kor':90,'eng':85,'math':90,'total':0,'avg':0.0,'order':0 },\n",
    "               {'num':'3','name':'홍길동','kor':80,'eng':80,'math':80,'total':0,'avg':0.0,'order':0 }\n",
    "           ]"
   ]
  },
  {
   "cell_type": "markdown",
   "id": "3f564dfc-9e1e-4e5f-86c7-d270a7087908",
   "metadata": {},
   "source": [
    "## 성적 클래스\n",
    "\n",
    "복습 필요"
   ]
  },
  {
   "cell_type": "code",
   "execution_count": 89,
   "id": "2ec167a9-7fa1-48ac-ac83-fe9c23263dad",
   "metadata": {},
   "outputs": [],
   "source": [
    "import random"
   ]
  },
  {
   "cell_type": "code",
   "execution_count": 191,
   "id": "255ea9d2-f286-4c7c-9494-12a87230902e",
   "metadata": {},
   "outputs": [],
   "source": [
    "\n",
    "\n",
    "class Student():\n",
    "    def __init__(self,num, name, kor, eng, math): #total, avg, order은 파생속성 지금 당장 받을 수 없음 \n",
    "        self.num = num\n",
    "        self.name = name\n",
    "        self.kor = kor\n",
    "        self.eng = eng\n",
    "        self.math = math\n",
    "        self.total = 0\n",
    "        self.avg = 0\n",
    "        self.order = 0\n",
    "\n",
    "    #학생 객체의 정보 출력, instance method\n",
    "    def s_info(self):\n",
    "        print(f'{self.num}, {self.name}, {self.kor}, {self.eng}, {self.math}, {self.total}, {self.order}')\n",
    "\n",
    "    #학생 객체의 총점\n",
    "    def calc_total(self):\n",
    "        self.total = self.kor + self.eng + self.math\n",
    "\n",
    "    #학생 객체의 등수 계산\n",
    "    def set_order(self,order):\n",
    "        self.order = order\n",
    "\n",
    "    # #Object 상속받은 메소드의 재정의 overriding\n",
    "    def __str__(self):\n",
    "        return (f'{self.num}.{self.name}:{self.order}등')"
   ]
  },
  {
   "cell_type": "code",
   "execution_count": 257,
   "id": "187d4206-2099-40a2-bbbb-de1f4a6600c4",
   "metadata": {},
   "outputs": [],
   "source": [
    "class Classroom():\n",
    "    def __init__(self, student_list):\n",
    "        self.students = self.gen_student_data(student_list)\n",
    "        self.name = ''\n",
    "\n",
    "    \n",
    "    def set_name(self, class_name):\n",
    "        self.name = class_name\n",
    "\n",
    "    #클래스의 학생 목록을 생성하는 인스턴스 메소드\n",
    "    def gen_student_data(self,stu_list):\n",
    "        students = [] # 학생 리스트 틀 만들기 \n",
    "        for i, s_name in enumerate(stu_list, start=1): #반 리스트 값을 찾아서 학생리스트 만들기 \n",
    "            s = Student(i,s_name,\n",
    "                       random.randint(50,100),\n",
    "                       random.randint(50,100),\n",
    "                       random.randint(50,100)\n",
    "                       )\n",
    "            \n",
    "            s.calc_total()\n",
    "            # s.s_info()\n",
    "            \n",
    "            students.append(s)\n",
    "            \n",
    "\n",
    "        return students\n",
    "    def calc_order(self): # 전체에서 등수를 비교해야 내 등수를 알 수 있어서 Classroom에 작성필요\n",
    "        for s in self.students:\n",
    "            rank =1 \n",
    "            for other in self.students:\n",
    "                if other.total > s.total:\n",
    "                    rank +=1\n",
    "            s.set_order(rank)\n",
    "            # s.s_info()\n",
    "    #\n",
    "    def print_student_score1(self): # 학생 목록을 보는 함수 \n",
    "        sorted_students = sorted(self.students, key=lambda s: s.order)\n",
    "        for student in self.students:\n",
    "            print(student)\n",
    "    \n",
    "    # #학급정보 리턴함수 __str__\n",
    "    def __str__(self):\n",
    "        return f'학급명: {self.name}'\n",
    "\n",
    "    #학급성적표\n",
    "    #국어 평균, 수학평균, 영어평균, 전체 평균, 학생수\n",
    "    # def print_student_score():\n",
    "    "
   ]
  },
  {
   "cell_type": "markdown",
   "id": "170b26c2-38f0-4122-a8db-bf769d433b51",
   "metadata": {
    "jp-MarkdownHeadingCollapsed": true
   },
   "source": [
    "## 등수순으로 재정렬해보기 복습용 (넘어가도됨)"
   ]
  },
  {
   "cell_type": "code",
   "execution_count": 5,
   "id": "f6488147-3182-43fe-8f5b-e32568ebce06",
   "metadata": {},
   "outputs": [],
   "source": [
    "import random"
   ]
  },
  {
   "cell_type": "code",
   "execution_count": 265,
   "id": "6e57fd3b-a3bb-4ea1-905d-c19f20071e07",
   "metadata": {},
   "outputs": [
    {
     "ename": "AttributeError",
     "evalue": "'Classroom' object has no attribute 'print_student_score1'",
     "output_type": "error",
     "traceback": [
      "\u001b[31m---------------------------------------------------------------------------\u001b[39m",
      "\u001b[31mAttributeError\u001b[39m                            Traceback (most recent call last)",
      "\u001b[36mCell\u001b[39m\u001b[36m \u001b[39m\u001b[32mIn[265]\u001b[39m\u001b[32m, line 13\u001b[39m\n\u001b[32m      8\u001b[39m \u001b[38;5;66;03m# a_class.calc_order()\u001b[39;00m\n\u001b[32m      9\u001b[39m \u001b[38;5;66;03m# a_class.print_student_score()\u001b[39;00m\n\u001b[32m     10\u001b[39m \u001b[38;5;66;03m# a_class.set_name('WN7')\u001b[39;00m\n\u001b[32m     12\u001b[39m b_class.calc_order()\n\u001b[32m---> \u001b[39m\u001b[32m13\u001b[39m b_class.print_student_score1()\n\u001b[32m     14\u001b[39m b_class.set_name(\u001b[33m'\u001b[39m\u001b[33mWN8\u001b[39m\u001b[33m'\u001b[39m)\n",
      "\u001b[31mAttributeError\u001b[39m: 'Classroom' object has no attribute 'print_student_score1'"
     ]
    }
   ],
   "source": [
    "#main process\n",
    "a_class_stu = ['홍길동','박제동','김영희','한사랑']\n",
    "b_class_stu = ['한지훈', '신땡콩', '안재이','이영희']\n",
    "\n",
    "a_class = Classroom(a_class_stu) \n",
    "b_class = Classroom(b_class_stu)\n",
    "\n",
    "# a_class.calc_order()\n",
    "# a_class.print_student_score()\n",
    "# a_class.set_name('WN7')\n",
    "\n",
    "b_class.calc_order()\n",
    "b_class.print_student_score1()\n",
    "b_class.set_name('WN8')\n"
   ]
  },
  {
   "cell_type": "code",
   "execution_count": 1,
   "id": "5a036088-83c6-42fe-aea6-f2e16cc70c8a",
   "metadata": {},
   "outputs": [],
   "source": [
    "\n",
    "\n",
    "class Student():\n",
    "    def __init__(self,num, name, kor, eng, math): #total, avg, order은 파생속성 지금 당장 받을 수 없음 \n",
    "        self.num = num\n",
    "        self.name = name\n",
    "        self.kor = kor\n",
    "        self.eng = eng\n",
    "        self.math = math\n",
    "        self.total = 0\n",
    "        self.avg = 0\n",
    "        self.order = 0\n",
    "\n",
    "    #학생 객체의 정보 출력, instance method\n",
    "    def s_info(self):\n",
    "        print(f'{self.num}, {self.name}, {self.kor}, {self.eng}, {self.math}, {self.total}, {self.order}')\n",
    "\n",
    "    #학생 객체의 총점\n",
    "    def calc_total(self):\n",
    "        self.total = self.kor + self.eng + self.math\n",
    "\n",
    "    #학생 객체의 등수 계산\n",
    "    def set_order(self,order):\n",
    "        self.order = order\n",
    "\n",
    "    # #Object 상속받은 메소드의 재정의 overriding\n",
    "    def __str__(self):\n",
    "        return (f'{self.num}.{self.name}:{self.order}등')"
   ]
  },
  {
   "cell_type": "code",
   "execution_count": 2,
   "id": "638d4a5f-753e-47fe-87e6-ca3d9ddb49ad",
   "metadata": {},
   "outputs": [],
   "source": [
    "# Gpt로 다시 공부\n",
    "\n",
    "# 학급(반) 클래스\n",
    "class Classroom():\n",
    "    # 학급 객체를 만들면 자동으로 실행되는 생성자\n",
    "    def __init__(self, student_list): # 이 함수가 실행이 되면 아래동작들 실행 \n",
    "        # 전달받은 이름 리스트로 학생 객체들 생성\n",
    "        self.students = self.gen_student_data(student_list) #리스트에서 학생 객체들 생성\n",
    "        # 학급 이름 초기화\n",
    "        self.name = ''\n",
    "\n",
    "    # 학급 이름 설정\n",
    "    def set_name(self, class_name):\n",
    "        self.name = class_name\n",
    "\n",
    "    # 학생 목록 생성 (학생 이름 리스트 받아서 Student 객체 리스트로 변환)\n",
    "    def gen_student_data(self, stu_list):\n",
    "        students = []  # 빈 학생 리스트 만들기\n",
    "        for i, s_name in enumerate(stu_list, start=1):\n",
    "            # 이름마다 랜덤 점수로 Student 객체 생성\n",
    "            s = Student(i, s_name,\n",
    "                        random.randint(50, 100),\n",
    "                        random.randint(50, 100),\n",
    "                        random.randint(50, 100)\n",
    "                        )\n",
    "            s.calc_total()   # 총점 계산\n",
    "            students.append(s)  # 리스트에 저장\n",
    "\n",
    "        return students\n",
    "\n",
    "    # 학생들 전체 점수를 비교해 등수를 정하는 메서드\n",
    "    def calc_order(self):\n",
    "        for s in self.students:\n",
    "            rank = 1  # 기본 1등\n",
    "            for other in self.students:\n",
    "                if other.total > s.total:\n",
    "                    rank += 1  # 다른 사람이 점수 높으면 등수 밀림\n",
    "            s.set_order(rank)\n",
    "\n",
    "    # 학생 점수 출력 (등수 기준 정렬)\n",
    "    def print_student_score(self):\n",
    "    # 학생 리스트 전체를 등수 기준으로 정렬한 새 리스트 만들기\n",
    "        sorted_students = sorted(self.students, key=lambda s: s.order)\n",
    "\n",
    "        for student in sorted_students:\n",
    "            print(student)\n",
    "\n",
    "    # 학급 이름 출력\n",
    "    def __str__(self):\n",
    "        return f'학급명: {self.name}'\n"
   ]
  },
  {
   "cell_type": "code",
   "execution_count": 6,
   "id": "9ca61ede-7bb5-4307-b583-a21a177726f6",
   "metadata": {},
   "outputs": [
    {
     "name": "stdout",
     "output_type": "stream",
     "text": [
      "4.이영희:1등\n",
      "3.안재이:2등\n",
      "1.한지훈:3등\n",
      "2.신땡콩:4등\n"
     ]
    }
   ],
   "source": [
    "b_class_stu = ['한지훈', '신땡콩', '안재이','이영희']\n",
    "b_class = Classroom(b_class_stu)\n",
    "\n",
    "b_class.calc_order()\n",
    "b_class.print_student_score()\n",
    "b_class.set_name('WN7')"
   ]
  },
  {
   "cell_type": "markdown",
   "id": "072d3b1e-ad60-45df-9142-5ecf68e854ee",
   "metadata": {
    "jp-MarkdownHeadingCollapsed": true
   },
   "source": [
    "## 객체와 클래스를 사용하는 이유\n",
    "\n",
    "1. 코드 작성과 관리가 편하다 ex) 게임캐릭터 비슷한 것들을 각자 만들어\n",
    "2. 규모가 큰 프로그램(라이브러리)에서 사용한다\n",
    "3. 유사한 객체가 많은 프로그램에서 사용한다 ex)\n"
   ]
  },
  {
   "cell_type": "markdown",
   "id": "2977e2b1-b881-4ef7-903b-234c4af31666",
   "metadata": {},
   "source": [
    "## 개체 지향의 특징\n",
    "\n",
    "- 캡슐화\n",
    "  상속 inhenitance\n",
    "- ekgudtjd polymorphism\n",
    "- \n"
   ]
  },
  {
   "cell_type": "code",
   "execution_count": 206,
   "id": "922d6ca3-711e-40e0-959b-e73f91c73126",
   "metadata": {},
   "outputs": [],
   "source": [
    "class MyClass():\n",
    "    def __init__(self):\n",
    "        self.var1 = 10 #public\n",
    "        self._var2 = 20 #protected\n",
    "        self.__var3 = 30 #private"
   ]
  },
  {
   "cell_type": "code",
   "execution_count": 207,
   "id": "b6544e87-7ee5-487e-8e6d-6751a52df71f",
   "metadata": {},
   "outputs": [
    {
     "data": {
      "text/plain": [
       "10"
      ]
     },
     "execution_count": 207,
     "metadata": {},
     "output_type": "execute_result"
    }
   ],
   "source": [
    "c1 = MyClass()\n",
    "c1.var1"
   ]
  },
  {
   "cell_type": "code",
   "execution_count": 210,
   "id": "4df74bae-4a5e-42df-8b2d-7106bd02d339",
   "metadata": {},
   "outputs": [
    {
     "data": {
      "text/plain": [
       "30"
      ]
     },
     "execution_count": 210,
     "metadata": {},
     "output_type": "execute_result"
    }
   ],
   "source": [
    "c1._var2 =30\n",
    "c1._var2"
   ]
  },
  {
   "cell_type": "markdown",
   "id": "ec334fb0-aef7-4197-aebf-656275098913",
   "metadata": {},
   "source": [
    "## 상속"
   ]
  },
  {
   "cell_type": "code",
   "execution_count": 246,
   "id": "ea573377-1bae-4a6d-b71e-3b986dc4a3f0",
   "metadata": {},
   "outputs": [],
   "source": [
    "class Calculator():\n",
    "    def __init__(self, x,y):\n",
    "        self.x = x\n",
    "        self.y = y\n",
    "        \n",
    "    def add(self):\n",
    "        return self.x + self.y\n",
    "\n",
    "    def subtract(self):\n",
    "        return self.x - self.y\n",
    "    def multiply(self):\n",
    "        return self.x *self.y\n",
    "\n",
    "    def shut(self):\n",
    "        return f'{self.x}와 {self.y}는 부모의 겁니다'"
   ]
  },
  {
   "cell_type": "code",
   "execution_count": 247,
   "id": "d0771a43-f9b4-42ef-b7a9-c565e8921c81",
   "metadata": {},
   "outputs": [],
   "source": [
    "# 자식클래스\n",
    "\n",
    "class AdvancedCalculator(Calculator): #상속\n",
    "    #상속받은 기능 재사용\n",
    "    #def __inti__(self, x,y)\n",
    "    \n",
    "    #자식이 추가한 기능\n",
    "    def divide(self):\n",
    "        if self.y == 0:\n",
    "            return '0으로 나누기 금기'\n",
    "        return self.x / self.y\n",
    "        \n",
    "    #상속받은 기능의 재정의\n",
    "    def add(self):\n",
    "        print('advanced calculator입니다.')\n",
    "        return 0 #super().add()\n",
    "\n",
    "    def shut(self):\n",
    "        print('이제 제겁니다')\n",
    "        return super().shut()\n",
    "\n",
    "    def subtract(self):\n",
    "        print('부모에서 가져옴 ㅋㅋ ')\n",
    "        return super().subtract()\n",
    "\n",
    "    def multiply(self):\n",
    "        print('부모에서 가져옴 ㅋㅋ2')\n",
    "        return super().multiply()"
   ]
  },
  {
   "cell_type": "code",
   "execution_count": 250,
   "id": "39fb3557-b3e4-453a-95f8-9114bdd041b5",
   "metadata": {},
   "outputs": [
    {
     "name": "stdout",
     "output_type": "stream",
     "text": [
      "advanced calculator입니다.\n",
      "이제 제겁니다\n",
      "부모에서 가져옴 ㅋㅋ \n",
      "부모에서 가져옴 ㅋㅋ2\n"
     ]
    },
    {
     "data": {
      "text/plain": [
       "90"
      ]
     },
     "execution_count": 250,
     "metadata": {},
     "output_type": "execute_result"
    }
   ],
   "source": [
    "acalc = AdvancedCalculator(30,3) #얘근 자식클래스이기 때문에 자식클래스 업데이트 기준으로 가져옴\n",
    "acalc.divide()\n",
    "acalc.add()\n",
    "acalc.shut()\n",
    "acalc.subtract()\n",
    "acalc.multiply()"
   ]
  },
  {
   "cell_type": "markdown",
   "id": "a4103b0c-f9ec-4204-9f81-003d422cddb4",
   "metadata": {},
   "source": [
    "# 다형성"
   ]
  },
  {
   "cell_type": "code",
   "execution_count": 18,
   "id": "b6c7ca13-2565-415e-ae46-bed9325080f8",
   "metadata": {},
   "outputs": [],
   "source": [
    "class Animal:\n",
    "    def make_sound(self):\n",
    "        pass\n",
    "\n",
    "class Dog(Animal):\n",
    "    def __init__(self,name):\n",
    "        self.name = name\n",
    "        \n",
    "    def make_sound(self):\n",
    "        return \"멍멍!\"\n",
    "\n",
    "class Cat(Animal):\n",
    "    def __init__(self,name):\n",
    "        self.name = name\n",
    "        \n",
    "    def make_sound(self):\n",
    "        return \"야옹!\""
   ]
  },
  {
   "cell_type": "code",
   "execution_count": 22,
   "id": "4a96bd2e-1a7b-4595-94c9-011bb12118ad",
   "metadata": {},
   "outputs": [
    {
     "name": "stdout",
     "output_type": "stream",
     "text": [
      "멍멍!\n",
      "야옹!\n"
     ]
    }
   ],
   "source": [
    "animals = [Dog(\"\"), Cat(\"\")]\n",
    "for animal in animals:\n",
    "    print(animal.make_sound())  # \"멍멍!\", \"야옹!\" 출력"
   ]
  },
  {
   "cell_type": "code",
   "execution_count": 16,
   "id": "06af05d7-bd1f-436f-904f-c050088871c6",
   "metadata": {},
   "outputs": [
    {
     "data": {
      "text/plain": [
       "(<__main__.Dog at 0x1ddac746090>, <__main__.Cat at 0x1ddac746ff0>)"
      ]
     },
     "execution_count": 16,
     "metadata": {},
     "output_type": "execute_result"
    }
   ],
   "source": [
    "d1 = Dog()\n",
    "d2 = Dog()\n",
    "c1 = Cat()\n",
    "c2 = Cat()\n",
    "\n",
    "animals = [d1,d2,c1,c2]\n",
    "animals[0], animals[2]"
   ]
  },
  {
   "cell_type": "code",
   "execution_count": 17,
   "id": "ebe88f7f-defb-426f-99b1-e1d5d48ec55f",
   "metadata": {},
   "outputs": [
    {
     "name": "stdout",
     "output_type": "stream",
     "text": [
      "<class '__main__.Dog'>\n",
      "멍멍!\n",
      "<class '__main__.Dog'>\n",
      "멍멍!\n",
      "<class '__main__.Cat'>\n",
      "야옹!\n",
      "<class '__main__.Cat'>\n",
      "야옹!\n"
     ]
    }
   ],
   "source": [
    "for ani in animals:\n",
    "    print(type(ani))\n",
    "    print(ani.make_sound())"
   ]
  }
 ],
 "metadata": {
  "kernelspec": {
   "display_name": "Python 3 (ipykernel)",
   "language": "python",
   "name": "python3"
  },
  "language_info": {
   "codemirror_mode": {
    "name": "ipython",
    "version": 3
   },
   "file_extension": ".py",
   "mimetype": "text/x-python",
   "name": "python",
   "nbconvert_exporter": "python",
   "pygments_lexer": "ipython3",
   "version": "3.12.9"
  }
 },
 "nbformat": 4,
 "nbformat_minor": 5
}
