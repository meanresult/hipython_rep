{
 "cells": [
  {
   "cell_type": "markdown",
   "id": "bc091ba5",
   "metadata": {},
   "source": [
    "# defaultdict"
   ]
  },
  {
   "cell_type": "code",
   "execution_count": 4,
   "id": "e72a5d0c",
   "metadata": {},
   "outputs": [],
   "source": [
    "from collections import defaultdict\n"
   ]
  },
  {
   "cell_type": "code",
   "execution_count": 7,
   "id": "cbc202d7",
   "metadata": {},
   "outputs": [
    {
     "name": "stdout",
     "output_type": "stream",
     "text": [
      "defaultdict(<class 'int'>, {'a': 1, 'b': 0, 'c': 2})\n"
     ]
    }
   ],
   "source": [
    "dd=defaultdict(int)\n",
    "dd['a'] = 1\n",
    "dd['b']\n",
    "dd['c'] = 2\n",
    "\n",
    "print(dd)"
   ]
  },
  {
   "cell_type": "code",
   "execution_count": 8,
   "id": "6d8ccd2a",
   "metadata": {},
   "outputs": [
    {
     "data": {
      "text/plain": [
       "[('alice', 90), ('bob', 85), ('charlie', 92), ('alice', 80)]"
      ]
     },
     "execution_count": 8,
     "metadata": {},
     "output_type": "execute_result"
    }
   ],
   "source": [
    "scores = [('alice', 90), ('bob', 85), ('charlie', 92),('alice', 80)]\n",
    "scores"
   ]
  },
  {
   "cell_type": "code",
   "execution_count": 13,
   "id": "2231f1f0",
   "metadata": {},
   "outputs": [
    {
     "data": {
      "text/plain": [
       "{'alice': [90, 80], 'bob': [85], 'charlie': [92]}"
      ]
     },
     "execution_count": 13,
     "metadata": {},
     "output_type": "execute_result"
    }
   ],
   "source": [
    "grouped = defaultdict(list)\n",
    "for name, score in scores:\n",
    "    grouped[name].append(score)\n",
    "    \n",
    "dict(grouped)"
   ]
  },
  {
   "cell_type": "code",
   "execution_count": 14,
   "id": "9dc2fc6e",
   "metadata": {},
   "outputs": [
    {
     "data": {
      "text/plain": [
       "{'b': 1, 'a': 3, 'n': 2}"
      ]
     },
     "execution_count": 14,
     "metadata": {},
     "output_type": "execute_result"
    }
   ],
   "source": [
    "s = 'banana'\n",
    "cnt = defaultdict(int)\n",
    "cnt\n",
    "\n",
    "for char in s :\n",
    "    cnt[char] += 1\n",
    "dict(cnt)"
   ]
  },
  {
   "cell_type": "markdown",
   "id": "4e212b04",
   "metadata": {},
   "source": [
    "# Counter\n",
    "\n",
    "collections 모듈의 클래스, 시퀀스 데이터 - 리스트 문자열의 원소의 갯수를 카운트 "
   ]
  },
  {
   "cell_type": "code",
   "execution_count": 3,
   "id": "23f0fbef",
   "metadata": {},
   "outputs": [
    {
     "data": {
      "text/plain": [
       "Counter({1: 3, 2: 2, 3: 2, 0: 1, 4: 1, 5: 1, 6: 1, 7: 1, 8: 1})"
      ]
     },
     "execution_count": 3,
     "metadata": {},
     "output_type": "execute_result"
    }
   ],
   "source": [
    "from collections import Counter\n",
    "list1 = [0,1,2,3,4,5,6,7,8,1,1,2,3,]\n",
    "\n",
    "c = Counter(list1)\n",
    "c"
   ]
  },
  {
   "cell_type": "code",
   "execution_count": 5,
   "id": "90083254",
   "metadata": {},
   "outputs": [
    {
     "data": {
      "text/plain": [
       "[(1, 3), (2, 2), (3, 2)]"
      ]
     },
     "execution_count": 5,
     "metadata": {},
     "output_type": "execute_result"
    }
   ],
   "source": [
    "c.most_common(3)"
   ]
  },
  {
   "cell_type": "markdown",
   "id": "9a5b0374",
   "metadata": {},
   "source": [
    "# extend()\n",
    "\n",
    "extend() : 리스트에 풀어서 붙인다.   \n",
    "append() : 1개씩 리스트에 추가\n",
    "\n",
    "차이점 GPT한테 물어서 정확하게 파악할 것 \n"
   ]
  },
  {
   "cell_type": "code",
   "execution_count": 6,
   "id": "88ad2578",
   "metadata": {},
   "outputs": [
    {
     "data": {
      "text/plain": [
       "[0, 1, 2, 3, 4, 5, 6, 7, 8, 1, 1, 2, 3, [10, 11], 10, 11]"
      ]
     },
     "execution_count": 6,
     "metadata": {},
     "output_type": "execute_result"
    }
   ],
   "source": [
    "list1 = [0,1,2,3,4,5,6,7,8,1,1,2,3]\n",
    "list1.append([10,11])\n",
    "list1.extend([10,11])\n",
    "list1"
   ]
  }
 ],
 "metadata": {
  "kernelspec": {
   "display_name": "hipython",
   "language": "python",
   "name": "python3"
  },
  "language_info": {
   "codemirror_mode": {
    "name": "ipython",
    "version": 3
   },
   "file_extension": ".py",
   "mimetype": "text/x-python",
   "name": "python",
   "nbconvert_exporter": "python",
   "pygments_lexer": "ipython3",
   "version": "3.12.9"
  }
 },
 "nbformat": 4,
 "nbformat_minor": 5
}
