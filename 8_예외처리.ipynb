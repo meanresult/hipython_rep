{
 "cells": [
  {
   "cell_type": "markdown",
   "id": "8f67a1a9-42e6-4acd-82de-c4196c77ed2a",
   "metadata": {},
   "source": [
    "# 에외의 종류\n",
    "\n",
    "1. 문법오류 : SyntaxError, NameError, TypeError \n",
    "2. 논리오류\n",
    "3. 예외상황"
   ]
  },
  {
   "cell_type": "code",
   "execution_count": 4,
   "id": "39ea8b73-e8a9-4ae7-b090-97791897e6f2",
   "metadata": {},
   "outputs": [
    {
     "ename": "SyntaxError",
     "evalue": "expected ':' (540471744.py, line 1)",
     "output_type": "error",
     "traceback": [
      "  \u001b[36mCell\u001b[39m\u001b[36m \u001b[39m\u001b[32mIn[4]\u001b[39m\u001b[32m, line 1\u001b[39m\n\u001b[31m    \u001b[39m\u001b[31mwhile true\u001b[39m\n              ^\n\u001b[31mSyntaxError\u001b[39m\u001b[31m:\u001b[39m expected ':'\n"
     ]
    }
   ],
   "source": [
    "while true\n",
    "    fdlsj"
   ]
  },
  {
   "cell_type": "code",
   "execution_count": 2,
   "id": "583639ef-aaf3-4ef9-9759-bba595da4433",
   "metadata": {},
   "outputs": [
    {
     "ename": "NameError",
     "evalue": "name 'am' is not defined",
     "output_type": "error",
     "traceback": [
      "\u001b[31m---------------------------------------------------------------------------\u001b[39m",
      "\u001b[31mNameError\u001b[39m                                 Traceback (most recent call last)",
      "\u001b[36mCell\u001b[39m\u001b[36m \u001b[39m\u001b[32mIn[2]\u001b[39m\u001b[32m, line 1\u001b[39m\n\u001b[32m----> \u001b[39m\u001b[32m1\u001b[39m \u001b[32m4\u001b[39m + \u001b[32m2\u001b[39m*am\n",
      "\u001b[31mNameError\u001b[39m: name 'am' is not defined"
     ]
    }
   ],
   "source": [
    "4 + 2*am"
   ]
  },
  {
   "cell_type": "code",
   "execution_count": 5,
   "id": "ff32e548-2b77-41a8-aca6-36acc5495d6b",
   "metadata": {},
   "outputs": [
    {
     "ename": "TypeError",
     "evalue": "unsupported operand type(s) for +: 'int' and 'str'",
     "output_type": "error",
     "traceback": [
      "\u001b[31m---------------------------------------------------------------------------\u001b[39m",
      "\u001b[31mTypeError\u001b[39m                                 Traceback (most recent call last)",
      "\u001b[36mCell\u001b[39m\u001b[36m \u001b[39m\u001b[32mIn[5]\u001b[39m\u001b[32m, line 1\u001b[39m\n\u001b[32m----> \u001b[39m\u001b[32m1\u001b[39m \u001b[32m2\u001b[39m + \u001b[33m'\u001b[39m\u001b[33m2\u001b[39m\u001b[33m'\u001b[39m\n",
      "\u001b[31mTypeError\u001b[39m: unsupported operand type(s) for +: 'int' and 'str'"
     ]
    }
   ],
   "source": [
    "2 + '2'"
   ]
  },
  {
   "cell_type": "markdown",
   "id": "35d021f5-47a7-40b7-81a7-065a8dac5157",
   "metadata": {},
   "source": [
    "# try :\n",
    "\n",
    "except\n"
   ]
  },
  {
   "cell_type": "code",
   "execution_count": 7,
   "id": "5a9150cc-f4ec-471a-8c1e-1d3605e24f8a",
   "metadata": {},
   "outputs": [],
   "source": [
    "# 10/0 ZeroDivisionError"
   ]
  },
  {
   "cell_type": "code",
   "execution_count": 8,
   "id": "2359e988-2085-4b21-a10f-9db383fcc741",
   "metadata": {},
   "outputs": [],
   "source": [
    "def divide(m,n):\n",
    "    return m/n"
   ]
  },
  {
   "cell_type": "code",
   "execution_count": 10,
   "id": "ad405a68-abe5-437e-ae83-8de66a49b2ea",
   "metadata": {},
   "outputs": [
    {
     "data": {
      "text/plain": [
       "0.75"
      ]
     },
     "execution_count": 10,
     "metadata": {},
     "output_type": "execute_result"
    }
   ],
   "source": [
    "result = divide(3,4)\n",
    "result"
   ]
  },
  {
   "cell_type": "code",
   "execution_count": 27,
   "id": "779b4da7-40ed-4177-935c-cfe75d6979c8",
   "metadata": {},
   "outputs": [],
   "source": [
    "def divide(m,n):\n",
    "    try:\n",
    "        result =m/n\n",
    "        return result\n",
    "    except ZeroDivisionError:\n",
    "        print(\"시발 똑바로 입력 안해?\")\n",
    "        return None\n",
    "    except :\n",
    "        print(\"시발 똑바로 입력 안해?3\")\n",
    "        return None\n",
    "\n",
    "    "
   ]
  },
  {
   "cell_type": "code",
   "execution_count": 28,
   "id": "d0b886ec-22e3-47d1-8476-d765b3e9b9d5",
   "metadata": {},
   "outputs": [
    {
     "name": "stdout",
     "output_type": "stream",
     "text": [
      "시발 똑바로 입력 안해?3\n"
     ]
    }
   ],
   "source": [
    "result = divide(None,0)\n",
    "result\n",
    "                "
   ]
  },
  {
   "cell_type": "code",
   "execution_count": 35,
   "id": "0e00946f-67d7-489a-a96b-6260ab5dd374",
   "metadata": {},
   "outputs": [
    {
     "name": "stdout",
     "output_type": "stream",
     "text": [
      "씨이이이발 나랑 지금 장난해?\n",
      "이번 한번 봐줬다\n"
     ]
    }
   ],
   "source": [
    "def jeehun(a,b):\n",
    "    try:\n",
    "        result = a/b\n",
    "        return result \n",
    "    except (ValueError, ZeroDivisionError): #\n",
    "        print(\"씨이이이발 나랑 지금 장난해?\")\n",
    "        return None\n",
    "    finally:\n",
    "        print(\"이번 한번 봐줬다\") # 항상 실행되는 코드 \n",
    "\n",
    "jeehun(2,0)"
   ]
  },
  {
   "cell_type": "markdown",
   "id": "9444947f-9fd8-4ace-a87b-918e06e57251",
   "metadata": {},
   "source": [
    "# 예외 발생시키기"
   ]
  },
  {
   "cell_type": "code",
   "execution_count": 36,
   "id": "623011d0-aaf7-4fa6-865e-90624f83d58a",
   "metadata": {},
   "outputs": [
    {
     "ename": "TypeError",
     "evalue": "ㅅㄱ",
     "output_type": "error",
     "traceback": [
      "\u001b[31m---------------------------------------------------------------------------\u001b[39m",
      "\u001b[31mTypeError\u001b[39m                                 Traceback (most recent call last)",
      "\u001b[36mCell\u001b[39m\u001b[36m \u001b[39m\u001b[32mIn[36]\u001b[39m\u001b[32m, line 1\u001b[39m\n\u001b[32m----> \u001b[39m\u001b[32m1\u001b[39m \u001b[38;5;28;01mraise\u001b[39;00m \u001b[38;5;167;01mTypeError\u001b[39;00m(\u001b[33m'\u001b[39m\u001b[33mㅅㄱ\u001b[39m\u001b[33m'\u001b[39m)\n",
      "\u001b[31mTypeError\u001b[39m: ㅅㄱ"
     ]
    }
   ],
   "source": [
    "raise TypeError('ㅅㄱ')"
   ]
  },
  {
   "cell_type": "code",
   "execution_count": 37,
   "id": "3e042105-adee-46b5-9966-1c1afff9e435",
   "metadata": {},
   "outputs": [
    {
     "name": "stdout",
     "output_type": "stream",
     "text": [
      "('ㅅㄱ',)\n"
     ]
    }
   ],
   "source": [
    "try:\n",
    "    raise TypeError('ㅅㄱ')\n",
    "except TypeError as e :\n",
    "    print(e.args)"
   ]
  },
  {
   "cell_type": "markdown",
   "id": "1c5da1d6-aebf-4ea0-a245-8cf61cd1edaf",
   "metadata": {},
   "source": [
    "# 내가 정의하는 에러\n",
    "\n",
    "1. 예외 클래스 작성: 각 예외상황에 맞는 메세지를 작성\n",
    "2. 호출할 때 try: except 로 받아줍니다 "
   ]
  },
  {
   "cell_type": "code",
   "execution_count": 39,
   "id": "322586c6-3a2e-48b8-9b8f-2f0d41616dc5",
   "metadata": {},
   "outputs": [],
   "source": [
    "#에러가 아닌데 우리가 에러로 만들고 싶은 상황일때 만들기 \n",
    "# ex) 메뉴가 1~3까지만 있는데 음수나 4 이상을 입력하는 경우 등 \n",
    "\n",
    "class AgeException(Exception): \n",
    "    def __init__(self, msg):\n",
    "        self.message = msg\n",
    "\n",
    "def input_age():\n",
    "    age = int(input('나이 입력하라고: '))\n",
    "\n",
    "    if age < 0:\n",
    "        raise AgeException('나이를 거꾸로 먹었어?')\n",
    "    elif age > 150:\n",
    "        raise AgeException('나이 그렇게 먹었어?')\n",
    "    else:\n",
    "        return age\n"
   ]
  },
  {
   "cell_type": "code",
   "execution_count": 44,
   "id": "21954a90-93c4-4da8-848d-62eec0d4f8ba",
   "metadata": {},
   "outputs": [
    {
     "name": "stdin",
     "output_type": "stream",
     "text": [
      "나이 입력하라고:  160\n"
     ]
    },
    {
     "name": "stdout",
     "output_type": "stream",
     "text": [
      "나이 그렇게 먹었어?\n"
     ]
    }
   ],
   "source": [
    "try:\n",
    "    age = input_age()\n",
    "except AgeException as e:\n",
    "    print(e.args[0])\n",
    "else:\n",
    "    print(f'입력하신 나이는 {age}입니다.')"
   ]
  }
 ],
 "metadata": {
  "kernelspec": {
   "display_name": "Python 3 (ipykernel)",
   "language": "python",
   "name": "python3"
  },
  "language_info": {
   "codemirror_mode": {
    "name": "ipython",
    "version": 3
   },
   "file_extension": ".py",
   "mimetype": "text/x-python",
   "name": "python",
   "nbconvert_exporter": "python",
   "pygments_lexer": "ipython3",
   "version": "3.12.9"
  }
 },
 "nbformat": 4,
 "nbformat_minor": 5
}
