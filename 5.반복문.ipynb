{
 "cells": [
  {
   "cell_type": "markdown",
   "id": "f258d3d8-474b-42c9-8bef-5bda6740af27",
   "metadata": {},
   "source": [
    "# 반복문 : for, while"
   ]
  },
  {
   "cell_type": "markdown",
   "id": "86bd46d5-6035-437c-9f5b-36eefd158d9d",
   "metadata": {},
   "source": [
    "# for문\n",
    "\n",
    "for 변수 in 반복자 :\n",
    "반복자에는 리스트, 문자열, 튜플, 딕셔너리, 세트(집합)"
   ]
  },
  {
   "cell_type": "code",
   "execution_count": 1,
   "id": "d383da54-0aa2-4c73-a71c-98cf5454b9be",
   "metadata": {},
   "outputs": [
    {
     "name": "stdout",
     "output_type": "stream",
     "text": [
      "0\n",
      "1\n",
      "2\n",
      "3\n",
      "4\n"
     ]
    }
   ],
   "source": [
    "data = [0,1,2,3,4]\n",
    "\n",
    "for var in data :\n",
    "    print(var)"
   ]
  },
  {
   "cell_type": "code",
   "execution_count": 14,
   "id": "e9f2dd72-facb-4ab3-b121-b9906f7cf308",
   "metadata": {},
   "outputs": [
    {
     "name": "stdout",
     "output_type": "stream",
     "text": [
      "지훈은 짱이다\n",
      "해림은 공주이다\n"
     ]
    }
   ],
   "source": [
    "#딕셔너리\n",
    "\n",
    "dic = {'지훈':'짱', '해림':'공주'}\n",
    "\n",
    "for r,v in dic.items() :\n",
    " print(f'{r}은 {v}이다')"
   ]
  },
  {
   "cell_type": "code",
   "execution_count": 16,
   "id": "f41a162a-888a-4d36-93b6-0e989dc60174",
   "metadata": {},
   "outputs": [
    {
     "name": "stdout",
     "output_type": "stream",
     "text": [
      "지훈\n",
      "땡콩\n"
     ]
    },
    {
     "data": {
      "text/plain": [
       "tuple"
      ]
     },
     "execution_count": 16,
     "metadata": {},
     "output_type": "execute_result"
    }
   ],
   "source": [
    "#튜플\n",
    "\n",
    "x = '지훈','땡콩',\n",
    "\n",
    "for z in x :\n",
    "    print(z)\n",
    "\n",
    "type(x)"
   ]
  },
  {
   "cell_type": "code",
   "execution_count": 19,
   "id": "234237b5-38bd-4028-9506-e9c43709ad41",
   "metadata": {},
   "outputs": [
    {
     "name": "stdout",
     "output_type": "stream",
     "text": [
      "1\n",
      "2\n",
      "3\n",
      "4\n",
      "5\n",
      "6\n",
      "7\n",
      "8\n",
      "9\n"
     ]
    },
    {
     "data": {
      "text/plain": [
       "range"
      ]
     },
     "execution_count": 19,
     "metadata": {},
     "output_type": "execute_result"
    }
   ],
   "source": [
    "#range\n",
    "ran = range(1,10)\n",
    "\n",
    "for x in range(1,10) :\n",
    "    print(x)\n",
    "\n",
    "type(ran)\n"
   ]
  },
  {
   "cell_type": "markdown",
   "id": "b78fa6ee-8a6d-4f59-9990-f53204056b58",
   "metadata": {},
   "source": [
    "#range의 활용\n",
    "\n",
    "# range(1,10,2)\n",
    "start, stop, step = 1 default"
   ]
  },
  {
   "cell_type": "code",
   "execution_count": 23,
   "id": "c1fbd5b0-2b0a-486b-844a-416165465dc3",
   "metadata": {},
   "outputs": [
    {
     "data": {
      "text/plain": [
       "[0, 2, 4, 6, 8]"
      ]
     },
     "execution_count": 23,
     "metadata": {},
     "output_type": "execute_result"
    }
   ],
   "source": [
    "list(range(0,10,2))"
   ]
  },
  {
   "cell_type": "code",
   "execution_count": 26,
   "id": "74626d73-4837-48ce-a064-68276ce98e7b",
   "metadata": {},
   "outputs": [
    {
     "name": "stdout",
     "output_type": "stream",
     "text": [
      "5050\n"
     ]
    }
   ],
   "source": [
    "#1~100까지 합 구하기\n",
    "sum1 = 0\n",
    "\n",
    "for i in range(1,101) :\n",
    "    sum1 += i\n",
    "print(sum1)"
   ]
  },
  {
   "cell_type": "code",
   "execution_count": 28,
   "id": "e69365eb-4273-40f3-a775-8ac63c2d222d",
   "metadata": {},
   "outputs": [
    {
     "name": "stdout",
     "output_type": "stream",
     "text": [
      "1683\n"
     ]
    }
   ],
   "source": [
    "#3의 배구의 합(1~100)\n",
    "\n",
    "sum2 = 0\n",
    "\n",
    "for i2 in range(3,101,3) :\n",
    "    sum2 += i2\n",
    "print(sum2)"
   ]
  },
  {
   "cell_type": "code",
   "execution_count": 29,
   "id": "d2f35e19-75a1-4a84-8890-dde1d52ca230",
   "metadata": {},
   "outputs": [
    {
     "data": {
      "text/plain": [
       "0"
      ]
     },
     "execution_count": 29,
     "metadata": {},
     "output_type": "execute_result"
    }
   ],
   "source": [
    "# 선생님 답 \n",
    "\n",
    "sum3 = 0 \n",
    "for i3 in range(1,101):\n",
    "    if(i%3) == 0 :\n",
    "        sum3 += i\n",
    "sum3"
   ]
  },
  {
   "cell_type": "code",
   "execution_count": 30,
   "id": "fab88981-6387-435e-8b6e-ca6404890f77",
   "metadata": {},
   "outputs": [
    {
     "name": "stdout",
     "output_type": "stream",
     "text": [
      "a\n",
      "b\n",
      "c\n"
     ]
    }
   ],
   "source": [
    "char_list = ['a','b','c']\n",
    "\n",
    "for x in char_list:\n",
    "    print(x)"
   ]
  },
  {
   "cell_type": "code",
   "execution_count": 31,
   "id": "e7af9809-5709-458e-b6c6-28f126b973c9",
   "metadata": {},
   "outputs": [
    {
     "name": "stdout",
     "output_type": "stream",
     "text": [
      "0 a\n",
      "1 b\n",
      "2 c\n"
     ]
    }
   ],
   "source": [
    "char_list = ['a','b','c']\n",
    "\n",
    "for u,o in enumerate(char_list):\n",
    "    print(u,o)"
   ]
  },
  {
   "cell_type": "code",
   "execution_count": 32,
   "id": "84c6315c-bfab-406e-bd7a-dd043b5e12d0",
   "metadata": {},
   "outputs": [
    {
     "data": {
      "text/plain": [
       "<zip at 0x1d13c43e840>"
      ]
     },
     "execution_count": 32,
     "metadata": {},
     "output_type": "execute_result"
    }
   ],
   "source": [
    "char_list_2 = ['hello','hi','good-bye']\n",
    "zip(char_list, char_list_2)"
   ]
  },
  {
   "cell_type": "code",
   "execution_count": 34,
   "id": "6228e001-51b1-4ca1-8ab0-24274918930e",
   "metadata": {},
   "outputs": [
    {
     "name": "stdout",
     "output_type": "stream",
     "text": [
      "('a', 'hello')\n",
      "('b', 'hi')\n",
      "('c', 'good-bye')\n"
     ]
    }
   ],
   "source": [
    "for item in zip(char_list, char_list_2):\n",
    "    print(item) # 형태는 튜플 "
   ]
  },
  {
   "cell_type": "code",
   "execution_count": 52,
   "id": "3bd8fa0d-6036-46c9-ac64-7c65e22ae363",
   "metadata": {},
   "outputs": [
    {
     "name": "stdout",
     "output_type": "stream",
     "text": [
      "2 x 1 = 2\n",
      "2 x 2 = 4\n",
      "2 x 3 = 6\n",
      "2 x 4 = 8\n",
      "2 x 5 = 10\n",
      "2 x 6 = 12\n",
      "2 x 7 = 14\n",
      "2 x 8 = 16\n",
      "2 x 9 = 18\n"
     ]
    }
   ],
   "source": [
    "#99단\n",
    "#2 x 1 =2 \n",
    "\n",
    "li_1 = 1,2,3,4,5,6,7,8,9\n",
    "li_2 = 2\n",
    "\n",
    "for i in range(1,10):\n",
    "    print(f'2 x {i} = {2*i}')"
   ]
  },
  {
   "cell_type": "code",
   "execution_count": 51,
   "id": "06af70f0-a285-4baa-ad5f-d677de2e97d6",
   "metadata": {},
   "outputs": [
    {
     "ename": "SyntaxError",
     "evalue": "invalid syntax (1567851010.py, line 7)",
     "output_type": "error",
     "traceback": [
      "  \u001b[36mCell\u001b[39m\u001b[36m \u001b[39m\u001b[32mIn[51]\u001b[39m\u001b[32m, line 7\u001b[39m\n\u001b[31m    \u001b[39m\u001b[31mwhile li1, li2 in zip(li_1, li_2) :\u001b[39m\n             ^\n\u001b[31mSyntaxError\u001b[39m\u001b[31m:\u001b[39m invalid syntax\n"
     ]
    }
   ],
   "source": [
    "#99단\n",
    "#2 x 1 =2 \n",
    "\n",
    "li_1 = 1,2,3,4,5,6,7,8,9\n",
    "li_2 = 1,2,3,4,5,6,7,8,9\n",
    "\n",
    "while li1, li2 in zip(li_1, li_2) :\n",
    "    print(f'{li2} x {li1} = {li1*li2}')"
   ]
  },
  {
   "cell_type": "code",
   "execution_count": 63,
   "id": "74e786fb-ea6b-4d1d-ab73-b6732fe9b856",
   "metadata": {},
   "outputs": [
    {
     "name": "stdout",
     "output_type": "stream",
     "text": [
      "미션임파서블 이 영화의 평점은 🍕🍕🍕🍕입니다\n",
      "미치광이 피에로 이 영화의 평점은 🍕🍕🍕입니다\n",
      "씨너스 이 영화의 평점은 🍕🍕🍕입니다\n"
     ]
    }
   ],
   "source": [
    "movie_dict = {'미션임파서블':4, '미치광이 피에로':3, '씨너스':3}\n",
    "\n",
    "for k,v in movie_dict.items():\n",
    "    print(f'{k} 이 영화의 평점은 {'🍕'*v}입니다')"
   ]
  },
  {
   "cell_type": "code",
   "execution_count": 57,
   "id": "07f90571-ac32-44c2-9a65-ebd692ab989a",
   "metadata": {},
   "outputs": [
    {
     "name": "stdout",
     "output_type": "stream",
     "text": [
      "---1---\n",
      "1x1=1\n",
      "1x2=2\n",
      "1x3=3\n",
      "1x4=4\n",
      "1x5=5\n",
      "1x6=6\n",
      "1x7=7\n",
      "1x8=8\n",
      "1x9=9\n",
      "\n",
      "---2---\n",
      "2x1=2\n",
      "2x2=4\n",
      "2x3=6\n",
      "2x4=8\n",
      "2x5=10\n",
      "2x6=12\n",
      "2x7=14\n",
      "2x8=16\n",
      "2x9=18\n",
      "\n",
      "---3---\n",
      "3x1=3\n",
      "3x2=6\n",
      "3x3=9\n",
      "3x4=12\n",
      "3x5=15\n",
      "3x6=18\n",
      "3x7=21\n",
      "3x8=24\n",
      "3x9=27\n",
      "\n",
      "---4---\n",
      "4x1=4\n",
      "4x2=8\n",
      "4x3=12\n",
      "4x4=16\n",
      "4x5=20\n",
      "4x6=24\n",
      "4x7=28\n",
      "4x8=32\n",
      "4x9=36\n",
      "\n",
      "---5---\n",
      "5x1=5\n",
      "5x2=10\n",
      "5x3=15\n",
      "5x4=20\n",
      "5x5=25\n",
      "5x6=30\n",
      "5x7=35\n",
      "5x8=40\n",
      "5x9=45\n",
      "\n",
      "---6---\n",
      "6x1=6\n",
      "6x2=12\n",
      "6x3=18\n",
      "6x4=24\n",
      "6x5=30\n",
      "6x6=36\n",
      "6x7=42\n",
      "6x8=48\n",
      "6x9=54\n",
      "\n",
      "---7---\n",
      "7x1=7\n",
      "7x2=14\n",
      "7x3=21\n",
      "7x4=28\n",
      "7x5=35\n",
      "7x6=42\n",
      "7x7=49\n",
      "7x8=56\n",
      "7x9=63\n",
      "\n",
      "---8---\n",
      "8x1=8\n",
      "8x2=16\n",
      "8x3=24\n",
      "8x4=32\n",
      "8x5=40\n",
      "8x6=48\n",
      "8x7=56\n",
      "8x8=64\n",
      "8x9=72\n",
      "\n",
      "---9---\n",
      "9x1=9\n",
      "9x2=18\n",
      "9x3=27\n",
      "9x4=36\n",
      "9x5=45\n",
      "9x6=54\n",
      "9x7=63\n",
      "9x8=72\n",
      "9x9=81\n",
      "\n"
     ]
    }
   ],
   "source": [
    "for dan in range(1,10) :\n",
    "    print(f'---{dan}---')\n",
    "    for i in range(1,10) :\n",
    "        print(f'{dan}x{i}={dan*i}')\n",
    "    print()"
   ]
  },
  {
   "cell_type": "code",
   "execution_count": 66,
   "id": "2e049b6f-94b3-4626-b5ac-6c63f57a779e",
   "metadata": {},
   "outputs": [
    {
     "name": "stdout",
     "output_type": "stream",
     "text": [
      "*\n",
      "**\n",
      "***\n",
      "****\n",
      "*****\n",
      "******\n",
      "*******\n",
      "********\n",
      "*********\n"
     ]
    }
   ],
   "source": [
    "ran = range(1,10)\n",
    "\n",
    "for q in ran :\n",
    "    print(q*'*')"
   ]
  },
  {
   "cell_type": "code",
   "execution_count": 73,
   "id": "5224a05d-3f4c-466a-a2f1-39567ae54d00",
   "metadata": {},
   "outputs": [
    {
     "name": "stdout",
     "output_type": "stream",
     "text": [
      "*********\n",
      "********\n",
      "*******\n",
      "******\n",
      "*****\n",
      "****\n",
      "***\n",
      "**\n",
      "*\n"
     ]
    }
   ],
   "source": [
    "ran = range(1,10)\n",
    "ran2 = 10\n",
    "for q in ran :\n",
    "    print((10-q)*'*')"
   ]
  },
  {
   "cell_type": "code",
   "execution_count": 82,
   "id": "6c73f80a-ca16-470e-a43b-16b4f01490f0",
   "metadata": {},
   "outputs": [
    {
     "name": "stdout",
     "output_type": "stream",
     "text": [
      "*\n",
      "**\n",
      "***\n",
      "****\n",
      "*****\n",
      "******\n",
      "*******\n",
      "********\n",
      "*********\n",
      "**********\n",
      "*********\n",
      "********\n",
      "*******\n",
      "******\n",
      "*****\n",
      "****\n",
      "***\n",
      "**\n",
      "*\n"
     ]
    }
   ],
   "source": [
    "ran = range(1,20)\n",
    "sum5 = 0\n",
    "\n",
    "for q in ran :\n",
    "    if q <= 10 :\n",
    "        print(q*'*')\n",
    "    else :\n",
    "        print((20-q)*'*')"
   ]
  },
  {
   "cell_type": "markdown",
   "id": "f041f830-4429-4525-b01e-a120728e1a03",
   "metadata": {},
   "source": [
    "# while"
   ]
  },
  {
   "cell_type": "code",
   "execution_count": 4,
   "id": "aa3412e4-20e6-44a4-9798-ceb8b07a63e9",
   "metadata": {},
   "outputs": [
    {
     "data": {
      "text/plain": [
       "6"
      ]
     },
     "execution_count": 4,
     "metadata": {},
     "output_type": "execute_result"
    }
   ],
   "source": [
    "sum = 0\n",
    "for i in range(6):\n",
    "    sum += 1\n",
    "sum"
   ]
  },
  {
   "cell_type": "code",
   "execution_count": null,
   "id": "d3d391e7-e5d9-49fc-8495-4858ef144779",
   "metadata": {},
   "outputs": [],
   "source": [
    "# 뭘 하고 싶은지 생각해보기 \n",
    "\n",
    "i=0\n",
    "while True :\n",
    "    if i>6:\n",
    "        break\n",
    "    sum += i\n",
    "    i +1\n",
    "print(sum)"
   ]
  },
  {
   "cell_type": "code",
   "execution_count": 26,
   "id": "d84126c6-1b05-411a-b0f3-de1b8caeb641",
   "metadata": {},
   "outputs": [
    {
     "data": {
      "text/plain": [
       "1767"
      ]
     },
     "execution_count": 26,
     "metadata": {},
     "output_type": "execute_result"
    }
   ],
   "source": [
    "while i<6:\n",
    "    i += 1\n",
    "    sum += i\n",
    "sum"
   ]
  },
  {
   "cell_type": "code",
   "execution_count": 1,
   "id": "edf6a2b9-466c-4a59-833d-826ce2dedb97",
   "metadata": {},
   "outputs": [
    {
     "data": {
      "text/plain": [
       "45"
      ]
     },
     "execution_count": 1,
     "metadata": {},
     "output_type": "execute_result"
    }
   ],
   "source": [
    "sum(range(1,10)) #ㅇ"
   ]
  },
  {
   "cell_type": "markdown",
   "id": "399cb7b6-eda9-4e2c-9529-0cf3ab9fae73",
   "metadata": {},
   "source": [
    "# 리스트 컴프리헨션\n",
    "\n",
    "[ 리스트요소 for <1개> in <반복범위>]"
   ]
  },
  {
   "cell_type": "code",
   "execution_count": 11,
   "id": "8c0d7438-3638-47e8-b787-63cf9ba82254",
   "metadata": {},
   "outputs": [
    {
     "data": {
      "text/plain": [
       "[5, 10, 15, 20, 25]"
      ]
     },
     "execution_count": 11,
     "metadata": {},
     "output_type": "execute_result"
    }
   ],
   "source": [
    "numbers = [1,2,3,4,5]\n",
    "squares = [num*5 for num in numbers]\n",
    "squares"
   ]
  },
  {
   "cell_type": "markdown",
   "id": "91dc5440-b75e-424e-ad03-9c116a9920ee",
   "metadata": {},
   "source": [
    "### 리스트 컴프리헨션 + 조건식"
   ]
  },
  {
   "cell_type": "code",
   "execution_count": 12,
   "id": "c98eaf76-2f62-4099-88d3-43f3e45f748d",
   "metadata": {},
   "outputs": [
    {
     "data": {
      "text/plain": [
       "[0, 2, 4, 6, 8, 5, 6, 7, 8, 9]"
      ]
     },
     "execution_count": 12,
     "metadata": {},
     "output_type": "execute_result"
    }
   ],
   "source": [
    "# 조건식과 for과 결합된 식\n",
    "test_list = []\n",
    "\n",
    "for x in range(10):\n",
    "    if x<5:\n",
    "        test_list.append(x*2)\n",
    "    else :\n",
    "        test_list.append(x)\n",
    "test_list"
   ]
  },
  {
   "cell_type": "code",
   "execution_count": 17,
   "id": "dca13222-b78a-41b0-8a12-6240b156340e",
   "metadata": {},
   "outputs": [
    {
     "data": {
      "text/plain": [
       "[0, 1, 2, 3, 4]"
      ]
     },
     "execution_count": 17,
     "metadata": {},
     "output_type": "execute_result"
    }
   ],
   "source": [
    "# 리스트컴프리헨션을 이용한 변환, 필터 \n",
    "\n",
    "#이건 필터\n",
    "[ x for x in range(10)  if x<5]\n",
    "\n",
    "#이건 변환\n",
    "[ x*2 if x<5 else x for x in range(10)]"
   ]
  },
  {
   "cell_type": "code",
   "execution_count": 15,
   "id": "6ac819c8-7608-454b-b8fd-17324c3d9da2",
   "metadata": {},
   "outputs": [
    {
     "data": {
      "text/plain": [
       "[0, 2, 4, 6, 8, 5, 6, 7, 8, 9]"
      ]
     },
     "execution_count": 15,
     "metadata": {},
     "output_type": "execute_result"
    }
   ],
   "source": [
    "#로또 번호 당첨 여부 확인\n",
    "my_numbers = [3, 11, 17, 23, 38, 42]\n",
    "win_numbers = [7, 14, 23, 32, 38, 45]\n",
    "\n",
    "for num in my_numbers:\n",
    "    if num in win_numbers:\n",
    "        print(f\"🎉 당첨 번호 있음! ({num})\")\n",
    "        break\n",
    "else:\n",
    "    print(\"😢 꽝입니다.\")"
   ]
  },
  {
   "cell_type": "code",
   "execution_count": null,
   "id": "c84ad876-872a-45cf-9ff1-8fd25001b46b",
   "metadata": {},
   "outputs": [],
   "source": [
    "my_numbers = [3, 11, 17, 23, 38, 42]\n",
    "win_numbers = [7, 14, 23, 32, 38, 45]\n",
    "\n",
    "[print(f\"🎉 당첨 번호 있음! ({num})\") if num in win_numbers else print(\"😢 꽝입니다.\")  for num in my_numbers]"
   ]
  },
  {
   "cell_type": "code",
   "execution_count": 2,
   "id": "c3b4dba0-13e9-4e58-938b-ba17fde647ee",
   "metadata": {},
   "outputs": [
    {
     "name": "stdout",
     "output_type": "stream",
     "text": [
      "[23, 38]\n"
     ]
    }
   ],
   "source": [
    "my_numbers = [3, 11, 17, 23, 38, 42]\n",
    "win_numbers = [7, 14, 23, 32, 38, 45]\n",
    "\n",
    "matched = [num for num in my_numbers if num in win_numbers]\n",
    "if matched :\n",
    "        print(matched)\n",
    "else:\n",
    "        print(\"꽝입니다\")\n"
   ]
  },
  {
   "cell_type": "code",
   "execution_count": null,
   "id": "04bce955-490e-4d1e-8b85-4b80b7d7391a",
   "metadata": {},
   "outputs": [],
   "source": [
    "my_numbers = [3, 11, 17, 23, 38, 42]\n",
    "win_numbers = [7, 14, 23, 32, 38, 45]\n",
    "\n",
    "matched = [ num for num in my_numbers if num in win_numbers ] \n",
    "if matched :\n",
    "    print(matched)\n",
    "else:\n",
    "    print(\"😢 꽝입니다.\")  \n",
    "print(f' 당첨' if matched else f'꽝')"
   ]
  },
  {
   "cell_type": "code",
   "execution_count": null,
   "id": "d2a7e21f-5ce2-4588-9f8b-62cb37ad4f2f",
   "metadata": {},
   "outputs": [],
   "source": [
    "multiples = [ x for in range(1, 21) if x % 3== 0]\n"
   ]
  },
  {
   "cell_type": "markdown",
   "id": "30f3a7c2-73fc-4f89-aac1-e1db284558ea",
   "metadata": {},
   "source": [
    "# Iterator, Generator\n",
    "\n",
    "- iterable : for의 in에 나올 수 있는 객체의 유형\n",
    "- 이터레이터 : iter(), enumerate(), for문에서 next() 직접 호출\n",
    "- 제너레이터 : 사용자 정의함수 중에서 yield 사용한 패턴 - yield 기준으로 하나씩 실행\n",
    "- for나 while은 한번에 반복적으로 실행하는데 yield는 한번에 한번씩만 나옴 "
   ]
  },
  {
   "cell_type": "code",
   "execution_count": 7,
   "id": "2fc3d377-bc86-487f-9829-c748e6dc5e64",
   "metadata": {},
   "outputs": [
    {
     "data": {
      "text/plain": [
       "True"
      ]
     },
     "execution_count": 7,
     "metadata": {},
     "output_type": "execute_result"
    }
   ],
   "source": [
    "from collections.abc import Iterable\n",
    "\n",
    "isinstance('hello',Iterable)\n"
   ]
  },
  {
   "cell_type": "code",
   "execution_count": 8,
   "id": "b82e3ca2-36b3-4e2a-a50c-a4e45847f490",
   "metadata": {},
   "outputs": [
    {
     "data": {
      "text/plain": [
       "True"
      ]
     },
     "execution_count": 8,
     "metadata": {},
     "output_type": "execute_result"
    }
   ],
   "source": [
    "isinstance('hello',Iterable)"
   ]
  },
  {
   "cell_type": "code",
   "execution_count": 20,
   "id": "f714168c-397d-4fb2-baa6-8650c6ada031",
   "metadata": {},
   "outputs": [
    {
     "data": {
      "text/plain": [
       "'h'"
      ]
     },
     "execution_count": 20,
     "metadata": {},
     "output_type": "execute_result"
    }
   ],
   "source": [
    "itr_test_str = 'hello'\n",
    "itr_obj = iter(itr_test_str)\n",
    "\n",
    "type(itr_obj)\n",
    "\n",
    "itr_obj.__next__()"
   ]
  },
  {
   "cell_type": "code",
   "execution_count": 15,
   "id": "6c9b9aec-2e45-4b50-b81f-f4aaef0a71d5",
   "metadata": {},
   "outputs": [
    {
     "ename": "StopIteration",
     "evalue": "",
     "output_type": "error",
     "traceback": [
      "\u001b[31m---------------------------------------------------------------------------\u001b[39m",
      "\u001b[31mStopIteration\u001b[39m                             Traceback (most recent call last)",
      "\u001b[36mCell\u001b[39m\u001b[36m \u001b[39m\u001b[32mIn[15]\u001b[39m\u001b[32m, line 1\u001b[39m\n\u001b[32m----> \u001b[39m\u001b[32m1\u001b[39m itr_obj.\u001b[34m__next__\u001b[39m()\n",
      "\u001b[31mStopIteration\u001b[39m: "
     ]
    }
   ],
   "source": [
    "itr_obj.__next__() # 곡 이터를 선정한 것과 나눠서 실행할 것 "
   ]
  },
  {
   "cell_type": "code",
   "execution_count": 1,
   "id": "f1b308d4-5d74-4dc9-8d2c-308ae4d98bc9",
   "metadata": {},
   "outputs": [
    {
     "data": {
      "text/plain": [
       "<list_iterator at 0x1a19562a860>"
      ]
     },
     "execution_count": 1,
     "metadata": {},
     "output_type": "execute_result"
    }
   ],
   "source": [
    "itr_test_lst = [10,20,30]\n",
    "iter(itr_test_lst)"
   ]
  },
  {
   "cell_type": "code",
   "execution_count": 2,
   "id": "8bc4c007-6fa9-4380-9208-0b4ed7b9c116",
   "metadata": {},
   "outputs": [
    {
     "data": {
      "text/plain": [
       "list_iterator"
      ]
     },
     "execution_count": 2,
     "metadata": {},
     "output_type": "execute_result"
    }
   ],
   "source": [
    "itr_obj_1 = iter(itr_test_lst) # 이건 파이썬이 내장하고 있는 함수 \n",
    "type(itr_obj_1)"
   ]
  },
  {
   "cell_type": "code",
   "execution_count": 5,
   "id": "41350c07-bb16-4590-a4a2-5848c87eb199",
   "metadata": {},
   "outputs": [
    {
     "data": {
      "text/plain": [
       "30"
      ]
     },
     "execution_count": 5,
     "metadata": {},
     "output_type": "execute_result"
    }
   ],
   "source": [
    "itr_obj_1.__next__() # 이건 메서드 "
   ]
  },
  {
   "cell_type": "code",
   "execution_count": 35,
   "id": "d03ed896-a10c-4aaa-82d5-797c6278cc69",
   "metadata": {},
   "outputs": [
    {
     "name": "stdout",
     "output_type": "stream",
     "text": [
      "0 10\n",
      "1 20\n",
      "2 30\n"
     ]
    }
   ],
   "source": [
    "itr_obj_1 = iter(itr_test_str)\n",
    "\n",
    "for i, item in enumerate(itr_obj_1):\n",
    "    print(i, item)"
   ]
  },
  {
   "cell_type": "code",
   "execution_count": 40,
   "id": "b3d0ec0e-a743-4813-af20-8f67169e85c1",
   "metadata": {},
   "outputs": [
    {
     "name": "stdout",
     "output_type": "stream",
     "text": [
      "(0, 'h')\n",
      "(1, 'e')\n",
      "(2, 'l')\n",
      "(3, 'l')\n",
      "(4, 'o')\n"
     ]
    }
   ],
   "source": [
    "msg = 'hello'\n",
    "for i in enumerate(msg):\n",
    "    print(i)"
   ]
  },
  {
   "cell_type": "code",
   "execution_count": 43,
   "id": "a988e7ad-0bf2-4f78-8e15-79c756058fd0",
   "metadata": {},
   "outputs": [
    {
     "data": {
      "text/plain": [
       "<generator object gen_자판기 at 0x000001E287122770>"
      ]
     },
     "execution_count": 43,
     "metadata": {},
     "output_type": "execute_result"
    }
   ],
   "source": [
    "def gen_자판기() :\n",
    "    yield '신땡콩1'\n",
    "    yield '신땡콩2'\n",
    "    yield '신땡콩3'\n",
    "    yield '신땡콩4'\n",
    "    yield '신땡콩4'\n",
    "    yield '신땡콩4'\n",
    "    yield '신땡콩4'\n",
    "    yield '신땡콩4'\n",
    "    yield '신땡콩4'\n",
    "    \n",
    "    \n",
    "\n",
    "gen_자판기()"
   ]
  },
  {
   "cell_type": "code",
   "execution_count": 45,
   "id": "f8da4227-c494-47c9-8276-d9683baca1b5",
   "metadata": {},
   "outputs": [
    {
     "data": {
      "text/plain": [
       "'신땡콩1'"
      ]
     },
     "execution_count": 45,
     "metadata": {},
     "output_type": "execute_result"
    }
   ],
   "source": [
    "gen = gen_자판기()\n",
    "next(gen)"
   ]
  },
  {
   "cell_type": "code",
   "execution_count": 48,
   "id": "63117e63-b9f4-4e11-a41e-a9bd2410bec2",
   "metadata": {},
   "outputs": [
    {
     "data": {
      "text/plain": [
       "'신땡콩4'"
      ]
     },
     "execution_count": 48,
     "metadata": {},
     "output_type": "execute_result"
    }
   ],
   "source": [
    "next(gen)"
   ]
  },
  {
   "cell_type": "code",
   "execution_count": 51,
   "id": "02fe5339-1037-4044-94eb-cd809ae7ae48",
   "metadata": {},
   "outputs": [],
   "source": [
    "def 제곱머신():\n",
    "    for x in range(10):\n",
    "        yield x**2\n",
    "\n",
    "\n",
    "g_m = 제곱머신()"
   ]
  },
  {
   "cell_type": "code",
   "execution_count": 69,
   "id": "869fd582-f27f-40cd-8d88-41ce9fa536dc",
   "metadata": {},
   "outputs": [
    {
     "ename": "StopIteration",
     "evalue": "",
     "output_type": "error",
     "traceback": [
      "\u001b[31m---------------------------------------------------------------------------\u001b[39m",
      "\u001b[31mStopIteration\u001b[39m                             Traceback (most recent call last)",
      "\u001b[36mCell\u001b[39m\u001b[36m \u001b[39m\u001b[32mIn[69]\u001b[39m\u001b[32m, line 1\u001b[39m\n\u001b[32m----> \u001b[39m\u001b[32m1\u001b[39m \u001b[38;5;28mnext\u001b[39m(g_m)\n",
      "\u001b[31mStopIteration\u001b[39m: "
     ]
    }
   ],
   "source": [
    "next(g_m)"
   ]
  },
  {
   "cell_type": "code",
   "execution_count": 70,
   "id": "22c2f0b0-85af-4ef8-8836-758739b05da0",
   "metadata": {},
   "outputs": [],
   "source": [
    "for n in g_m:\n",
    "    print(n)"
   ]
  },
  {
   "cell_type": "code",
   "execution_count": 22,
   "id": "7780890b-e344-459f-a0c8-d171537321ce",
   "metadata": {},
   "outputs": [],
   "source": [
    "def loading():\n",
    "    while True:\n",
    "        for dot in ['.', '..', '...']:\n",
    "            yield dot"
   ]
  },
  {
   "cell_type": "code",
   "execution_count": 31,
   "id": "09d9d9d7-c03b-48e2-ba4c-bdb326e2b34b",
   "metadata": {},
   "outputs": [
    {
     "name": "stdout",
     "output_type": "stream",
     "text": [
      "<generator object loading at 0x000001A19641DB40>\n"
     ]
    }
   ],
   "source": [
    "load = loading()\n",
    "\n",
    "print(load)"
   ]
  }
 ],
 "metadata": {
  "kernelspec": {
   "display_name": "Python 3 (ipykernel)",
   "language": "python",
   "name": "python3"
  },
  "language_info": {
   "codemirror_mode": {
    "name": "ipython",
    "version": 3
   },
   "file_extension": ".py",
   "mimetype": "text/x-python",
   "name": "python",
   "nbconvert_exporter": "python",
   "pygments_lexer": "ipython3",
   "version": "3.12.9"
  }
 },
 "nbformat": 4,
 "nbformat_minor": 5
}
